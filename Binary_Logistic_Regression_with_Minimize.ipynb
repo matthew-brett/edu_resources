{
 "cells": [
  {
   "cell_type": "markdown",
   "metadata": {},
   "source": [
    "# Binary Logistic Regression\n",
    "\n",
    "In this section we will look at another classification technique (which is common in the health and social sciences): logistic regression.\n",
    "\n",
    "Logistic regression is used when you want to predict a <i> binary categorical </i> outcome variable from one or more predictors. \n",
    "\n",
    "A binary categorical variable is one where an observation can fall into one of two classes. Some examples are:\n",
    "\n",
    "* is a patient dead/alive 6 months after treatment?\n",
    "\n",
    "\n",
    "* did a patient experience more than one episode of psychosis in the last 5 years (yes/no)?\n",
    "\n",
    "\n",
    "* did a criminal will re-offend (yes/no)?\n",
    "\n",
    "\n",
    "For this tutorial, we will return to the chronic kidney disease (CKD) dataset. Remember, each row in this dataset represents one patient. \n",
    "\n",
    "For each patient, it is known whether or not they had chronic kidney disease. This is a binary categorical variable, and it is shown in the 'Class' column: a score of 1 means the patient did have CKD; a score of 0 means they did not. \n",
    "\n",
    "The rest of the columns are different measurements from a blood test."
   ]
  },
  {
   "cell_type": "code",
   "execution_count": 1,
   "metadata": {},
   "outputs": [
    {
     "data": {
      "text/html": [
       "<div>\n",
       "<style scoped>\n",
       "    .dataframe tbody tr th:only-of-type {\n",
       "        vertical-align: middle;\n",
       "    }\n",
       "\n",
       "    .dataframe tbody tr th {\n",
       "        vertical-align: top;\n",
       "    }\n",
       "\n",
       "    .dataframe thead th {\n",
       "        text-align: right;\n",
       "    }\n",
       "</style>\n",
       "<table border=\"1\" class=\"dataframe\">\n",
       "  <thead>\n",
       "    <tr style=\"text-align: right;\">\n",
       "      <th></th>\n",
       "      <th>Age</th>\n",
       "      <th>Blood Pressure</th>\n",
       "      <th>Specific Gravity</th>\n",
       "      <th>Albumin</th>\n",
       "      <th>Sugar</th>\n",
       "      <th>Red Blood Cells</th>\n",
       "      <th>Pus Cell</th>\n",
       "      <th>Pus Cell clumps</th>\n",
       "      <th>Bacteria</th>\n",
       "      <th>Blood Glucose Random</th>\n",
       "      <th>...</th>\n",
       "      <th>Packed Cell Volume</th>\n",
       "      <th>White Blood Cell Count</th>\n",
       "      <th>Red Blood Cell Count</th>\n",
       "      <th>Hypertension</th>\n",
       "      <th>Diabetes Mellitus</th>\n",
       "      <th>Coronary Artery Disease</th>\n",
       "      <th>Appetite</th>\n",
       "      <th>Pedal Edema</th>\n",
       "      <th>Anemia</th>\n",
       "      <th>Class</th>\n",
       "    </tr>\n",
       "  </thead>\n",
       "  <tbody>\n",
       "    <tr>\n",
       "      <th>0</th>\n",
       "      <td>48</td>\n",
       "      <td>70</td>\n",
       "      <td>1.005</td>\n",
       "      <td>4</td>\n",
       "      <td>0</td>\n",
       "      <td>normal</td>\n",
       "      <td>abnormal</td>\n",
       "      <td>present</td>\n",
       "      <td>notpresent</td>\n",
       "      <td>117</td>\n",
       "      <td>...</td>\n",
       "      <td>32</td>\n",
       "      <td>6700</td>\n",
       "      <td>3.9</td>\n",
       "      <td>yes</td>\n",
       "      <td>no</td>\n",
       "      <td>no</td>\n",
       "      <td>poor</td>\n",
       "      <td>yes</td>\n",
       "      <td>yes</td>\n",
       "      <td>1</td>\n",
       "    </tr>\n",
       "    <tr>\n",
       "      <th>1</th>\n",
       "      <td>53</td>\n",
       "      <td>90</td>\n",
       "      <td>1.020</td>\n",
       "      <td>2</td>\n",
       "      <td>0</td>\n",
       "      <td>abnormal</td>\n",
       "      <td>abnormal</td>\n",
       "      <td>present</td>\n",
       "      <td>notpresent</td>\n",
       "      <td>70</td>\n",
       "      <td>...</td>\n",
       "      <td>29</td>\n",
       "      <td>12100</td>\n",
       "      <td>3.7</td>\n",
       "      <td>yes</td>\n",
       "      <td>yes</td>\n",
       "      <td>no</td>\n",
       "      <td>poor</td>\n",
       "      <td>no</td>\n",
       "      <td>yes</td>\n",
       "      <td>1</td>\n",
       "    </tr>\n",
       "    <tr>\n",
       "      <th>2</th>\n",
       "      <td>63</td>\n",
       "      <td>70</td>\n",
       "      <td>1.010</td>\n",
       "      <td>3</td>\n",
       "      <td>0</td>\n",
       "      <td>abnormal</td>\n",
       "      <td>abnormal</td>\n",
       "      <td>present</td>\n",
       "      <td>notpresent</td>\n",
       "      <td>380</td>\n",
       "      <td>...</td>\n",
       "      <td>32</td>\n",
       "      <td>4500</td>\n",
       "      <td>3.8</td>\n",
       "      <td>yes</td>\n",
       "      <td>yes</td>\n",
       "      <td>no</td>\n",
       "      <td>poor</td>\n",
       "      <td>yes</td>\n",
       "      <td>no</td>\n",
       "      <td>1</td>\n",
       "    </tr>\n",
       "    <tr>\n",
       "      <th>3</th>\n",
       "      <td>68</td>\n",
       "      <td>80</td>\n",
       "      <td>1.010</td>\n",
       "      <td>3</td>\n",
       "      <td>2</td>\n",
       "      <td>normal</td>\n",
       "      <td>abnormal</td>\n",
       "      <td>present</td>\n",
       "      <td>present</td>\n",
       "      <td>157</td>\n",
       "      <td>...</td>\n",
       "      <td>16</td>\n",
       "      <td>11000</td>\n",
       "      <td>2.6</td>\n",
       "      <td>yes</td>\n",
       "      <td>yes</td>\n",
       "      <td>yes</td>\n",
       "      <td>poor</td>\n",
       "      <td>yes</td>\n",
       "      <td>no</td>\n",
       "      <td>1</td>\n",
       "    </tr>\n",
       "    <tr>\n",
       "      <th>4</th>\n",
       "      <td>61</td>\n",
       "      <td>80</td>\n",
       "      <td>1.015</td>\n",
       "      <td>2</td>\n",
       "      <td>0</td>\n",
       "      <td>abnormal</td>\n",
       "      <td>abnormal</td>\n",
       "      <td>notpresent</td>\n",
       "      <td>notpresent</td>\n",
       "      <td>173</td>\n",
       "      <td>...</td>\n",
       "      <td>24</td>\n",
       "      <td>9200</td>\n",
       "      <td>3.2</td>\n",
       "      <td>yes</td>\n",
       "      <td>yes</td>\n",
       "      <td>yes</td>\n",
       "      <td>poor</td>\n",
       "      <td>yes</td>\n",
       "      <td>yes</td>\n",
       "      <td>1</td>\n",
       "    </tr>\n",
       "  </tbody>\n",
       "</table>\n",
       "<p>5 rows × 25 columns</p>\n",
       "</div>"
      ],
      "text/plain": [
       "   Age  Blood Pressure  Specific Gravity  Albumin  Sugar Red Blood Cells  \\\n",
       "0   48              70             1.005        4      0          normal   \n",
       "1   53              90             1.020        2      0        abnormal   \n",
       "2   63              70             1.010        3      0        abnormal   \n",
       "3   68              80             1.010        3      2          normal   \n",
       "4   61              80             1.015        2      0        abnormal   \n",
       "\n",
       "   Pus Cell Pus Cell clumps    Bacteria  Blood Glucose Random  ...  \\\n",
       "0  abnormal         present  notpresent                   117  ...   \n",
       "1  abnormal         present  notpresent                    70  ...   \n",
       "2  abnormal         present  notpresent                   380  ...   \n",
       "3  abnormal         present     present                   157  ...   \n",
       "4  abnormal      notpresent  notpresent                   173  ...   \n",
       "\n",
       "   Packed Cell Volume  White Blood Cell Count  Red Blood Cell Count  \\\n",
       "0                  32                    6700                   3.9   \n",
       "1                  29                   12100                   3.7   \n",
       "2                  32                    4500                   3.8   \n",
       "3                  16                   11000                   2.6   \n",
       "4                  24                    9200                   3.2   \n",
       "\n",
       "   Hypertension  Diabetes Mellitus  Coronary Artery Disease  Appetite  \\\n",
       "0           yes                 no                       no      poor   \n",
       "1           yes                yes                       no      poor   \n",
       "2           yes                yes                       no      poor   \n",
       "3           yes                yes                      yes      poor   \n",
       "4           yes                yes                      yes      poor   \n",
       "\n",
       "   Pedal Edema Anemia Class  \n",
       "0          yes    yes     1  \n",
       "1           no    yes     1  \n",
       "2          yes     no     1  \n",
       "3          yes     no     1  \n",
       "4          yes    yes     1  \n",
       "\n",
       "[5 rows x 25 columns]"
      ]
     },
     "execution_count": 1,
     "metadata": {},
     "output_type": "execute_result"
    }
   ],
   "source": [
    "import pandas as pd\n",
    "import numpy as np\n",
    "import matplotlib.pyplot as plt\n",
    "\n",
    "df = pd.read_csv('https://raw.githubusercontent.com/data-8/materials-sp18/master/lec/ckd.csv')\n",
    "df.head()"
   ]
  },
  {
   "cell_type": "markdown",
   "metadata": {},
   "source": [
    "There are actually a large number of binary categorical variables in this dataset. The cell below shows the unique values which are in each column of the dataframe which contains labels (strings, rather than numbers).\n",
    "\n",
    "In each of these columns, the observations fall into one of two classes, so they are binary categorical variables. The printout below shows these variables, and the two values they can each take."
   ]
  },
  {
   "cell_type": "code",
   "execution_count": 2,
   "metadata": {},
   "outputs": [
    {
     "name": "stdout",
     "output_type": "stream",
     "text": [
      "\n",
      "Unique values in the Red Blood Cells column:\n",
      "['normal' 'abnormal']\n",
      "\n",
      "Unique values in the Pus Cell column:\n",
      "['abnormal' 'normal']\n",
      "\n",
      "Unique values in the Pus Cell clumps column:\n",
      "['present' 'notpresent']\n",
      "\n",
      "Unique values in the Bacteria column:\n",
      "['notpresent' 'present']\n",
      "\n",
      "Unique values in the Hypertension column:\n",
      "['yes' 'no']\n",
      "\n",
      "Unique values in the Diabetes Mellitus column:\n",
      "['no' 'yes']\n",
      "\n",
      "Unique values in the Coronary Artery Disease column:\n",
      "['no' 'yes']\n",
      "\n",
      "Unique values in the Appetite column:\n",
      "['poor' 'good']\n",
      "\n",
      "Unique values in the Pedal Edema column:\n",
      "['yes' 'no']\n",
      "\n",
      "Unique values in the Anemia column:\n",
      "['yes' 'no']\n"
     ]
    }
   ],
   "source": [
    "# do not worry about this code, it just generates the printout below\n",
    "\n",
    "for i in df.columns[np.where(df.dtypes == 'object')]:\n",
    "    \n",
    "    print('\\nUnique values in the', i, 'column:')\n",
    "    print(df[i].unique())"
   ]
  },
  {
   "cell_type": "markdown",
   "metadata": {},
   "source": [
    "Let's say we are interested in the relationship between Red Blood Cell Count and whether a patient has anemia or not.\n",
    "\n",
    "Let's have a look at just the two columns we are interested in."
   ]
  },
  {
   "cell_type": "code",
   "execution_count": 3,
   "metadata": {},
   "outputs": [
    {
     "data": {
      "text/html": [
       "<div>\n",
       "<style scoped>\n",
       "    .dataframe tbody tr th:only-of-type {\n",
       "        vertical-align: middle;\n",
       "    }\n",
       "\n",
       "    .dataframe tbody tr th {\n",
       "        vertical-align: top;\n",
       "    }\n",
       "\n",
       "    .dataframe thead th {\n",
       "        text-align: right;\n",
       "    }\n",
       "</style>\n",
       "<table border=\"1\" class=\"dataframe\">\n",
       "  <thead>\n",
       "    <tr style=\"text-align: right;\">\n",
       "      <th></th>\n",
       "      <th>Red Blood Cell Count</th>\n",
       "      <th>Anemia</th>\n",
       "    </tr>\n",
       "  </thead>\n",
       "  <tbody>\n",
       "    <tr>\n",
       "      <th>0</th>\n",
       "      <td>3.9</td>\n",
       "      <td>yes</td>\n",
       "    </tr>\n",
       "    <tr>\n",
       "      <th>1</th>\n",
       "      <td>3.7</td>\n",
       "      <td>yes</td>\n",
       "    </tr>\n",
       "    <tr>\n",
       "      <th>2</th>\n",
       "      <td>3.8</td>\n",
       "      <td>no</td>\n",
       "    </tr>\n",
       "    <tr>\n",
       "      <th>3</th>\n",
       "      <td>2.6</td>\n",
       "      <td>no</td>\n",
       "    </tr>\n",
       "    <tr>\n",
       "      <th>4</th>\n",
       "      <td>3.2</td>\n",
       "      <td>yes</td>\n",
       "    </tr>\n",
       "    <tr>\n",
       "      <th>...</th>\n",
       "      <td>...</td>\n",
       "      <td>...</td>\n",
       "    </tr>\n",
       "    <tr>\n",
       "      <th>153</th>\n",
       "      <td>4.9</td>\n",
       "      <td>no</td>\n",
       "    </tr>\n",
       "    <tr>\n",
       "      <th>154</th>\n",
       "      <td>6.2</td>\n",
       "      <td>no</td>\n",
       "    </tr>\n",
       "    <tr>\n",
       "      <th>155</th>\n",
       "      <td>5.4</td>\n",
       "      <td>no</td>\n",
       "    </tr>\n",
       "    <tr>\n",
       "      <th>156</th>\n",
       "      <td>5.9</td>\n",
       "      <td>no</td>\n",
       "    </tr>\n",
       "    <tr>\n",
       "      <th>157</th>\n",
       "      <td>6.1</td>\n",
       "      <td>no</td>\n",
       "    </tr>\n",
       "  </tbody>\n",
       "</table>\n",
       "<p>158 rows × 2 columns</p>\n",
       "</div>"
      ],
      "text/plain": [
       "     Red Blood Cell Count Anemia\n",
       "0                     3.9    yes\n",
       "1                     3.7    yes\n",
       "2                     3.8     no\n",
       "3                     2.6     no\n",
       "4                     3.2    yes\n",
       "..                    ...    ...\n",
       "153                   4.9     no\n",
       "154                   6.2     no\n",
       "155                   5.4     no\n",
       "156                   5.9     no\n",
       "157                   6.1     no\n",
       "\n",
       "[158 rows x 2 columns]"
      ]
     },
     "execution_count": 3,
     "metadata": {},
     "output_type": "execute_result"
    }
   ],
   "source": [
    "red_blood_anemia = df[['Red Blood Cell Count', 'Anemia']].copy()\n",
    "\n",
    "red_blood_anemia"
   ]
  },
  {
   "cell_type": "markdown",
   "metadata": {},
   "source": [
    "## Dummy Variables\n",
    "\n",
    "For logistic regression, instead of using labels like 'no' or 'yes' we use <i> dummy variables. </i>\n",
    "\n",
    "This means we will use the number 1 to represent one of the labels, and the number 0 to represent the other label. \n",
    "\n",
    "We can use ```np.where``` to create dummy variables; this is shown in the cell below.\n",
    "\n",
    "<i> Note: </i> when you are doing this, be sure to keep track of which label you have coded as 1. Normally this would be the more interesting outcome (in this case, 'Yes' is coded as 1). Keep track of it, as it will affect the interpretation of the regression coefficients."
   ]
  },
  {
   "cell_type": "code",
   "execution_count": 4,
   "metadata": {},
   "outputs": [
    {
     "data": {
      "text/plain": [
       "array([1, 1, 0, 0, 1, 1, 0, 0, 0, 0, 0, 0, 1, 0, 0, 0, 0, 0, 1, 1, 0, 0,\n",
       "       1, 1, 0, 0, 1, 1, 0, 0, 0, 1, 0, 1, 0, 0, 0, 0, 0, 1, 1, 0, 1, 0,\n",
       "       0, 0, 0, 0, 0, 0, 0, 0, 0, 0, 0, 0, 0, 0, 0, 0, 0, 0, 0, 0, 0, 0,\n",
       "       0, 0, 0, 0, 0, 0, 0, 0, 0, 0, 0, 0, 0, 0, 0, 0, 0, 0, 0, 0, 0, 0,\n",
       "       0, 0, 0, 0, 0, 0, 0, 0, 0, 0, 0, 0, 0, 0, 0, 0, 0, 0, 0, 0, 0, 0,\n",
       "       0, 0, 0, 0, 0, 0, 0, 0, 0, 0, 0, 0, 0, 0, 0, 0, 0, 0, 0, 0, 0, 0,\n",
       "       0, 0, 0, 0, 0, 0, 0, 0, 0, 0, 0, 0, 0, 0, 0, 0, 0, 0, 0, 0, 0, 0,\n",
       "       0, 0, 0, 0])"
      ]
     },
     "execution_count": 4,
     "metadata": {},
     "output_type": "execute_result"
    }
   ],
   "source": [
    "anemia_dummy = np.where(red_blood_anemia ['Anemia'] == 'yes', 1, 0) # 1 where Anemia == 'yes'\n",
    "                                                                      # 0 where Anemia == 'no'\n",
    "\n",
    "anemia_dummy"
   ]
  },
  {
   "cell_type": "markdown",
   "metadata": {},
   "source": [
    "Let's add the dummy variable to the `red_blood_anemia` dataframe."
   ]
  },
  {
   "cell_type": "code",
   "execution_count": 5,
   "metadata": {},
   "outputs": [
    {
     "data": {
      "text/html": [
       "<div>\n",
       "<style scoped>\n",
       "    .dataframe tbody tr th:only-of-type {\n",
       "        vertical-align: middle;\n",
       "    }\n",
       "\n",
       "    .dataframe tbody tr th {\n",
       "        vertical-align: top;\n",
       "    }\n",
       "\n",
       "    .dataframe thead th {\n",
       "        text-align: right;\n",
       "    }\n",
       "</style>\n",
       "<table border=\"1\" class=\"dataframe\">\n",
       "  <thead>\n",
       "    <tr style=\"text-align: right;\">\n",
       "      <th></th>\n",
       "      <th>Red Blood Cell Count</th>\n",
       "      <th>Anemia</th>\n",
       "      <th>Anemia_dummy</th>\n",
       "    </tr>\n",
       "  </thead>\n",
       "  <tbody>\n",
       "    <tr>\n",
       "      <th>0</th>\n",
       "      <td>3.9</td>\n",
       "      <td>yes</td>\n",
       "      <td>1</td>\n",
       "    </tr>\n",
       "    <tr>\n",
       "      <th>1</th>\n",
       "      <td>3.7</td>\n",
       "      <td>yes</td>\n",
       "      <td>1</td>\n",
       "    </tr>\n",
       "    <tr>\n",
       "      <th>2</th>\n",
       "      <td>3.8</td>\n",
       "      <td>no</td>\n",
       "      <td>0</td>\n",
       "    </tr>\n",
       "    <tr>\n",
       "      <th>3</th>\n",
       "      <td>2.6</td>\n",
       "      <td>no</td>\n",
       "      <td>0</td>\n",
       "    </tr>\n",
       "    <tr>\n",
       "      <th>4</th>\n",
       "      <td>3.2</td>\n",
       "      <td>yes</td>\n",
       "      <td>1</td>\n",
       "    </tr>\n",
       "    <tr>\n",
       "      <th>...</th>\n",
       "      <td>...</td>\n",
       "      <td>...</td>\n",
       "      <td>...</td>\n",
       "    </tr>\n",
       "    <tr>\n",
       "      <th>153</th>\n",
       "      <td>4.9</td>\n",
       "      <td>no</td>\n",
       "      <td>0</td>\n",
       "    </tr>\n",
       "    <tr>\n",
       "      <th>154</th>\n",
       "      <td>6.2</td>\n",
       "      <td>no</td>\n",
       "      <td>0</td>\n",
       "    </tr>\n",
       "    <tr>\n",
       "      <th>155</th>\n",
       "      <td>5.4</td>\n",
       "      <td>no</td>\n",
       "      <td>0</td>\n",
       "    </tr>\n",
       "    <tr>\n",
       "      <th>156</th>\n",
       "      <td>5.9</td>\n",
       "      <td>no</td>\n",
       "      <td>0</td>\n",
       "    </tr>\n",
       "    <tr>\n",
       "      <th>157</th>\n",
       "      <td>6.1</td>\n",
       "      <td>no</td>\n",
       "      <td>0</td>\n",
       "    </tr>\n",
       "  </tbody>\n",
       "</table>\n",
       "<p>158 rows × 3 columns</p>\n",
       "</div>"
      ],
      "text/plain": [
       "     Red Blood Cell Count Anemia  Anemia_dummy\n",
       "0                     3.9    yes             1\n",
       "1                     3.7    yes             1\n",
       "2                     3.8     no             0\n",
       "3                     2.6     no             0\n",
       "4                     3.2    yes             1\n",
       "..                    ...    ...           ...\n",
       "153                   4.9     no             0\n",
       "154                   6.2     no             0\n",
       "155                   5.4     no             0\n",
       "156                   5.9     no             0\n",
       "157                   6.1     no             0\n",
       "\n",
       "[158 rows x 3 columns]"
      ]
     },
     "execution_count": 5,
     "metadata": {},
     "output_type": "execute_result"
    }
   ],
   "source": [
    "red_blood_anemia['Anemia_dummy'] = anemia_dummy\n",
    "\n",
    "red_blood_anemia"
   ]
  },
  {
   "cell_type": "markdown",
   "metadata": {},
   "source": [
    "Now we have the dummy variable, let's use a scatter plot visualise the relationship between Reb Blood Cell Count and whether a patient has anemia:"
   ]
  },
  {
   "cell_type": "code",
   "execution_count": 6,
   "metadata": {},
   "outputs": [
    {
     "data": {
      "image/png": "[encoded data removed]",
      "text/plain": [
       "<Figure size 720x288 with 1 Axes>"
      ]
     },
     "metadata": {
      "needs_background": "light"
     },
     "output_type": "display_data"
    }
   ],
   "source": [
    "# do not worry about this code, it just generates the graph\n",
    "\n",
    "plt.figure(figsize = (10, 4))\n",
    "plt.scatter(red_blood_anemia['Red Blood Cell Count'], red_blood_anemia['Anemia_dummy'], label = 'not anemic')\n",
    "plt.scatter(red_blood_anemia[red_blood_anemia['Anemia'] == 'yes']['Red Blood Cell Count'], \n",
    "                             red_blood_anemia[red_blood_anemia['Anemia'] == 'yes']['Anemia_dummy'], color = 'red',\n",
    "            label = 'anemic')\n",
    "plt.xlabel('Red Blood Cell Count')\n",
    "plt.ylabel('Anemia \\n(0 = no, 1 = yes)')\n",
    "plt.legend()\n",
    "plt.yticks([0,1]);"
   ]
  },
  {
   "cell_type": "markdown",
   "metadata": {},
   "source": [
    "From graphical inspection, it does look like these variables (perhaps unsurprisingly!) are related.\n",
    "\n",
    "We can see that patients with anemia have lower red blood cell counts.\n",
    "\n",
    "## Probability and Odds\n",
    "\n",
    "For logistic regression, in contrast to linear regression, we are interested in predicting the <i> probability of an observation falling into a particular outcome class, </i> rather than predicting the numerical value of the outcome score. \n",
    "\n",
    "In this case, we are interested in the probability of a patient having anemia, predicted from the patient's Red Blood Cell Count. \n",
    "\n",
    "From the graph above, it looks as those there is a higher probability of having anemia if you have a lower Red Blood Cell Count. We can see this because a higher proportion of the red dots (representing patients with anemia) occur at lower values of Red Blood Cell Count.\n",
    "\n",
    "You'll know that probability is:\n",
    "\n",
    "$$ \\frac{\\text{number of events of interest}}{\\text{total number of events}} $$"
   ]
  },
  {
   "cell_type": "markdown",
   "metadata": {},
   "source": [
    "If we want to know how many people have anemia out of a group of 100 people, the probability of having anemia is:\n",
    "\n",
    "$$ \\frac{\\text{number of people with anemia}}{\\text{total number of people}} $$"
   ]
  },
  {
   "cell_type": "markdown",
   "metadata": {},
   "source": [
    "So if there are 100 people, and 30 of them have anemia, the probability of having anemia (in that group) is:\n",
    "\n",
    "$$ \\frac{\\text{number of people with anemia}}{\\text{total number of people}} = \\frac{\\text{30}}{\\text{100}}  $$"
   ]
  },
  {
   "cell_type": "markdown",
   "metadata": {},
   "source": [
    "The odds of an event is a related, but different, concept. The odds are:\n",
    "\n",
    "$$ \\frac{\\text{number of events of interest}}{\\text{number of events NOT of interest}} $$"
   ]
  },
  {
   "cell_type": "markdown",
   "metadata": {},
   "source": [
    "If we want to know how many people have anemia out of 100 people, the odds are:\n",
    "\n",
    "$$ \\frac{\\text{number of people WITH anemia}}{\\text{number of people who WITHOUT anemia}} $$"
   ]
  },
  {
   "cell_type": "markdown",
   "metadata": {},
   "source": [
    "So if there are 100 people, and 30 of them have anemia, the odds of having anemia (in that group) are:\n",
    "    \n",
    "$$ \\frac{\\text{number of people WITH anemia}}{\\text{number of people WITHOUT anemia}} = \\frac{\\text{30}}{\\text{70}}  $$"
   ]
  },
  {
   "cell_type": "markdown",
   "metadata": {},
   "source": [
    "## Why not just use linear regression?\n",
    "\n",
    "Remember that in linear regression, we predict scores on the outcome variable directly. So if we were predicting peoples' weight from their height, our final prediction would be a specific value of weight. We might predict that if someone is X cm tall, they will weigh Y kg.\n",
    "\n",
    "In logistic regression, our final prediction is a probability of falling into a specific class (specifically, it is the probability of falling into the class we have dummy coded as '1'). \n",
    "\n",
    "In our current case, if someone has a Red Blood Cell Count of X, we can use logistic regression to predict that they have Y% probability of having anemia. \n",
    "\n",
    "Earlier in the textbook, we performed linear regression by using `minimize`, to find the value of the slope and intercept of the line which gives the smallest sum of the squared prediction errors. \n",
    "\n",
    "Recall that in linear regression:\n",
    "\n",
    "$$ \\text{prediction} = intercept + slope * \\text{predictor_variable} $$\n",
    "\n",
    "Remember that the 'prediction' and 'predictor variable' are collections, with one value for each observation in the dataset. So if you have 200 observations, there will be 200 scores on the predictor variable, and 200 predictons. By contrast, the slope and intercept are single values.\n",
    "\n",
    "We use `minimize` to find the values of the slope and intercept which give the best predictions. That is, the values of the slope and intercept which give the smallest sum of the squared prediction errors.\n",
    "\n",
    "$$ \\text{prediction error} = \\text{actual value - prediction} $$"
   ]
  },
  {
   "cell_type": "markdown",
   "metadata": {},
   "source": [
    "What would happen if we tried to use linear regression to predict the probability of having anemia, based on Red Blood Cell Count?\n",
    "    \n",
    "Let's grab the ```sos_error_for_minimize``` function from the 'Using minizmize' page (https://matthew-brett.github.io/cfd2020/mean-slopes/using_minimize.html), but adapt it for the current example."
   ]
  },
  {
   "cell_type": "code",
   "execution_count": 7,
   "metadata": {},
   "outputs": [],
   "source": [
    "def sos_error_for_minimize(intercept_and_slope):\n",
    "    \n",
    "    # intercept_and_slope is a list containing two elements, an intercept and a slope.\n",
    "    \n",
    "    # store the intercept as a python variable\n",
    "    intercept = intercept_and_slope[0]\n",
    "    \n",
    "    # store the slope as a python variable\n",
    "    slope = intercept_and_slope[1]\n",
    "    \n",
    "    # generate the predicted anemia probabilities, using the slope and intercept\n",
    "    predicted = intercept + slope * red_blood_anemia['Red Blood Cell Count']\n",
    "    \n",
    "    # calculate the prediction error\n",
    "    error = red_blood_anemia['Anemia_dummy'] - predicted\n",
    "    \n",
    "    # return the sum of the squared prediction error\n",
    "    return np.sum(error ** 2)"
   ]
  },
  {
   "cell_type": "markdown",
   "metadata": {},
   "source": [
    "The sum of squared prediction error, in linear regression, is our <i> cost </i> function. We want this function to be <i> cheap </i> i.e. we want its value to be small. \n",
    "\n",
    "If it is large, it means the line we are fitting does not fit the data well at all. The purpose of linear regression is to find the line which leads to the smallest sum of squared prediction errors.\n",
    "\n",
    "Let's use linear regression on the current example:"
   ]
  },
  {
   "cell_type": "code",
   "execution_count": 8,
   "metadata": {},
   "outputs": [
    {
     "data": {
      "text/plain": [
       "      fun: 9.5160740549136\n",
       " hess_inv: array([[ 0.07650505, -0.01499262],\n",
       "       [-0.01499262,  0.00306487]])\n",
       "      jac: array([ 1.19209290e-07, -2.38418579e-07])\n",
       "  message: 'Optimization terminated successfully.'\n",
       "     nfev: 21\n",
       "      nit: 5\n",
       "     njev: 7\n",
       "   status: 0\n",
       "  success: True\n",
       "        x: array([ 0.9458998 , -0.17266421])"
      ]
     },
     "execution_count": 8,
     "metadata": {},
     "output_type": "execute_result"
    }
   ],
   "source": [
    "from scipy.optimize import minimize\n",
    "\n",
    "min_lin_reg = minimize(sos_error_for_minimize, [1, 1])\n",
    "min_lin_reg"
   ]
  },
  {
   "cell_type": "markdown",
   "metadata": {},
   "source": [
    "Ok, so that looks hopeful. Using linear regression with ```minimize``` we found that the sum of squared prediction errors was smallest for a line with an intercept of 0.94590155 and a slope of -0.17266457.\n",
    "\n",
    "Let's get those values, store them as separate variables, and use them to predict the probability of having anemia.\n",
    "\n",
    "The linear regression model we are using here is:\n",
    "\n",
    "$$ \\text{predicted probability of anemia} = intercept + slope * \\text{Red Blood Cell Count} $$"
   ]
  },
  {
   "cell_type": "code",
   "execution_count": 9,
   "metadata": {},
   "outputs": [],
   "source": [
    "# get the first element of the .x attribute of minimize (this is in the intercept)\n",
    "lin_reg_intercept = min_lin_reg.x[0]\n",
    "\n",
    "# get the second element of the .x attribute of minimize (this is in the slope)\n",
    "lin_reg_slope = min_lin_reg.x[1]\n",
    "\n",
    "# use the linear regression formula to generate the predicted probability of having anemia, one probability for each patient\n",
    "predictions_lin_reg = lin_reg_intercept + lin_reg_slope * red_blood_anemia['Red Blood Cell Count']"
   ]
  },
  {
   "cell_type": "markdown",
   "metadata": {},
   "source": [
    "Let's plot our predictions, alongside the actual data. The predictions, from linear regression, are shown in orange."
   ]
  },
  {
   "cell_type": "code",
   "execution_count": 10,
   "metadata": {},
   "outputs": [
    {
     "data": {
      "image/png": "[encoded data removed]",
      "text/plain": [
       "<Figure size 720x288 with 1 Axes>"
      ]
     },
     "metadata": {
      "needs_background": "light"
     },
     "output_type": "display_data"
    }
   ],
   "source": [
    "# do not worry about this code, it just generates the graph\n",
    "\n",
    "plt.figure(figsize = (10, 4))\n",
    "plt.scatter(red_blood_anemia['Red Blood Cell Count'], red_blood_anemia['Anemia_dummy'], label = 'not anemic')\n",
    "plt.scatter(red_blood_anemia[red_blood_anemia['Anemia'] == 'yes']['Red Blood Cell Count'], \n",
    "                             red_blood_anemia[red_blood_anemia['Anemia'] == 'yes']['Anemia_dummy'], color = 'red',\n",
    "            label = 'anemic')\n",
    "plt.scatter(red_blood_anemia['Red Blood Cell Count'], predictions_lin_reg, \n",
    "            label = 'predictions from linear regression', color = 'orange')\n",
    "plt.xlabel('Red Blood Cell Count')\n",
    "plt.ylabel('Anemia \\n(0 = no, 1 = yes)')\n",
    "plt.legend()\n",
    "plt.yticks([0,1]);"
   ]
  },
  {
   "cell_type": "markdown",
   "metadata": {},
   "source": [
    "Oh dear, what a mess.\n",
    "\n",
    "It looks like the predictions are getting it right that the probability of having anemia is higher at lower values of Red Blood Cell Count. \n",
    "\n",
    "The prediction line slopes downward as Red Blood Cell Count gets higher, indicating that the probability of anemia gets lower as the Red Blood Cell Count gets higher. \n",
    "\n",
    "However, as Red Blood Cell Count gets higher than about 5.4, linear regression starts to predict a negative probability of anemia. \n",
    "\n",
    "For the Anemia variable, the values of the variable itself (the dummy codes 0 or 1), and the probability of being in either class, are both restricted to being between 0 or 1. \n",
    "\n",
    "Linear regression will not work here, as its predictions are <b> not </b> limited to being between 0 and 1.\n",
    "\n",
    "# The Logistic Transformation\n",
    "\n",
    "What we need is some mathematical wizardry that will allow us to use the linear regression formula, but to only generate predicted values that fall between 0 and 1. This prediction should represent the probability, based on the predictor variable, of being in the outcome class we dummy coded as 1.\n",
    "\n",
    "It turns out there is a way to do this. Though bizarre it may sound, we will need the number `e` (https://en.wikipedia.org/wiki/E_(mathematical_constant).\n",
    "\n",
    "This number is represented in numpy, and can be called using the command below."
   ]
  },
  {
   "cell_type": "code",
   "execution_count": 11,
   "metadata": {},
   "outputs": [
    {
     "data": {
      "text/plain": [
       "2.718281828459045"
      ]
     },
     "execution_count": 11,
     "metadata": {},
     "output_type": "execute_result"
    }
   ],
   "source": [
    "np.e"
   ]
  },
  {
   "cell_type": "markdown",
   "metadata": {},
   "source": [
    "We can use the linear regression formula, along with `e`, to predict the odds of being anemic. The formula is below - let's focus on <i> how the formula works </i> rather than <i> why </i> the formula works .\n",
    "    \n",
    "$$ \\text{predicted odds of anemia} = e^{\\text{intercept + slope * Red Blood Cell Count}} $$\n",
    "\n",
    "OK, so far so good, we raise `e` to the power of our linear regression predictions and we get a prediction of the odds of anemia for each observation. But there is still a problem - these odds are not limited to fall between 0 and 1:"
   ]
  },
  {
   "cell_type": "code",
   "execution_count": 12,
   "metadata": {},
   "outputs": [
    {
     "data": {
      "text/plain": [
       "0      1.313256\n",
       "1      1.359398\n",
       "2      1.336128\n",
       "3      1.643738\n",
       "4      1.481973\n",
       "         ...   \n",
       "153    1.105000\n",
       "154    0.882834\n",
       "155    1.013605\n",
       "156    0.929769\n",
       "157    0.898210\n",
       "Name: Red Blood Cell Count, Length: 158, dtype: float64"
      ]
     },
     "execution_count": 12,
     "metadata": {},
     "output_type": "execute_result"
    }
   ],
   "source": [
    "odds_anemia = np.e**predictions_lin_reg\n",
    "\n",
    "odds_anemia"
   ]
  },
  {
   "cell_type": "markdown",
   "metadata": {},
   "source": [
    "Fortunately, through some further mathematical wizardry, we can convert these odds to probabilities (which do fall between 0 and 1). The formula for doing this is below. \n",
    "\n",
    "Again, let's focus on what the formula does and how it works, rather than why it works:\n",
    "\n",
    "$$ \\text{predicted probability of anemia} = \\frac{e^{\\text{intercept + slope * Red Blood Cell Count}}}{1 + e^{\\text{intercept + slope * Red Blood Cell Count}}}  $$\n",
    "\n",
    "Let's use that formula to get the predicted probabilities."
   ]
  },
  {
   "cell_type": "code",
   "execution_count": 13,
   "metadata": {},
   "outputs": [
    {
     "data": {
      "text/plain": [
       "0      0.567709\n",
       "1      0.576163\n",
       "2      0.571941\n",
       "3      0.621748\n",
       "4      0.597095\n",
       "         ...   \n",
       "153    0.524941\n",
       "154    0.468886\n",
       "155    0.503378\n",
       "156    0.481803\n",
       "157    0.473188\n",
       "Name: Red Blood Cell Count, Length: 158, dtype: float64"
      ]
     },
     "execution_count": 13,
     "metadata": {},
     "output_type": "execute_result"
    }
   ],
   "source": [
    "prob_anemia = odds_anemia/(1 + odds_anemia)\n",
    "\n",
    "prob_anemia"
   ]
  },
  {
   "cell_type": "markdown",
   "metadata": {},
   "source": [
    "Let's just check the predicted probabilities do all, in fact, fall between 0 and 1:"
   ]
  },
  {
   "cell_type": "code",
   "execution_count": 14,
   "metadata": {},
   "outputs": [
    {
     "name": "stdout",
     "output_type": "stream",
     "text": [
      "There are 0 predicted probabilities less than 0.\n",
      "There are 0 predicted probabilities greater than 1.\n"
     ]
    }
   ],
   "source": [
    "print('There are', np.count_nonzero(prob_anemia < 0), 'predicted probabilities less than 0.')  \n",
    "print('There are', np.count_nonzero(prob_anemia > 1), 'predicted probabilities greater than 1.')  "
   ]
  },
  {
   "cell_type": "markdown",
   "metadata": {},
   "source": [
    "Let's plot these predicted probabilities along with the actual data:"
   ]
  },
  {
   "cell_type": "code",
   "execution_count": 15,
   "metadata": {},
   "outputs": [
    {
     "data": {
      "image/png": "[encoded data removed]",
      "text/plain": [
       "<Figure size 720x288 with 1 Axes>"
      ]
     },
     "metadata": {
      "needs_background": "light"
     },
     "output_type": "display_data"
    }
   ],
   "source": [
    "# do not worry about this code, it just generates the graph\n",
    "plt.figure(figsize = (10, 4))\n",
    "plt.scatter(red_blood_anemia['Red Blood Cell Count'], red_blood_anemia['Anemia_dummy'], label = 'not anemic')\n",
    "plt.scatter(red_blood_anemia[red_blood_anemia['Anemia'] == 'yes']['Red Blood Cell Count'], \n",
    "                             red_blood_anemia[red_blood_anemia['Anemia'] == 'yes']['Anemia_dummy'], color = 'red',\n",
    "            label = 'anemic')\n",
    "plt.scatter(red_blood_anemia['Red Blood Cell Count'], prob_anemia, \n",
    "            label = 'predicted probability of anemia', color = 'orange')\n",
    "plt.xlabel('Red Blood Cell Count')\n",
    "plt.ylabel('Anemia \\n(0 = no, 1 = yes)')\n",
    "plt.legend()\n",
    "plt.yticks([0,0.5, 1]);"
   ]
  },
  {
   "cell_type": "markdown",
   "metadata": {},
   "source": [
    "That looks better, the predicted probabilities all fall between 0 and 1. And the predictions still capture the general trend that the probability of having anemia is higher at lower values of Red Blood Cell Count.\n",
    "\n",
    "However, to get these probabilities we used the slope and intercept we obtained from linear regression i.e. from minimizing the sum of squared prediction errors.\n",
    "\n",
    "Using the sum of squared prediction error as the function we minimize is <b> not a good idea when we are trying to predict probabilities. </b>\n",
    "\n",
    "To work well, `minimize` needs to work on a function which is <i> convex </i>. This is best illustrated graphically.\n",
    "\n",
    "On the graphs below, the sum of squared prediction error is shown on the y axis. The potential values of the slope we may include in our model are shown on the x axis.\n",
    "\n",
    "The graph for linear regression is shown on the left; the graph for logistic regression is shown on the right.\n",
    "\n",
    "For normal linear regression - i.e. without using `e` to do the transformations we just did - there is a single lowest point on the graph which shows the relationship between the slope value (x axis) and the sum of squared prediction error (y axis). \n",
    "\n",
    "This lowest point occurs for the best fitting slope. ```minimize``` can easily find this point, because it is the lowest point out of all the possible slopes we could use.\n",
    "\n",
    "\n",
    "Conversely, when we use `e` to apply the transformations above (in order to predict probabilities), the graph for the sum of squared prediction errors looks like the graph on the right hand side below. \n",
    "\n",
    "`minimize` can easily get 'stuck' in one of the other low points, which is not the lowest possible point. This means we may get estimates of the slope and intercept which do not give the lowest possible sum of the squared prediction error."
   ]
  },
  {
   "attachments": {
    "image-3.png": {
     "image/png": "[encoded data removed]"
    }
   },
   "cell_type": "markdown",
   "metadata": {},
   "source": [
    "![image-3.png](attachment:image-3.png)\n",
    "\n",
    "(image adapted from: \n",
    "https://medium.com/analytics-vidhya/derivative-of-log-loss-function-for-logistic-regression-9b832f025c2d)"
   ]
  },
  {
   "cell_type": "markdown",
   "metadata": {},
   "source": [
    "## A different measure of prediction error\n",
    "\n",
    "To address this issue, logistic regression does not minimize the sum of the squared prediction errors like linear regression does. \n",
    "\n",
    "Logistic regression uses a different function for calculating prediction errors, and it minimizes this function instead. Another way of saying this is that it minimizes a different cost function.\n",
    "\n",
    "The cost function that logistic regression uses is convex - meaning it works much better with minimize, as it has a single lowest point.\n",
    "\n",
    "To understand the function logistic regression uses to calculate prediction errors, we will need to do a very brief aside about <i> natural logarithms </i>.\n",
    "\n",
    "#### Natural Logarithms\n",
    "\n",
    "The natural logarithm of a number tells you: \"what power would I have to raise `e` to, in order to produce this number?\".\n",
    "\n",
    "This sounds more complex than it is. \n",
    "\n",
    "`e` squared equals 7.3890560989306495, as we can see from the cell below:"
   ]
  },
  {
   "cell_type": "code",
   "execution_count": 16,
   "metadata": {},
   "outputs": [
    {
     "data": {
      "text/plain": [
       "7.3890560989306495"
      ]
     },
     "execution_count": 16,
     "metadata": {},
     "output_type": "execute_result"
    }
   ],
   "source": [
    "np.e**2"
   ]
  },
  {
   "cell_type": "markdown",
   "metadata": {},
   "source": [
    "If I asked you, now you've seen the cell above: \"what number would I have to raise `e` to, in order to get 7.3890560989306495?\".\n",
    "\n",
    "If you're really good at remembering decimal places, you'd say: \"well, `e` squared equals 7.3890560989306495. So you raise `e` to the power of 2 to get 7.3890560989306495\".\n",
    "\n",
    "Another way of saying this is that the natural log of 7.3890560989306495 is 2. \n",
    "\n",
    "We can represent this with a formula:\n",
    "\n",
    "$$ ln(7.3890560989306495) = 2 $$\n",
    "\n",
    "`ln(7.3890560989306495)` means 'the natural log of 7.3890560989306495'. We can use ```np.log()``` to calculate the natural logarithm of a number."
   ]
  },
  {
   "cell_type": "code",
   "execution_count": 17,
   "metadata": {},
   "outputs": [
    {
     "data": {
      "text/plain": [
       "2.0"
      ]
     },
     "execution_count": 17,
     "metadata": {},
     "output_type": "execute_result"
    }
   ],
   "source": [
    "np.log(7.3890560989306495)"
   ]
  },
  {
   "cell_type": "markdown",
   "metadata": {},
   "source": [
    "In logistic regression, we calculate the prediction errors are follows:\n",
    "\n",
    "If the dummy variable of the actual outcome score equals 1, then the prediction error equals the negative natural logarithm of the predicted probability:\n",
    "\n",
    " $$ \\text{if the actual outcome == 1, then:}$$\n",
    " $$\\text{prediction error = -ln(predicted probability)} $$\n",
    "\n",
    "If the dummy variable of the actual outcome score equals 0, then the prediction error equals the negative natural logarithm of 1 minus the predicted probability.\n",
    "\n",
    " $$ \\text{if the actual outcome == 0, then:}$$\n",
    " $$\\text{prediction error = -ln(1 - predicted probability)} $$\n",
    "\n",
    "Again, this looks more complex than it is (I promise!). Once more, it is better to focus on how this calculation works, rather than why it works.\n",
    "\n",
    "The table below shows some possible pairings of the actual outcome and predicted outcome. The predicted outcome is a probability, it is the predicted probability that an observations falls into the class with the dummy variable 1:"
   ]
  },
  {
   "cell_type": "code",
   "execution_count": 18,
   "metadata": {},
   "outputs": [
    {
     "data": {
      "text/html": [
       "<div>\n",
       "<style scoped>\n",
       "    .dataframe tbody tr th:only-of-type {\n",
       "        vertical-align: middle;\n",
       "    }\n",
       "\n",
       "    .dataframe tbody tr th {\n",
       "        vertical-align: top;\n",
       "    }\n",
       "\n",
       "    .dataframe thead th {\n",
       "        text-align: right;\n",
       "    }\n",
       "</style>\n",
       "<table border=\"1\" class=\"dataframe\">\n",
       "  <thead>\n",
       "    <tr style=\"text-align: right;\">\n",
       "      <th></th>\n",
       "      <th>actual outcome</th>\n",
       "      <th>predicted probability of being in class 1</th>\n",
       "      <th>prediction close?</th>\n",
       "    </tr>\n",
       "  </thead>\n",
       "  <tbody>\n",
       "    <tr>\n",
       "      <th>0</th>\n",
       "      <td>0</td>\n",
       "      <td>0.2</td>\n",
       "      <td>yes</td>\n",
       "    </tr>\n",
       "    <tr>\n",
       "      <th>1</th>\n",
       "      <td>1</td>\n",
       "      <td>0.8</td>\n",
       "      <td>yes</td>\n",
       "    </tr>\n",
       "    <tr>\n",
       "      <th>2</th>\n",
       "      <td>0</td>\n",
       "      <td>0.8</td>\n",
       "      <td>no</td>\n",
       "    </tr>\n",
       "    <tr>\n",
       "      <th>3</th>\n",
       "      <td>1</td>\n",
       "      <td>0.2</td>\n",
       "      <td>no</td>\n",
       "    </tr>\n",
       "  </tbody>\n",
       "</table>\n",
       "</div>"
      ],
      "text/plain": [
       "   actual outcome  predicted probability of being in class 1 prediction close?\n",
       "0               0                                        0.2               yes\n",
       "1               1                                        0.8               yes\n",
       "2               0                                        0.8                no\n",
       "3               1                                        0.2                no"
      ]
     },
     "execution_count": 18,
     "metadata": {},
     "output_type": "execute_result"
    }
   ],
   "source": [
    "# this is just here to generate the illustration\n",
    "\n",
    "illustration = pd.DataFrame({'actual outcome': [0, 1, 0, 1], 'predicted probability of being in class 1': [0.2, 0.8, 0.8,0.2],\n",
    "                           'prediction close?': ['yes', 'yes', 'no', 'no']})\n",
    "\n",
    "illustration"
   ]
  },
  {
   "cell_type": "markdown",
   "metadata": {},
   "source": [
    "Let's write a python function to calculate the prediction errors for logistic regression. \n",
    "\n",
    "This is called a <i> piecewise function, </i> because what the function does varies depending on what input it is given. In python, we can do this with `if` statements:"
   ]
  },
  {
   "cell_type": "code",
   "execution_count": 19,
   "metadata": {},
   "outputs": [],
   "source": [
    "def log_reg_pred_err(actual_outcome, predicted_probability):\n",
    "    \n",
    "    # create an array to store the prediction errors\n",
    "    prediction_error = np.zeros(len(actual_outcome))\n",
    "    \n",
    "    # for every observation\n",
    "    for i in np.arange(len(actual_outcome)):\n",
    "        \n",
    "        # if the actual outcome for that observation is in class 1...\n",
    "        if actual_outcome[i] == 1:\n",
    "            \n",
    "            # ...then the prediction error equals the negative natural logarithm of the predicted probability\n",
    "            prediction_error[i] = -np.log(predicted_probability[i])\n",
    "            \n",
    "        # if the actual outcome for that observation is in class 0...\n",
    "        if actual_outcome[i] == 0:\n",
    "            \n",
    "            # ...then prediction error equals the negative natural logarithm of 1 minus the predicted probability\n",
    "            prediction_error[i] = -np.log(1 - predicted_probability[i])\n",
    "        \n",
    "    return prediction_error"
   ]
  },
  {
   "cell_type": "markdown",
   "metadata": {},
   "source": [
    "Let's calculate the prediction errors for the values in the dataframe above:"
   ]
  },
  {
   "cell_type": "code",
   "execution_count": 20,
   "metadata": {},
   "outputs": [
    {
     "data": {
      "text/html": [
       "<div>\n",
       "<style scoped>\n",
       "    .dataframe tbody tr th:only-of-type {\n",
       "        vertical-align: middle;\n",
       "    }\n",
       "\n",
       "    .dataframe tbody tr th {\n",
       "        vertical-align: top;\n",
       "    }\n",
       "\n",
       "    .dataframe thead th {\n",
       "        text-align: right;\n",
       "    }\n",
       "</style>\n",
       "<table border=\"1\" class=\"dataframe\">\n",
       "  <thead>\n",
       "    <tr style=\"text-align: right;\">\n",
       "      <th></th>\n",
       "      <th>actual outcome</th>\n",
       "      <th>predicted probability of being in class 1</th>\n",
       "      <th>prediction close?</th>\n",
       "      <th>prediction error</th>\n",
       "    </tr>\n",
       "  </thead>\n",
       "  <tbody>\n",
       "    <tr>\n",
       "      <th>0</th>\n",
       "      <td>0</td>\n",
       "      <td>0.2</td>\n",
       "      <td>yes</td>\n",
       "      <td>0.223144</td>\n",
       "    </tr>\n",
       "    <tr>\n",
       "      <th>1</th>\n",
       "      <td>1</td>\n",
       "      <td>0.8</td>\n",
       "      <td>yes</td>\n",
       "      <td>0.223144</td>\n",
       "    </tr>\n",
       "    <tr>\n",
       "      <th>2</th>\n",
       "      <td>0</td>\n",
       "      <td>0.8</td>\n",
       "      <td>no</td>\n",
       "      <td>1.609438</td>\n",
       "    </tr>\n",
       "    <tr>\n",
       "      <th>3</th>\n",
       "      <td>1</td>\n",
       "      <td>0.2</td>\n",
       "      <td>no</td>\n",
       "      <td>1.609438</td>\n",
       "    </tr>\n",
       "  </tbody>\n",
       "</table>\n",
       "</div>"
      ],
      "text/plain": [
       "   actual outcome  predicted probability of being in class 1  \\\n",
       "0               0                                        0.2   \n",
       "1               1                                        0.8   \n",
       "2               0                                        0.8   \n",
       "3               1                                        0.2   \n",
       "\n",
       "  prediction close?  prediction error  \n",
       "0               yes          0.223144  \n",
       "1               yes          0.223144  \n",
       "2                no          1.609438  \n",
       "3                no          1.609438  "
      ]
     },
     "execution_count": 20,
     "metadata": {},
     "output_type": "execute_result"
    }
   ],
   "source": [
    "illustration['prediction error'] = log_reg_pred_err(illustration['actual outcome'], \n",
    "                                                    illustration['predicted probability of being in class 1'])\n",
    "\n",
    "illustration"
   ]
  },
  {
   "cell_type": "markdown",
   "metadata": {},
   "source": [
    "Make sure you inspect this dataframe in great detail. It is very important. Remember that the predicted probability is is the probability of being in class 1. \n",
    "\n",
    "We want the predicted probability to be large (close to 1) when the actual outcome score is in class 1. We want the predicted probability to be small (close to 0) when the actual outcome score is in class 0.\n",
    "\n",
    "<b> You can see that when the prediction is close - i.e. when the predicted probability is accurate - the prediction error is small. </b>\n",
    "\n",
    "<b> When the prediction is not close, the prediction error is large. </b>\n",
    "\n",
    "Remember that good model leads to <i> small prediction errors </i>. \n",
    "\n",
    "Even if you do not understand the precise mechanics of the prediction error formulas in logistic regression, you can see how they work. \n",
    "\n",
    "<i> When the predictions are good, the error values are small. When the predictions are bad, the error values are large. </i>\n",
    "\n",
    "Let's illustrate this further with a graph. The graph below shows the prediction error function for logistic regression:"
   ]
  },
  {
   "cell_type": "code",
   "execution_count": 21,
   "metadata": {},
   "outputs": [
    {
     "data": {
      "image/png": "[encoded data removed]",
      "text/plain": [
       "<Figure size 720x576 with 1 Axes>"
      ]
     },
     "metadata": {
      "needs_background": "light"
     },
     "output_type": "display_data"
    }
   ],
   "source": [
    "# do not worry about this code, it just generates the graph\n",
    "\n",
    "actual = np.random.choice([0,1], size = 5000)\n",
    "\n",
    "predictions = np.random.uniform(0.01, 0.99, size = 5000)\n",
    "\n",
    "error = log_reg_pred_err(actual, predictions)\n",
    "\n",
    "from mpl_toolkits.mplot3d import Axes3D\n",
    "\n",
    "fig = plt.figure(figsize = (10,8))\n",
    "ax = fig.add_subplot(111, projection='3d')\n",
    "ax.scatter(actual, predictions, error)\n",
    "plt.xlabel('Actual Outcome')\n",
    "plt.xticks([0,1])\n",
    "plt.ylabel('Predicted probability of being in class 1')\n",
    "\n",
    "ax.set_zlabel('Prediction Error');\n",
    "plt.show()"
   ]
  },
  {
   "cell_type": "markdown",
   "metadata": {},
   "source": [
    "Again, take a bit of time to go over this graph. It is very important for understanding logistic regression.\n",
    "\n",
    "You can see from the graph that:\n",
    "\n",
    "If the actual outcome class is 0, and the predicted probability is close to 0, the prediction error is low.\n",
    "\n",
    "If the actual outcome class is 0, and the predicted probability is close to 1, the prediction error is high.\n",
    "\n",
    "If the actual outcome class is 1, and the predicted probability is close to 0, the prediction error is high.\n",
    "\n",
    "If the actual outcome class is 1, and the predicted probability is close to 1, the prediction error is low.\n",
    "\n",
    "Keep re-visiting the graph until you are sure of this pattern.\n",
    "\n",
    "## What is the name of the function for calculating prediction errors in logistic regression?\n",
    "\n",
    "The function we have just used for calculating the prediction errors in logistic regression is called the <i> cross-entropy cost function. </i>\n",
    "\n",
    "Conversely the errors in linear regression are calculated using the <i> squared prediction error function </i>.\n",
    "\n",
    "Both of these are shown again below, just so you can see how different they are:\n",
    "\n",
    "### Logistic regression cross-entropy cost function:\n",
    "\n",
    " $$ \\text{if the actual outcome == 1, then:}$$\n",
    " $$\\text{prediction error = -ln(predicted probability)} $$\n",
    "\n",
    " $$ \\text{if the actual outcome == 0, then:}$$\n",
    " $$\\text{prediction error = -ln(1 - predicted probability)} $$\n",
    " \n",
    "### Linear regression squared prediction error function:\n",
    "\n",
    "$$ \\text{squared prediction error = (actual outcome value - predicted outcome value)}^2 $$\n",
    "\n"
   ]
  },
  {
   "cell_type": "markdown",
   "metadata": {},
   "source": [
    "# Logistic Regression using minimize\n",
    "\n",
    "We now have the tools we need to implement logistic regression using minimize. We are going to predict Anemia status (yes/no) from Red Blood Cell Count.\n",
    "\n",
    "The actual function that we minimize in logistic regression is the <i> average prediction error, </i> where each prediction error is calculated using the cross-entropy function shown above.\n",
    "\n",
    "Let's write a function to pass to `minimize`, which calculates the average prediction error for an intercept and slope pair. Go over the comments in the cell below and make sure you understand what each line is doing."
   ]
  },
  {
   "cell_type": "code",
   "execution_count": 22,
   "metadata": {},
   "outputs": [],
   "source": [
    "def logb(arr, b=np.e):\n",
    "    \"\"\" Logarithm of `arr` to base `b`\n",
    "   \n",
    "    From formula in:\n",
    "    \n",
    "    https://en.wikipedia.org/wiki/Logarithm#Change_of_base\n",
    "    \"\"\"\n",
    "    return np.log(arr) / np.log(b)"
   ]
  },
  {
   "cell_type": "code",
   "execution_count": 23,
   "metadata": {},
   "outputs": [
    {
     "name": "stdout",
     "output_type": "stream",
     "text": [
      "2.3978952727983707 2.3978952727983707\n",
      "1.041392685158225 1.0413926851582251\n",
      "3.4594316186372978 3.4594316186372973\n"
     ]
    }
   ],
   "source": [
    "print(logb(11), np.log(11))\n",
    "print(logb(11, b=10), np.log10(11))\n",
    "print(logb(11, b=2), np.log2(11))"
   ]
  },
  {
   "cell_type": "code",
   "execution_count": 24,
   "metadata": {},
   "outputs": [],
   "source": [
    "def params2pps(intercept_and_slope, x, b=np.e):\n",
    "    \"\"\" Calculate predicted probabilities of 1 for each observation\n",
    "    \"\"\"\n",
    "    # store the intercept and slope as Python variables.\n",
    "    intercept, slope = intercept_and_slope\n",
    "    # Predicted log odds of being in class 1.\n",
    "    predicted_log_odds = intercept + slope * x\n",
    "    # To get the odds, we invert the log operation.\n",
    "    predicted_odds = b ** predicted_log_odds\n",
    "    # Predicted probability of being in class 1.\n",
    "    return predicted_odds / (1 + predicted_odds)"
   ]
  },
  {
   "cell_type": "code",
   "execution_count": 25,
   "metadata": {},
   "outputs": [],
   "source": [
    "def calc_log_likelihood(pp1, y, b=np.e):\n",
    "    \"\"\" Overall log likelihood of `y` given predicted ps `pp1`\n",
    "    \"\"\"\n",
    "    # pp1 is the predicted probability of being in class 1.\n",
    "    # Because class 1 and 0 are mutually exclusive:\n",
    "    pp0 = 1 - pp1\n",
    "    # Calculate the likelihood of each observation.\n",
    "    likelihoods = pp1.copy()  # all y==1 values correctly set.\n",
    "    likelihoods[y == 0] = pp0[y == 0]  # set the y==0 values.\n",
    "    # Or - equivalently, but rather less readably:\n",
    "    # likelihoods = y * pp1 + (1 - y) * pp0\n",
    "    # Overall likelihood of this intercept, slope combination is the product of\n",
    "    # all the likelihoods (we are multiplying probabilities).\n",
    "    # That would be:\n",
    "    # likelihood = np.prod(likelihoods)\n",
    "    # But - if we just multiply these, there are often so many values close to\n",
    "    # zero that the result gets close to the smallest values the computer can\n",
    "    # represent or even gets smaller, in which case the value becomes 0.\n",
    "    # To avoid this, we can add the logs (instead of taking the product of the\n",
    "    # original values).  Adding the logs gives us the log of the likelihood as\n",
    "    # defined above.\n",
    "    # Which base we use for the log here does not matter, we're just\n",
    "    # trying to maintain the precision, the results will go up and down\n",
    "    # in the same way, for the same values, and we don't care about\n",
    "    # the exact number, only that it is higher for a higher likelihood.\n",
    "    # But - just for completeness, use the general log function.\n",
    "    log_likelihood = np.sum(logb(likelihoods, b=b))\n",
    "    return log_likelihood"
   ]
  },
  {
   "cell_type": "code",
   "execution_count": 26,
   "metadata": {
    "scrolled": false
   },
   "outputs": [],
   "source": [
    "def log_reg_cost(intercept_and_slope, x, y, b=np.e):\n",
    "    # Predicted probability of being in class 1.\n",
    "    pp1 = params2pps(intercept_and_slope, x, b=b)\n",
    "    # Overall log of the likelihood of observed outomes y\n",
    "    log_likelihood = calc_log_likelihood(pp1, y, b=b)\n",
    "    # At the moment, a higher value here means the intercept and slope are a\n",
    "    # *better* fit, but minimize wants the value to go *down* for a better fit,\n",
    "    # so we just stick a minus on it to make better fits give lower values.\n",
    "    return -log_likelihood"
   ]
  },
  {
   "cell_type": "code",
   "execution_count": 27,
   "metadata": {},
   "outputs": [
    {
     "name": "stdout",
     "output_type": "stream",
     "text": [
      "Base e fun value, best-fit parameters: 21.58002110700965 [10.43792437 -3.14921429]\n",
      "Base 10 fun value, best-fit parameters: 9.372084086130565 [ 4.53313062 -1.36768575]\n",
      "Base 10 fun value, parameters, scaled by log(10): 21.580021107010964 [10.43791898 -3.14921281]\n",
      "p likelihoods similar? True\n"
     ]
    }
   ],
   "source": [
    "from scipy.optimize import minimize\n",
    "\n",
    "predictor = red_blood_anemia['Red Blood Cell Count']\n",
    "outcome = red_blood_anemia['Anemia_dummy']\n",
    "\n",
    "# Results using default base of np.e\n",
    "b_e_res = minimize(log_reg_cost, [1,1], args = (predictor,outcome))\n",
    "p_values_e = params2pps(b_e_res.x, predictor)\n",
    "print('Base e fun value, best-fit parameters:', b_e_res.fun, b_e_res.x)\n",
    "# Results using base 10\n",
    "b_10_res = minimize(log_reg_cost, [1,1], args = (predictor, outcome, 10))\n",
    "p_values_10 = params2pps(b_10_res.x, predictor, b=10)\n",
    "print('Base 10 fun value, best-fit parameters:', b_10_res.fun, b_10_res.x)\n",
    "# The fun value, parameters for log e, log 10 are predictably scaled\n",
    "# versions of each other.\n",
    "print('Base 10 fun value, parameters, scaled by log(10):',\n",
    "      b_10_res.fun * np.log(10), b_10_res.x * np.log(10))\n",
    "# The estimated p values are (more or less) the same.\n",
    "print('p likelihoods similar?', np.allclose(p_values_e, p_values_10))"
   ]
  },
  {
   "cell_type": "markdown",
   "metadata": {},
   "source": [
    "Now let's pass our function to `minimize`, to find the slope and intercept which minimize the average prediction error.\n",
    "\n",
    "We'll start with an intercept of 1 and a slope of 1 as our first guess. "
   ]
  },
  {
   "cell_type": "code",
   "execution_count": 28,
   "metadata": {},
   "outputs": [
    {
     "data": {
      "text/plain": [
       "      fun: 21.58002110700965\n",
       " hess_inv: array([[ 6.7867342 , -1.8666912 ],\n",
       "       [-1.8666912 ,  0.52548486]])\n",
       "      jac: array([ 2.38418579e-07, -4.76837158e-07])\n",
       "  message: 'Optimization terminated successfully.'\n",
       "     nfev: 51\n",
       "      nit: 13\n",
       "     njev: 17\n",
       "   status: 0\n",
       "  success: True\n",
       "        x: array([10.43792437, -3.14921429])"
      ]
     },
     "execution_count": 28,
     "metadata": {},
     "output_type": "execute_result"
    }
   ],
   "source": [
    "# store the predictor variable as a python variable\n",
    "predictor = red_blood_anemia['Red Blood Cell Count']\n",
    "\n",
    "# store the dummy-coded outcome variable as a python variable \n",
    "outcome = red_blood_anemia['Anemia_dummy']\n",
    "\n",
    "min_log_reg = minimize(log_reg_cost, [1,1], args = (predictor,outcome))\n",
    "min_log_reg "
   ]
  },
  {
   "cell_type": "markdown",
   "metadata": {},
   "source": [
    "So `minimize` found an intercept of 10.43827715 and a slope of -3.14932093. These values minimize the prediction errors, calculated using the cross-entropy function.\n",
    "\n",
    "The slope is more interesting than the intercept here. \n",
    "\n",
    "In fact the intercept is quite hard to interpret (for those who are interested: it is is the predicted natural logarithm of the odds of being in outcome class 1, for an observation with a Red Blood Cell Count of 0).\n",
    "\n",
    "The precise value of the slope is also quite hard to interpret, because it also relates to the natural logarithm of the odds of being in outcome class 1. \n",
    "\n",
    "However, because the slope is negative, this tells us that as Red Blood Cell Count increases, the odds of being in class 1 (having anemia) decrease.\n",
    "\n",
    "Interpreting logistic regression is much easier if we use this slope and intercept to generate predicted probabilities of having anemia, for each observation.\n",
    "\n",
    "As we did before, let's generate the predicted probabilities using the intercept/slope values that `minimize` has found. The formulas for doing this are shown once more here for convenience:\n",
    "\n",
    "Calculate the predicted odds of having anemia:\n",
    "\n",
    "$$ \\text{predicted odds of anemia} = e^{\\text{intercept + slope * Red Blood Cell Count}} $$\n",
    "\n",
    "Calculate the predicted probability of having anemia:\n",
    "\n",
    "$$ \\text{predicted probability of anemia} = \\frac{e^{\\text{intercept + slope * Red Blood Cell Count}}}{1 + e^{\\text{intercept + slope * Red Blood Cell Count}}} = \\frac{e^{\\text{odds of anemia}}}{1 + e^{\\text{odds of anemia}}} $$\n",
    "\n",
    "<i> Remember: </i> there is one predicted probability for each observation. This predicts the probability of having anemia for that patient, based on the patient's score on the Red Blood Cell Count variable."
   ]
  },
  {
   "cell_type": "code",
   "execution_count": 29,
   "metadata": {},
   "outputs": [
    {
     "data": {
      "text/plain": [
       "0      0.136578\n",
       "1      0.228964\n",
       "2      0.178127\n",
       "3      0.904648\n",
       "4      0.589147\n",
       "         ...   \n",
       "153    0.006738\n",
       "154    0.000113\n",
       "155    0.001403\n",
       "156    0.000291\n",
       "157    0.000155\n",
       "Name: Red Blood Cell Count, Length: 158, dtype: float64"
      ]
     },
     "execution_count": 29,
     "metadata": {},
     "output_type": "execute_result"
    }
   ],
   "source": [
    "# store the intercept as a python variable\n",
    "log_reg_intercept = min_log_reg.x[0]\n",
    "\n",
    "# store the slope as a python variable\n",
    "log_reg_slope = min_log_reg.x[1]\n",
    "\n",
    "# generate the predicted odds of having anemia (using the tricks from above)\n",
    "predicted_odds_log_reg = np.e**(log_reg_intercept + log_reg_slope * red_blood_anemia['Red Blood Cell Count'])\n",
    "\n",
    "# generate the predicted probability of having anemia (using the tricks from above)\n",
    "predicted_probs_log_reg = predicted_odds_log_reg/(1 + predicted_odds_log_reg)\n",
    "\n",
    "predicted_probs_log_reg"
   ]
  },
  {
   "cell_type": "markdown",
   "metadata": {},
   "source": [
    "Let's plot the predictions against the actual data:"
   ]
  },
  {
   "cell_type": "code",
   "execution_count": 30,
   "metadata": {},
   "outputs": [
    {
     "data": {
      "image/png": "[encoded data removed]",
      "text/plain": [
       "<Figure size 720x288 with 1 Axes>"
      ]
     },
     "metadata": {
      "needs_background": "light"
     },
     "output_type": "display_data"
    }
   ],
   "source": [
    "# do not worry about this code, it just generates the graph\n",
    "plt.figure(figsize = (10, 4))\n",
    "plt.scatter(red_blood_anemia['Red Blood Cell Count'], red_blood_anemia['Anemia_dummy'], label = 'not anemic')\n",
    "plt.scatter(red_blood_anemia[red_blood_anemia['Anemia'] == 'yes']['Red Blood Cell Count'], \n",
    "                             red_blood_anemia[red_blood_anemia['Anemia'] == 'yes']['Anemia_dummy'], color = 'red',\n",
    "            label = 'anemic')\n",
    "plt.scatter(red_blood_anemia['Red Blood Cell Count'], predicted_probs_log_reg, \n",
    "            label = 'predicted probability of anemia (logistic regression)', color = 'green')\n",
    "plt.xlabel('Red Blood Cell Count')\n",
    "plt.ylabel('Anemia \\n(0 = no, 1 = yes)')\n",
    "plt.legend()\n",
    "plt.yticks([0,0.5, 1]);"
   ]
  },
  {
   "cell_type": "markdown",
   "metadata": {},
   "source": [
    "Just for comparison, let's also show the predictions we got when we predicted the probabilities using the slope and intercept that we got from linear regression:"
   ]
  },
  {
   "cell_type": "code",
   "execution_count": 31,
   "metadata": {},
   "outputs": [
    {
     "data": {
      "image/png": "[encoded data removed]",
      "text/plain": [
       "<Figure size 720x288 with 1 Axes>"
      ]
     },
     "metadata": {
      "needs_background": "light"
     },
     "output_type": "display_data"
    }
   ],
   "source": [
    "# do not worry about this code, it just generates the graph\n",
    "plt.figure(figsize = (10, 4))\n",
    "plt.scatter(red_blood_anemia['Red Blood Cell Count'], red_blood_anemia['Anemia_dummy'], label = 'not anemic')\n",
    "plt.scatter(red_blood_anemia[red_blood_anemia['Anemia'] == 'yes']['Red Blood Cell Count'], \n",
    "                             red_blood_anemia[red_blood_anemia['Anemia'] == 'yes']['Anemia_dummy'], color = 'red',\n",
    "            label = 'anemic')\n",
    "plt.scatter(red_blood_anemia['Red Blood Cell Count'], predicted_probs_log_reg, \n",
    "            label = 'predicted probability of anemia (logistic regression)', color = 'green')\n",
    "plt.scatter(red_blood_anemia['Red Blood Cell Count'], prob_anemia, \n",
    "            label = 'predicted probability of anemia (linear regression)', color = 'orange')\n",
    "plt.xlabel('Red Blood Cell Count')\n",
    "plt.ylabel('Anemia \\n(0 = no, 1 = yes)')\n",
    "plt.legend()\n",
    "plt.yticks([0,0.5, 1]);"
   ]
  },
  {
   "cell_type": "markdown",
   "metadata": {},
   "source": [
    "We can see that logistic regression fits the data much better.\n",
    "\n",
    "With logistic regression, the predicted probability of having anemia falls steeply as the Red Blood Cell Count increases.\n",
    "\n",
    "The predicted probabilities from linear regression overestimate the probability of anemia at higher values of Red Blood Cell Count.\n",
    "\n",
    "You can see that the predictions from logistic regression form an 'S' shape. This is a nonlinear function called a <i> sigmoid function. </i>\n",
    "\n",
    "Linear regression fits a <i> line to directly predict outcome scores, based on scores on a predictor variable.</i>\n",
    "\n",
    "Logistic regression fits a <i> sigmoid function to predict the probability of being in one of two categories, based on scores on a predictor variable </i>."
   ]
  },
  {
   "cell_type": "markdown",
   "metadata": {},
   "source": [
    "## Logistic Regression with statsmodels\n",
    "\n",
    "As with linear regression, we can easily perform logistic regression using statsmodels.\n",
    "\n",
    "To do this, we first have to add a column of 1's to the predictor variable. This is to ensure the intercept is fitted correctly, though we will not explore why - just remember to do it in order to get better estimates! We can use the statsmodels function `add_constant()` to do this:\n",
    "\n",
    "<i> Note: here we are using `statsmodels.api` rather than `statsmodels.formula.api` </i> "
   ]
  },
  {
   "cell_type": "code",
   "execution_count": 32,
   "metadata": {},
   "outputs": [
    {
     "data": {
      "text/html": [
       "<div>\n",
       "<style scoped>\n",
       "    .dataframe tbody tr th:only-of-type {\n",
       "        vertical-align: middle;\n",
       "    }\n",
       "\n",
       "    .dataframe tbody tr th {\n",
       "        vertical-align: top;\n",
       "    }\n",
       "\n",
       "    .dataframe thead th {\n",
       "        text-align: right;\n",
       "    }\n",
       "</style>\n",
       "<table border=\"1\" class=\"dataframe\">\n",
       "  <thead>\n",
       "    <tr style=\"text-align: right;\">\n",
       "      <th></th>\n",
       "      <th>const</th>\n",
       "      <th>Red Blood Cell Count</th>\n",
       "    </tr>\n",
       "  </thead>\n",
       "  <tbody>\n",
       "    <tr>\n",
       "      <th>0</th>\n",
       "      <td>1.0</td>\n",
       "      <td>3.9</td>\n",
       "    </tr>\n",
       "    <tr>\n",
       "      <th>1</th>\n",
       "      <td>1.0</td>\n",
       "      <td>3.7</td>\n",
       "    </tr>\n",
       "    <tr>\n",
       "      <th>2</th>\n",
       "      <td>1.0</td>\n",
       "      <td>3.8</td>\n",
       "    </tr>\n",
       "    <tr>\n",
       "      <th>3</th>\n",
       "      <td>1.0</td>\n",
       "      <td>2.6</td>\n",
       "    </tr>\n",
       "    <tr>\n",
       "      <th>4</th>\n",
       "      <td>1.0</td>\n",
       "      <td>3.2</td>\n",
       "    </tr>\n",
       "    <tr>\n",
       "      <th>...</th>\n",
       "      <td>...</td>\n",
       "      <td>...</td>\n",
       "    </tr>\n",
       "    <tr>\n",
       "      <th>153</th>\n",
       "      <td>1.0</td>\n",
       "      <td>4.9</td>\n",
       "    </tr>\n",
       "    <tr>\n",
       "      <th>154</th>\n",
       "      <td>1.0</td>\n",
       "      <td>6.2</td>\n",
       "    </tr>\n",
       "    <tr>\n",
       "      <th>155</th>\n",
       "      <td>1.0</td>\n",
       "      <td>5.4</td>\n",
       "    </tr>\n",
       "    <tr>\n",
       "      <th>156</th>\n",
       "      <td>1.0</td>\n",
       "      <td>5.9</td>\n",
       "    </tr>\n",
       "    <tr>\n",
       "      <th>157</th>\n",
       "      <td>1.0</td>\n",
       "      <td>6.1</td>\n",
       "    </tr>\n",
       "  </tbody>\n",
       "</table>\n",
       "<p>158 rows × 2 columns</p>\n",
       "</div>"
      ],
      "text/plain": [
       "     const  Red Blood Cell Count\n",
       "0      1.0                   3.9\n",
       "1      1.0                   3.7\n",
       "2      1.0                   3.8\n",
       "3      1.0                   2.6\n",
       "4      1.0                   3.2\n",
       "..     ...                   ...\n",
       "153    1.0                   4.9\n",
       "154    1.0                   6.2\n",
       "155    1.0                   5.4\n",
       "156    1.0                   5.9\n",
       "157    1.0                   6.1\n",
       "\n",
       "[158 rows x 2 columns]"
      ]
     },
     "execution_count": 32,
     "metadata": {},
     "output_type": "execute_result"
    }
   ],
   "source": [
    "import statsmodels.api as sm\n",
    "\n",
    "# adding a column of 1s to the predictor variable\n",
    "predictor_with_1s = sm.add_constant(predictor)\n",
    "\n",
    "predictor_with_1s"
   ]
  },
  {
   "cell_type": "code",
   "execution_count": 33,
   "metadata": {},
   "outputs": [
    {
     "name": "stdout",
     "output_type": "stream",
     "text": [
      "Optimization terminated successfully.\n",
      "         Current function value: 0.136582\n",
      "         Iterations 9\n"
     ]
    },
    {
     "data": {
      "text/html": [
       "<table class=\"simpletable\">\n",
       "<caption>Logit Regression Results</caption>\n",
       "<tr>\n",
       "  <th>Dep. Variable:</th>     <td>Anemia_dummy</td>   <th>  No. Observations:  </th>  <td>   158</td>  \n",
       "</tr>\n",
       "<tr>\n",
       "  <th>Model:</th>                 <td>Logit</td>      <th>  Df Residuals:      </th>  <td>   156</td>  \n",
       "</tr>\n",
       "<tr>\n",
       "  <th>Method:</th>                 <td>MLE</td>       <th>  Df Model:          </th>  <td>     1</td>  \n",
       "</tr>\n",
       "<tr>\n",
       "  <th>Date:</th>            <td>Sat, 03 Apr 2021</td> <th>  Pseudo R-squ.:     </th>  <td>0.5834</td>  \n",
       "</tr>\n",
       "<tr>\n",
       "  <th>Time:</th>                <td>18:28:53</td>     <th>  Log-Likelihood:    </th> <td> -21.580</td> \n",
       "</tr>\n",
       "<tr>\n",
       "  <th>converged:</th>             <td>True</td>       <th>  LL-Null:           </th> <td> -51.801</td> \n",
       "</tr>\n",
       "<tr>\n",
       "  <th>Covariance Type:</th>     <td>nonrobust</td>    <th>  LLR p-value:       </th> <td>7.577e-15</td>\n",
       "</tr>\n",
       "</table>\n",
       "<table class=\"simpletable\">\n",
       "<tr>\n",
       "            <td></td>              <th>coef</th>     <th>std err</th>      <th>z</th>      <th>P>|z|</th>  <th>[0.025</th>    <th>0.975]</th>  \n",
       "</tr>\n",
       "<tr>\n",
       "  <th>const</th>                <td>   10.4379</td> <td>    2.597</td> <td>    4.019</td> <td> 0.000</td> <td>    5.348</td> <td>   15.528</td>\n",
       "</tr>\n",
       "<tr>\n",
       "  <th>Red Blood Cell Count</th> <td>   -3.1492</td> <td>    0.718</td> <td>   -4.389</td> <td> 0.000</td> <td>   -4.556</td> <td>   -1.743</td>\n",
       "</tr>\n",
       "</table>"
      ],
      "text/plain": [
       "<class 'statsmodels.iolib.summary.Summary'>\n",
       "\"\"\"\n",
       "                           Logit Regression Results                           \n",
       "==============================================================================\n",
       "Dep. Variable:           Anemia_dummy   No. Observations:                  158\n",
       "Model:                          Logit   Df Residuals:                      156\n",
       "Method:                           MLE   Df Model:                            1\n",
       "Date:                Sat, 03 Apr 2021   Pseudo R-squ.:                  0.5834\n",
       "Time:                        18:28:53   Log-Likelihood:                -21.580\n",
       "converged:                       True   LL-Null:                       -51.801\n",
       "Covariance Type:            nonrobust   LLR p-value:                 7.577e-15\n",
       "========================================================================================\n",
       "                           coef    std err          z      P>|z|      [0.025      0.975]\n",
       "----------------------------------------------------------------------------------------\n",
       "const                   10.4379      2.597      4.019      0.000       5.348      15.528\n",
       "Red Blood Cell Count    -3.1492      0.718     -4.389      0.000      -4.556      -1.743\n",
       "========================================================================================\n",
       "\"\"\""
      ]
     },
     "execution_count": 33,
     "metadata": {},
     "output_type": "execute_result"
    }
   ],
   "source": [
    "log_reg_mod = sm.Logit(outcome, predictor_with_1s) # creating the model\n",
    "\n",
    "fitted_log_reg_mod = log_reg_mod.fit() # fitting the model\n",
    "\n",
    "fitted_log_reg_mod.summary() # showing the model summary"
   ]
  },
  {
   "cell_type": "markdown",
   "metadata": {},
   "source": [
    "Look at the table above under 'coef'. Compare the logistic regression intercept and slope that statsmodels has obtained to the ones we obtained through using `minimize`:"
   ]
  },
  {
   "cell_type": "code",
   "execution_count": 34,
   "metadata": {},
   "outputs": [
    {
     "name": "stdout",
     "output_type": "stream",
     "text": [
      "Intercept from minimize = 10.437924368044415\n",
      "Slope from minimize = -3.1492142915333745\n"
     ]
    }
   ],
   "source": [
    "print('Intercept from minimize =', log_reg_intercept)\n",
    "print('Slope from minimize =', log_reg_slope)"
   ]
  },
  {
   "cell_type": "markdown",
   "metadata": {},
   "source": [
    "Finally, we can use the ```predict``` method of statsmodels to generate predicted probabilities from the logistic regression model we just fitted:"
   ]
  },
  {
   "cell_type": "code",
   "execution_count": 35,
   "metadata": {},
   "outputs": [
    {
     "data": {
      "text/plain": [
       "0      0.136578\n",
       "1      0.228964\n",
       "2      0.178127\n",
       "3      0.904648\n",
       "4      0.589147\n",
       "         ...   \n",
       "153    0.006738\n",
       "154    0.000113\n",
       "155    0.001403\n",
       "156    0.000291\n",
       "157    0.000155\n",
       "Length: 158, dtype: float64"
      ]
     },
     "execution_count": 35,
     "metadata": {},
     "output_type": "execute_result"
    }
   ],
   "source": [
    "sm_predictions = fitted_log_reg_mod.predict(predictor_with_1s)\n",
    "\n",
    "sm_predictions"
   ]
  },
  {
   "cell_type": "markdown",
   "metadata": {},
   "source": [
    "Let's plot the predicted probabilities of having anemia, from statsmodels:"
   ]
  },
  {
   "cell_type": "code",
   "execution_count": 36,
   "metadata": {},
   "outputs": [
    {
     "data": {
      "image/png": "[encoded data removed]",
      "text/plain": [
       "<Figure size 720x288 with 1 Axes>"
      ]
     },
     "metadata": {
      "needs_background": "light"
     },
     "output_type": "display_data"
    }
   ],
   "source": [
    "# do not worry about this code, it just generates the graph\n",
    "plt.figure(figsize = (10, 4))\n",
    "plt.scatter(red_blood_anemia['Red Blood Cell Count'], red_blood_anemia['Anemia_dummy'], label = 'not anemic')\n",
    "plt.scatter(red_blood_anemia[red_blood_anemia['Anemia'] == 'yes']['Red Blood Cell Count'], \n",
    "                             red_blood_anemia[red_blood_anemia['Anemia'] == 'yes']['Anemia_dummy'], color = 'red',\n",
    "            label = 'anemic')\n",
    "plt.scatter(red_blood_anemia['Red Blood Cell Count'], sm_predictions,\n",
    "            label = 'predicted probability of anemia (statsmodels logistic regression)', color = 'cyan')\n",
    "plt.xlabel('Red Blood Cell Count')\n",
    "plt.ylabel('Anemia \\n(0 = no, 1 = yes)')\n",
    "plt.legend()\n",
    "plt.yticks([0,0.5, 1]);"
   ]
  },
  {
   "cell_type": "markdown",
   "metadata": {},
   "source": [
    "We can see graphically that these predictions look identical to the ones we obtained from minimize.\n",
    "\n",
    "Let's see what the largest absolute difference between the predictions from the two methods is:"
   ]
  },
  {
   "cell_type": "code",
   "execution_count": 37,
   "metadata": {},
   "outputs": [
    {
     "data": {
      "text/plain": [
       "3.955100935648659e-08"
      ]
     },
     "execution_count": 37,
     "metadata": {},
     "output_type": "execute_result"
    }
   ],
   "source": [
    "np.max(np.abs(predicted_probs_log_reg - sm_predictions))"
   ]
  },
  {
   "cell_type": "markdown",
   "metadata": {},
   "source": [
    "That is very close to 0. The models are making almost identical predictions."
   ]
  },
  {
   "cell_type": "markdown",
   "metadata": {},
   "source": [
    "## Summary\n",
    "\n",
    "This tutorial has shown you how to do binary logistic regression with one numerical predictor variable."
   ]
  }
 ],
 "metadata": {
  "jupytext": {
   "notebook_metadata_filter": "all,-language_info",
   "split_at_heading": true
  },
  "kernelspec": {
   "display_name": "Python 3",
   "language": "python",
   "name": "python3"
  },
  "language_info": {
   "codemirror_mode": {
    "name": "ipython",
    "version": 3
   },
   "file_extension": ".py",
   "mimetype": "text/x-python",
   "name": "python",
   "nbconvert_exporter": "python",
   "pygments_lexer": "ipython3",
   "version": "3.8.6"
  }
 },
 "nbformat": 4,
 "nbformat_minor": 5
}
