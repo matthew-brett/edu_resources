{
 "cells": [
  {
   "cell_type": "markdown",
   "id": "responsible-benjamin",
   "metadata": {},
   "source": [
    "## Logistic Regression Exercise\n",
    "\n",
    "In this exercise we will perform linear regression and logistic regression on the Titanic dataset. This dataset contains information about passenger characteristics, and whether each passenger survived the disaster.\n",
    "\n",
    "First let's import the data:"
   ]
  },
  {
   "cell_type": "code",
   "execution_count": 1,
   "id": "sunset-assembly",
   "metadata": {},
   "outputs": [
    {
     "data": {
      "text/html": [
       "<div>\n",
       "<style scoped>\n",
       "    .dataframe tbody tr th:only-of-type {\n",
       "        vertical-align: middle;\n",
       "    }\n",
       "\n",
       "    .dataframe tbody tr th {\n",
       "        vertical-align: top;\n",
       "    }\n",
       "\n",
       "    .dataframe thead th {\n",
       "        text-align: right;\n",
       "    }\n",
       "</style>\n",
       "<table border=\"1\" class=\"dataframe\">\n",
       "  <thead>\n",
       "    <tr style=\"text-align: right;\">\n",
       "      <th></th>\n",
       "      <th>name</th>\n",
       "      <th>gender</th>\n",
       "      <th>age</th>\n",
       "      <th>class</th>\n",
       "      <th>embarked</th>\n",
       "      <th>country</th>\n",
       "      <th>fare</th>\n",
       "      <th>survived</th>\n",
       "    </tr>\n",
       "  </thead>\n",
       "  <tbody>\n",
       "    <tr>\n",
       "      <th>0</th>\n",
       "      <td>Abbing, Mr. Anthony</td>\n",
       "      <td>male</td>\n",
       "      <td>42.0</td>\n",
       "      <td>3rd</td>\n",
       "      <td>Southampton</td>\n",
       "      <td>United States</td>\n",
       "      <td>7.1100</td>\n",
       "      <td>no</td>\n",
       "    </tr>\n",
       "    <tr>\n",
       "      <th>1</th>\n",
       "      <td>Abbott, Mr. Eugene Joseph</td>\n",
       "      <td>male</td>\n",
       "      <td>13.0</td>\n",
       "      <td>3rd</td>\n",
       "      <td>Southampton</td>\n",
       "      <td>United States</td>\n",
       "      <td>20.0500</td>\n",
       "      <td>no</td>\n",
       "    </tr>\n",
       "    <tr>\n",
       "      <th>2</th>\n",
       "      <td>Abbott, Mr. Rossmore Edward</td>\n",
       "      <td>male</td>\n",
       "      <td>16.0</td>\n",
       "      <td>3rd</td>\n",
       "      <td>Southampton</td>\n",
       "      <td>United States</td>\n",
       "      <td>20.0500</td>\n",
       "      <td>no</td>\n",
       "    </tr>\n",
       "    <tr>\n",
       "      <th>3</th>\n",
       "      <td>Abbott, Mrs. Rhoda Mary 'Rosa'</td>\n",
       "      <td>female</td>\n",
       "      <td>39.0</td>\n",
       "      <td>3rd</td>\n",
       "      <td>Southampton</td>\n",
       "      <td>England</td>\n",
       "      <td>20.0500</td>\n",
       "      <td>yes</td>\n",
       "    </tr>\n",
       "    <tr>\n",
       "      <th>4</th>\n",
       "      <td>Abelseth, Miss. Karen Marie</td>\n",
       "      <td>female</td>\n",
       "      <td>16.0</td>\n",
       "      <td>3rd</td>\n",
       "      <td>Southampton</td>\n",
       "      <td>Norway</td>\n",
       "      <td>7.1300</td>\n",
       "      <td>yes</td>\n",
       "    </tr>\n",
       "    <tr>\n",
       "      <th>5</th>\n",
       "      <td>Abelseth, Mr. Olaus Jørgensen</td>\n",
       "      <td>male</td>\n",
       "      <td>25.0</td>\n",
       "      <td>3rd</td>\n",
       "      <td>Southampton</td>\n",
       "      <td>United States</td>\n",
       "      <td>7.1300</td>\n",
       "      <td>yes</td>\n",
       "    </tr>\n",
       "    <tr>\n",
       "      <th>6</th>\n",
       "      <td>Abelson, Mr. Samuel</td>\n",
       "      <td>male</td>\n",
       "      <td>30.0</td>\n",
       "      <td>2nd</td>\n",
       "      <td>Cherbourg</td>\n",
       "      <td>France</td>\n",
       "      <td>24.0000</td>\n",
       "      <td>no</td>\n",
       "    </tr>\n",
       "    <tr>\n",
       "      <th>7</th>\n",
       "      <td>Abelson, Mrs. Hannah</td>\n",
       "      <td>female</td>\n",
       "      <td>28.0</td>\n",
       "      <td>2nd</td>\n",
       "      <td>Cherbourg</td>\n",
       "      <td>France</td>\n",
       "      <td>24.0000</td>\n",
       "      <td>yes</td>\n",
       "    </tr>\n",
       "    <tr>\n",
       "      <th>8</th>\n",
       "      <td>Abī-Al-Munà, Mr. Nāsīf Qāsim</td>\n",
       "      <td>male</td>\n",
       "      <td>27.0</td>\n",
       "      <td>3rd</td>\n",
       "      <td>Cherbourg</td>\n",
       "      <td>Lebanon</td>\n",
       "      <td>18.1509</td>\n",
       "      <td>yes</td>\n",
       "    </tr>\n",
       "    <tr>\n",
       "      <th>9</th>\n",
       "      <td>Abrahamsson, Mr. Abraham August Johannes</td>\n",
       "      <td>male</td>\n",
       "      <td>20.0</td>\n",
       "      <td>3rd</td>\n",
       "      <td>Southampton</td>\n",
       "      <td>Finland</td>\n",
       "      <td>7.1806</td>\n",
       "      <td>yes</td>\n",
       "    </tr>\n",
       "  </tbody>\n",
       "</table>\n",
       "</div>"
      ],
      "text/plain": [
       "                                       name  gender   age class     embarked  \\\n",
       "0                       Abbing, Mr. Anthony    male  42.0   3rd  Southampton   \n",
       "1                 Abbott, Mr. Eugene Joseph    male  13.0   3rd  Southampton   \n",
       "2               Abbott, Mr. Rossmore Edward    male  16.0   3rd  Southampton   \n",
       "3            Abbott, Mrs. Rhoda Mary 'Rosa'  female  39.0   3rd  Southampton   \n",
       "4               Abelseth, Miss. Karen Marie  female  16.0   3rd  Southampton   \n",
       "5             Abelseth, Mr. Olaus Jørgensen    male  25.0   3rd  Southampton   \n",
       "6                       Abelson, Mr. Samuel    male  30.0   2nd    Cherbourg   \n",
       "7                      Abelson, Mrs. Hannah  female  28.0   2nd    Cherbourg   \n",
       "8              Abī-Al-Munà, Mr. Nāsīf Qāsim    male  27.0   3rd    Cherbourg   \n",
       "9  Abrahamsson, Mr. Abraham August Johannes    male  20.0   3rd  Southampton   \n",
       "\n",
       "         country     fare survived  \n",
       "0  United States   7.1100       no  \n",
       "1  United States  20.0500       no  \n",
       "2  United States  20.0500       no  \n",
       "3        England  20.0500      yes  \n",
       "4         Norway   7.1300      yes  \n",
       "5  United States   7.1300      yes  \n",
       "6         France  24.0000       no  \n",
       "7         France  24.0000      yes  \n",
       "8        Lebanon  18.1509      yes  \n",
       "9        Finland   7.1806      yes  "
      ]
     },
     "execution_count": 1,
     "metadata": {},
     "output_type": "execute_result"
    }
   ],
   "source": [
    "import numpy as np\n",
    "import pandas as pd\n",
    "# Safe settings for Pandas.\n",
    "pd.set_option('mode.chained_assignment', 'raise')\n",
    "%matplotlib inline\n",
    "import matplotlib.pyplot as plt\n",
    "# Make the plots look more fancy.\n",
    "plt.style.use('fivethirtyeight')\n",
    "# Optimization function\n",
    "from scipy.optimize import minimize\n",
    "import statsmodels.api as sm\n",
    "\n",
    "# importing the data\n",
    "titanic = pd.read_csv('https://raw.githubusercontent.com/matthew-brett/cfd2020/master/data/titanic_clean.csv')\n",
    "\n",
    "titanic.head(10)"
   ]
  },
  {
   "cell_type": "markdown",
   "id": "employed-market",
   "metadata": {},
   "source": [
    "# Linear Regression with one predictor\n",
    "\n",
    "We are going to predict `survived` from `fare`. Were passengers who paid a higher fare more likely to survive? \n",
    "\n",
    "First, let's see how well a linear regression model does at predicting `survived` from `fare`.\n",
    "\n",
    "\n",
    "*Question 1:*\n",
    "\n",
    "Create a dummy variable for `survived` and add it to the `titanic` dataframe. We will treat `survived == 'yes'` as the event of interest, so give this the label `1`. Label `survived == 'no'` with a `0`:"
   ]
  },
  {
   "cell_type": "code",
   "execution_count": 2,
   "id": "defined-holocaust",
   "metadata": {},
   "outputs": [
    {
     "data": {
      "text/html": [
       "<div>\n",
       "<style scoped>\n",
       "    .dataframe tbody tr th:only-of-type {\n",
       "        vertical-align: middle;\n",
       "    }\n",
       "\n",
       "    .dataframe tbody tr th {\n",
       "        vertical-align: top;\n",
       "    }\n",
       "\n",
       "    .dataframe thead th {\n",
       "        text-align: right;\n",
       "    }\n",
       "</style>\n",
       "<table border=\"1\" class=\"dataframe\">\n",
       "  <thead>\n",
       "    <tr style=\"text-align: right;\">\n",
       "      <th></th>\n",
       "      <th>name</th>\n",
       "      <th>gender</th>\n",
       "      <th>age</th>\n",
       "      <th>class</th>\n",
       "      <th>embarked</th>\n",
       "      <th>country</th>\n",
       "      <th>fare</th>\n",
       "      <th>survived</th>\n",
       "      <th>survived_dummy</th>\n",
       "    </tr>\n",
       "  </thead>\n",
       "  <tbody>\n",
       "    <tr>\n",
       "      <th>0</th>\n",
       "      <td>Abbing, Mr. Anthony</td>\n",
       "      <td>male</td>\n",
       "      <td>42.0</td>\n",
       "      <td>3rd</td>\n",
       "      <td>Southampton</td>\n",
       "      <td>United States</td>\n",
       "      <td>7.1100</td>\n",
       "      <td>no</td>\n",
       "      <td>0</td>\n",
       "    </tr>\n",
       "    <tr>\n",
       "      <th>1</th>\n",
       "      <td>Abbott, Mr. Eugene Joseph</td>\n",
       "      <td>male</td>\n",
       "      <td>13.0</td>\n",
       "      <td>3rd</td>\n",
       "      <td>Southampton</td>\n",
       "      <td>United States</td>\n",
       "      <td>20.0500</td>\n",
       "      <td>no</td>\n",
       "      <td>0</td>\n",
       "    </tr>\n",
       "    <tr>\n",
       "      <th>2</th>\n",
       "      <td>Abbott, Mr. Rossmore Edward</td>\n",
       "      <td>male</td>\n",
       "      <td>16.0</td>\n",
       "      <td>3rd</td>\n",
       "      <td>Southampton</td>\n",
       "      <td>United States</td>\n",
       "      <td>20.0500</td>\n",
       "      <td>no</td>\n",
       "      <td>0</td>\n",
       "    </tr>\n",
       "    <tr>\n",
       "      <th>3</th>\n",
       "      <td>Abbott, Mrs. Rhoda Mary 'Rosa'</td>\n",
       "      <td>female</td>\n",
       "      <td>39.0</td>\n",
       "      <td>3rd</td>\n",
       "      <td>Southampton</td>\n",
       "      <td>England</td>\n",
       "      <td>20.0500</td>\n",
       "      <td>yes</td>\n",
       "      <td>1</td>\n",
       "    </tr>\n",
       "    <tr>\n",
       "      <th>4</th>\n",
       "      <td>Abelseth, Miss. Karen Marie</td>\n",
       "      <td>female</td>\n",
       "      <td>16.0</td>\n",
       "      <td>3rd</td>\n",
       "      <td>Southampton</td>\n",
       "      <td>Norway</td>\n",
       "      <td>7.1300</td>\n",
       "      <td>yes</td>\n",
       "      <td>1</td>\n",
       "    </tr>\n",
       "    <tr>\n",
       "      <th>...</th>\n",
       "      <td>...</td>\n",
       "      <td>...</td>\n",
       "      <td>...</td>\n",
       "      <td>...</td>\n",
       "      <td>...</td>\n",
       "      <td>...</td>\n",
       "      <td>...</td>\n",
       "      <td>...</td>\n",
       "      <td>...</td>\n",
       "    </tr>\n",
       "    <tr>\n",
       "      <th>1208</th>\n",
       "      <td>Yvois, Miss. Henriette</td>\n",
       "      <td>female</td>\n",
       "      <td>24.0</td>\n",
       "      <td>2nd</td>\n",
       "      <td>Southampton</td>\n",
       "      <td>France</td>\n",
       "      <td>13.0000</td>\n",
       "      <td>no</td>\n",
       "      <td>0</td>\n",
       "    </tr>\n",
       "    <tr>\n",
       "      <th>1209</th>\n",
       "      <td>Zakarian, Mr. Mapriededer</td>\n",
       "      <td>male</td>\n",
       "      <td>22.0</td>\n",
       "      <td>3rd</td>\n",
       "      <td>Cherbourg</td>\n",
       "      <td>Turkey</td>\n",
       "      <td>7.0406</td>\n",
       "      <td>no</td>\n",
       "      <td>0</td>\n",
       "    </tr>\n",
       "    <tr>\n",
       "      <th>1210</th>\n",
       "      <td>Zakarian, Mr. Ortin</td>\n",
       "      <td>male</td>\n",
       "      <td>27.0</td>\n",
       "      <td>3rd</td>\n",
       "      <td>Cherbourg</td>\n",
       "      <td>Turkey</td>\n",
       "      <td>7.0406</td>\n",
       "      <td>no</td>\n",
       "      <td>0</td>\n",
       "    </tr>\n",
       "    <tr>\n",
       "      <th>1211</th>\n",
       "      <td>Zenni, Mr. Philip</td>\n",
       "      <td>male</td>\n",
       "      <td>25.0</td>\n",
       "      <td>3rd</td>\n",
       "      <td>Cherbourg</td>\n",
       "      <td>Lebanon</td>\n",
       "      <td>7.0406</td>\n",
       "      <td>yes</td>\n",
       "      <td>1</td>\n",
       "    </tr>\n",
       "    <tr>\n",
       "      <th>1212</th>\n",
       "      <td>Zimmermann, Mr. Leo</td>\n",
       "      <td>male</td>\n",
       "      <td>29.0</td>\n",
       "      <td>3rd</td>\n",
       "      <td>Southampton</td>\n",
       "      <td>Germany</td>\n",
       "      <td>7.1706</td>\n",
       "      <td>no</td>\n",
       "      <td>0</td>\n",
       "    </tr>\n",
       "  </tbody>\n",
       "</table>\n",
       "<p>1213 rows × 9 columns</p>\n",
       "</div>"
      ],
      "text/plain": [
       "                                name  gender   age class     embarked  \\\n",
       "0                Abbing, Mr. Anthony    male  42.0   3rd  Southampton   \n",
       "1          Abbott, Mr. Eugene Joseph    male  13.0   3rd  Southampton   \n",
       "2        Abbott, Mr. Rossmore Edward    male  16.0   3rd  Southampton   \n",
       "3     Abbott, Mrs. Rhoda Mary 'Rosa'  female  39.0   3rd  Southampton   \n",
       "4        Abelseth, Miss. Karen Marie  female  16.0   3rd  Southampton   \n",
       "...                              ...     ...   ...   ...          ...   \n",
       "1208          Yvois, Miss. Henriette  female  24.0   2nd  Southampton   \n",
       "1209       Zakarian, Mr. Mapriededer    male  22.0   3rd    Cherbourg   \n",
       "1210             Zakarian, Mr. Ortin    male  27.0   3rd    Cherbourg   \n",
       "1211               Zenni, Mr. Philip    male  25.0   3rd    Cherbourg   \n",
       "1212             Zimmermann, Mr. Leo    male  29.0   3rd  Southampton   \n",
       "\n",
       "            country     fare survived  survived_dummy  \n",
       "0     United States   7.1100       no               0  \n",
       "1     United States  20.0500       no               0  \n",
       "2     United States  20.0500       no               0  \n",
       "3           England  20.0500      yes               1  \n",
       "4            Norway   7.1300      yes               1  \n",
       "...             ...      ...      ...             ...  \n",
       "1208         France  13.0000       no               0  \n",
       "1209         Turkey   7.0406       no               0  \n",
       "1210         Turkey   7.0406       no               0  \n",
       "1211        Lebanon   7.0406      yes               1  \n",
       "1212        Germany   7.1706       no               0  \n",
       "\n",
       "[1213 rows x 9 columns]"
      ]
     },
     "execution_count": 2,
     "metadata": {},
     "output_type": "execute_result"
    }
   ],
   "source": [
    "titanic['survived_dummy'] = ...\n",
    "\n",
    "# do not delete the code below this point\n",
    "# show the dataframe\n",
    "titanic"
   ]
  },
  {
   "cell_type": "markdown",
   "id": "underlying-leather",
   "metadata": {},
   "source": [
    "*Question 2:*\n",
    "\n",
    "Store `fare` as a separate variable:"
   ]
  },
  {
   "cell_type": "code",
   "execution_count": 3,
   "id": "median-daily",
   "metadata": {},
   "outputs": [
    {
     "data": {
      "text/plain": [
       "0        7.1100\n",
       "1       20.0500\n",
       "2       20.0500\n",
       "3       20.0500\n",
       "4        7.1300\n",
       "         ...   \n",
       "1208    13.0000\n",
       "1209     7.0406\n",
       "1210     7.0406\n",
       "1211     7.0406\n",
       "1212     7.1706\n",
       "Name: fare, Length: 1213, dtype: float64"
      ]
     },
     "execution_count": 3,
     "metadata": {},
     "output_type": "execute_result"
    }
   ],
   "source": [
    "fare = ...\n",
    "\n",
    "# do not delete the code below this point\n",
    "# show the fare data \n",
    "fare"
   ]
  },
  {
   "cell_type": "markdown",
   "id": "emerging-medicine",
   "metadata": {},
   "source": [
    "*Question 3:*\n",
    "\n",
    "Now, store `survived_dummy` as a separate variable:"
   ]
  },
  {
   "cell_type": "code",
   "execution_count": 4,
   "id": "restricted-league",
   "metadata": {},
   "outputs": [],
   "source": [
    "survived_dummy = ..."
   ]
  },
  {
   "cell_type": "markdown",
   "id": "spectacular-burton",
   "metadata": {},
   "source": [
    "*Question 4:*\n",
    "\n",
    "To get a graphical idea of how `fare` relates to `survived`, let's plot them together.\n",
    "\n",
    "Create a scatterplot with `fare` on the x axis and `survived_dummy` on the y axis:"
   ]
  },
  {
   "cell_type": "code",
   "execution_count": 5,
   "id": "loved-alignment",
   "metadata": {},
   "outputs": [
    {
     "data": {
      "image/png": "[encoded data removed]",
      "text/plain": [
       "<Figure size 432x288 with 1 Axes>"
      ]
     },
     "metadata": {},
     "output_type": "display_data"
    }
   ],
   "source": [
    "titanic.plot(..."
   ]
  },
  {
   "cell_type": "markdown",
   "id": "affected-specification",
   "metadata": {},
   "source": [
    "*Question 5:*\n",
    "\n",
    "Do you think it looks like there is a relationship between these two variables? How would you describe the relationship? (Rememeber that `survived_dummy == 1` means the passenger survived, `survived_dummy == 0` means they did not).\n",
    "\n",
    "Write your answer in the cell below:"
   ]
  },
  {
   "cell_type": "markdown",
   "id": "hydraulic-infrared",
   "metadata": {},
   "source": [
    "#### Your answer here..."
   ]
  },
  {
   "cell_type": "markdown",
   "id": "rising-narrative",
   "metadata": {},
   "source": [
    "*Question 6:*\n",
    "\n",
    "Before we investigate this relationship with linear regression, we will need a function to calculate the sum of squared error, for any given intercept and slope, when we predict `survived_dummy` from `fare`.\n",
    "\n",
    "Write a function called `sos_error_for_minimize` to calculate the sum of squared error when predicting `survived_dummy` from `fare`. `sos_error_for_minimize` should take as its input a list containing an intercept and a slope:\n",
    "\n",
    "*Hint: you may want to consult the 'Using minimize' page for a refresher on how to do this: https://matthew-brett.github.io/cfd2020/mean-slopes/using_minimize.html*\n"
   ]
  },
  {
   "cell_type": "code",
   "execution_count": 6,
   "id": "appreciated-increase",
   "metadata": {},
   "outputs": [],
   "source": [
    "def sos_error_for_minimize(intercept_and_slope):\n",
    "   \n",
    "    intercept = intercept_and_slope[0]\n",
    "    slope = ...\n",
    "    predicted = ...\n",
    "    error = ...\n",
    "    return np.sum(..."
   ]
  },
  {
   "cell_type": "markdown",
   "id": "convinced-thesis",
   "metadata": {},
   "source": [
    "*Question 7:*\n",
    "\n",
    "Now use minimize to find the intercept and slope pair which minimizes the sum of the squared error when predicting `survived` from `fare`, using the `sos_error_for_minimize` function:"
   ]
  },
  {
   "cell_type": "code",
   "execution_count": 7,
   "id": "closing-border",
   "metadata": {},
   "outputs": [
    {
     "data": {
      "text/plain": [
       "      fun: 273.3802825819739\n",
       " hess_inv: array([[ 5.97884899e-04, -5.74037813e-06],\n",
       "       [-5.74037813e-06,  1.77462716e-07]])\n",
       "      jac: array([0., 0.])\n",
       "  message: 'Optimization terminated successfully.'\n",
       "     nfev: 24\n",
       "      nit: 4\n",
       "     njev: 6\n",
       "   status: 0\n",
       "  success: True\n",
       "        x: array([0.31406464, 0.00226928])"
      ]
     },
     "execution_count": 7,
     "metadata": {},
     "output_type": "execute_result"
    }
   ],
   "source": [
    "from scipy.optimize import minimize\n",
    "\n",
    "lin_reg_one = minimize(...\n",
    "                \n",
    "# do not delete the code below this point\n",
    "lin_reg_one"
   ]
  },
  {
   "cell_type": "markdown",
   "id": "geographic-preserve",
   "metadata": {},
   "source": [
    "*Question 8:*\n",
    "\n",
    "Store the intercept and slope from `minimize` as separate variables. Call the intercept `lin_reg_one_intercept` and call the slope `lin_reg_one_slope`:"
   ]
  },
  {
   "cell_type": "code",
   "execution_count": 8,
   "id": "descending-curtis",
   "metadata": {},
   "outputs": [
    {
     "name": "stdout",
     "output_type": "stream",
     "text": [
      "Intercept from minimize (linear regression) = 0.3140646382128085\n",
      "Slope from minimize (linear regression) = 0.002269284538207536\n"
     ]
    }
   ],
   "source": [
    "lin_reg_one_intercept = ...\n",
    "\n",
    "lin_reg_one_slope = ...\n",
    "\n",
    "# do not delete the code below this point\n",
    "print('Intercept from minimize (linear regression) =', lin_reg_one_intercept)\n",
    "print('Slope from minimize (linear regression) =', lin_reg_one_slope)"
   ]
  },
  {
   "cell_type": "markdown",
   "id": "starting-album",
   "metadata": {},
   "source": [
    "*Question 9:*\n",
    "\n",
    "Let's compare the intercept and slope from `minimize` to the intercept and slope we get from Statsmodels. Complete the code in the cell below to predict `survived` from `fare` using Statsmodels linear regression (check under `coef` on the model summary shown below the cell, and compare these to the intercept/slope from minimize):\n",
    "\n",
    "*Hint: you may want to check the 'Simple and multiple regression' page, for a refresher on how to do this: https://matthew-brett.github.io/cfd2020/classification/single_multiple.html*\n",
    "\n",
    "*Note: `smf.ols()` is one way of performing linear regression with Statsmodels; `ols` stands for 'ordinary least squares':*"
   ]
  },
  {
   "cell_type": "code",
   "execution_count": 9,
   "id": "devoted-vegetarian",
   "metadata": {},
   "outputs": [
    {
     "data": {
      "text/html": [
       "<table class=\"simpletable\">\n",
       "<caption>OLS Regression Results</caption>\n",
       "<tr>\n",
       "  <th>Dep. Variable:</th>     <td>survived_dummy</td>  <th>  R-squared:         </th> <td>   0.050</td>\n",
       "</tr>\n",
       "<tr>\n",
       "  <th>Model:</th>                   <td>OLS</td>       <th>  Adj. R-squared:    </th> <td>   0.050</td>\n",
       "</tr>\n",
       "<tr>\n",
       "  <th>Method:</th>             <td>Least Squares</td>  <th>  F-statistic:       </th> <td>   64.27</td>\n",
       "</tr>\n",
       "<tr>\n",
       "  <th>Date:</th>             <td>Sat, 17 Apr 2021</td> <th>  Prob (F-statistic):</th> <td>2.53e-15</td>\n",
       "</tr>\n",
       "<tr>\n",
       "  <th>Time:</th>                 <td>18:45:20</td>     <th>  Log-Likelihood:    </th> <td> -817.49</td>\n",
       "</tr>\n",
       "<tr>\n",
       "  <th>No. Observations:</th>      <td>  1213</td>      <th>  AIC:               </th> <td>   1639.</td>\n",
       "</tr>\n",
       "<tr>\n",
       "  <th>Df Residuals:</th>          <td>  1211</td>      <th>  BIC:               </th> <td>   1649.</td>\n",
       "</tr>\n",
       "<tr>\n",
       "  <th>Df Model:</th>              <td>     1</td>      <th>                     </th>     <td> </td>   \n",
       "</tr>\n",
       "<tr>\n",
       "  <th>Covariance Type:</th>      <td>nonrobust</td>    <th>                     </th>     <td> </td>   \n",
       "</tr>\n",
       "</table>\n",
       "<table class=\"simpletable\">\n",
       "<tr>\n",
       "      <td></td>         <th>coef</th>     <th>std err</th>      <th>t</th>      <th>P>|t|</th>  <th>[0.025</th>    <th>0.975]</th>  \n",
       "</tr>\n",
       "<tr>\n",
       "  <th>Intercept</th> <td>    0.3141</td> <td>    0.016</td> <td>   19.115</td> <td> 0.000</td> <td>    0.282</td> <td>    0.346</td>\n",
       "</tr>\n",
       "<tr>\n",
       "  <th>fare</th>      <td>    0.0023</td> <td>    0.000</td> <td>    8.017</td> <td> 0.000</td> <td>    0.002</td> <td>    0.003</td>\n",
       "</tr>\n",
       "</table>\n",
       "<table class=\"simpletable\">\n",
       "<tr>\n",
       "  <th>Omnibus:</th>       <td>6684.269</td> <th>  Durbin-Watson:     </th> <td>   1.803</td>\n",
       "</tr>\n",
       "<tr>\n",
       "  <th>Prob(Omnibus):</th>  <td> 0.000</td>  <th>  Jarque-Bera (JB):  </th> <td> 173.205</td>\n",
       "</tr>\n",
       "<tr>\n",
       "  <th>Skew:</th>           <td> 0.465</td>  <th>  Prob(JB):          </th> <td>2.45e-38</td>\n",
       "</tr>\n",
       "<tr>\n",
       "  <th>Kurtosis:</th>       <td> 1.399</td>  <th>  Cond. No.          </th> <td>    69.9</td>\n",
       "</tr>\n",
       "</table><br/><br/>Notes:<br/>[1] Standard Errors assume that the covariance matrix of the errors is correctly specified."
      ],
      "text/plain": [
       "<class 'statsmodels.iolib.summary.Summary'>\n",
       "\"\"\"\n",
       "                            OLS Regression Results                            \n",
       "==============================================================================\n",
       "Dep. Variable:         survived_dummy   R-squared:                       0.050\n",
       "Model:                            OLS   Adj. R-squared:                  0.050\n",
       "Method:                 Least Squares   F-statistic:                     64.27\n",
       "Date:                Sat, 17 Apr 2021   Prob (F-statistic):           2.53e-15\n",
       "Time:                        18:45:20   Log-Likelihood:                -817.49\n",
       "No. Observations:                1213   AIC:                             1639.\n",
       "Df Residuals:                    1211   BIC:                             1649.\n",
       "Df Model:                           1                                         \n",
       "Covariance Type:            nonrobust                                         \n",
       "==============================================================================\n",
       "                 coef    std err          t      P>|t|      [0.025      0.975]\n",
       "------------------------------------------------------------------------------\n",
       "Intercept      0.3141      0.016     19.115      0.000       0.282       0.346\n",
       "fare           0.0023      0.000      8.017      0.000       0.002       0.003\n",
       "==============================================================================\n",
       "Omnibus:                     6684.269   Durbin-Watson:                   1.803\n",
       "Prob(Omnibus):                  0.000   Jarque-Bera (JB):              173.205\n",
       "Skew:                           0.465   Prob(JB):                     2.45e-38\n",
       "Kurtosis:                       1.399   Cond. No.                         69.9\n",
       "==============================================================================\n",
       "\n",
       "Notes:\n",
       "[1] Standard Errors assume that the covariance matrix of the errors is correctly specified.\n",
       "\"\"\""
      ]
     },
     "execution_count": 9,
     "metadata": {},
     "output_type": "execute_result"
    }
   ],
   "source": [
    "import statsmodels.formula.api as smf\n",
    "\n",
    "mod = smf.ols(..., data = ...)\n",
    "\n",
    "mod = mod.fit()\n",
    "\n",
    "mod.summary()"
   ]
  },
  {
   "cell_type": "markdown",
   "id": "sharing-float",
   "metadata": {},
   "source": [
    "How do the slope and intercept from Statsmodels compare to the ones we got from `minimize`?"
   ]
  },
  {
   "cell_type": "code",
   "execution_count": 10,
   "id": "loaded-possibility",
   "metadata": {},
   "outputs": [
    {
     "name": "stdout",
     "output_type": "stream",
     "text": [
      "Intercept from minimize (linear regression) = 0.3140646382128085\n",
      "Slope from minimize (linear regression) = 0.002269284538207536\n"
     ]
    }
   ],
   "source": [
    "# run this cell to view the intercept/slope we got from minimize\n",
    "print('Intercept from minimize (linear regression) =', lin_reg_one_intercept)\n",
    "print('Slope from minimize (linear regression) =', lin_reg_one_slope)"
   ]
  },
  {
   "cell_type": "markdown",
   "id": "accredited-maple",
   "metadata": {},
   "source": [
    "*Question 10:*\n",
    "\n",
    "Recall that, when we use linear regression to predict probabilities, the predicted probability is calculated from:\n",
    "\n",
    "$\n",
    "\\text{predicted probability} = intercept + slope * \\text{fare}\n",
    "$\n",
    "\n",
    "Use the intercept and slope we got from `minimize` to calculate the predicted probability of survival. Store the result in a variable called `predictions_lin_reg_one`:"
   ]
  },
  {
   "cell_type": "code",
   "execution_count": 11,
   "id": "cheap-scoop",
   "metadata": {},
   "outputs": [
    {
     "data": {
      "text/plain": [
       "0       0.330199\n",
       "1       0.359564\n",
       "2       0.359564\n",
       "3       0.359564\n",
       "4       0.330245\n",
       "          ...   \n",
       "1208    0.343565\n",
       "1209    0.330042\n",
       "1210    0.330042\n",
       "1211    0.330042\n",
       "1212    0.330337\n",
       "Name: fare, Length: 1213, dtype: float64"
      ]
     },
     "execution_count": 11,
     "metadata": {},
     "output_type": "execute_result"
    }
   ],
   "source": [
    "predictions_lin_reg_one = ...\n",
    "\n",
    "# do not delete the code below this point\n",
    "predictions_lin_reg_one"
   ]
  },
  {
   "cell_type": "markdown",
   "id": "clinical-floating",
   "metadata": {},
   "source": [
    "*Question 11:*\n",
    "\n",
    "Let's plot these predictions against the original data. Create the same scatterplot as you did above, with `fare` on the x axis and `survived_dummy` on the y axis. The code at the bottom of the cell will add the predicted probabilities from linear regression to the graph (in gold):"
   ]
  },
  {
   "cell_type": "code",
   "execution_count": 12,
   "id": "dietary-recommendation",
   "metadata": {},
   "outputs": [
    {
     "data": {
      "image/png": "[encoded data removed]",
      "text/plain": [
       "<Figure size 432x288 with 1 Axes>"
      ]
     },
     "metadata": {},
     "output_type": "display_data"
    }
   ],
   "source": [
    "titanic.plot(...\n",
    "\n",
    "# do not change the code below this point, it will add the linear regression predictions to the graph\n",
    "plt.scatter(fare, predictions_lin_reg_one, color = 'gold');"
   ]
  },
  {
   "cell_type": "markdown",
   "id": "consecutive-observation",
   "metadata": {},
   "source": [
    "You can see from the graph that for a `fare` of around 500, our linear regression model predicts a probability of survival greater than 1.\n",
    "\n",
    "Let's see if logistic regression does a better job."
   ]
  },
  {
   "cell_type": "markdown",
   "id": "artificial-sympathy",
   "metadata": {},
   "source": [
    "# Logistic Regression with one predictor\n",
    "\n",
    "\n",
    "Before we begin, let's do a brief recap of the difference between probability and odds ratios.\n",
    "\n",
    "The output of the cell below shows some of the values from `class` column of the `titanic` dataframe. These values are stored in a variable called `some_class_data`:"
   ]
  },
  {
   "cell_type": "code",
   "execution_count": 13,
   "id": "maritime-armstrong",
   "metadata": {},
   "outputs": [
    {
     "data": {
      "text/plain": [
       "100    2nd\n",
       "101    3rd\n",
       "102    2nd\n",
       "103    2nd\n",
       "104    2nd\n",
       "105    2nd\n",
       "106    1st\n",
       "107    1st\n",
       "108    2nd\n",
       "109    1st\n",
       "Name: class, dtype: object"
      ]
     },
     "execution_count": 13,
     "metadata": {},
     "output_type": "execute_result"
    }
   ],
   "source": [
    "# here are some of the elements of the 'class' column in the titanic dataframe\n",
    "some_class_data = titanic['class'].loc[100:109]\n",
    "\n",
    "some_class_data"
   ]
  },
  {
   "cell_type": "markdown",
   "id": "automatic-conditions",
   "metadata": {},
   "source": [
    "*Question 12:*\n",
    "\n",
    "In the `some_class_data` series, what is the probability of a passenger being `1st` class? \n",
    "\n",
    "Remember that probability is $\\frac{\\text{number of observations of interest}}{\\text{total number of observations}}$\n",
    "\n",
    "Calculate the probability of being `1st` class in the `some_class_data` series. Store the result in a variable called `prob_first`.\n",
    "\n",
    "*Hint: you can use `np.count_nonzero()` to count the number of `1st` class passengers in `some_class_data`. You can use the `len()` function to count the total number of observations in `some_class_data`*\n"
   ]
  },
  {
   "cell_type": "code",
   "execution_count": 14,
   "id": "worldwide-exchange",
   "metadata": {},
   "outputs": [
    {
     "data": {
      "text/plain": [
       "0.3"
      ]
     },
     "execution_count": 14,
     "metadata": {},
     "output_type": "execute_result"
    }
   ],
   "source": [
    "prob_first = ...\n",
    "prob_first"
   ]
  },
  {
   "cell_type": "markdown",
   "id": "careful-colony",
   "metadata": {},
   "source": [
    "*Question 13:*\n",
    "\n",
    "In the `some_class_data` series, what is the odds ratio of being `1st` class?\n",
    "\n",
    "Remember that if $p$ is the probability of the event of interest, the odds ratio of the event of interest is $\\frac{p}{1 - p}$\n",
    "\n",
    "Calculate the odds ratio of being `1st` class in the `some_class_data` series, store the result in a variable called `odds_first`:"
   ]
  },
  {
   "cell_type": "code",
   "execution_count": 15,
   "id": "precious-journal",
   "metadata": {},
   "outputs": [
    {
     "data": {
      "text/plain": [
       "0.4285714285714286"
      ]
     },
     "execution_count": 15,
     "metadata": {},
     "output_type": "execute_result"
    }
   ],
   "source": [
    "odds_first = ...\n",
    "odds_first"
   ]
  },
  {
   "cell_type": "markdown",
   "id": "guided-physiology",
   "metadata": {},
   "source": [
    "Remember that logistic regression predicts the *log odds ratio* of the event of interest.\n",
    "\n",
    "To perform our logistic regression, let's define the functions we need.\n",
    "\n",
    "Read over each line and make sure you understand what it is doing."
   ]
  },
  {
   "cell_type": "code",
   "execution_count": 16,
   "id": "considered-genome",
   "metadata": {},
   "outputs": [],
   "source": [
    "# define the functions we need\n",
    "\n",
    "def inv_logit(y):\n",
    "    \"\"\" Reverse logit transformation\n",
    "    \"\"\"\n",
    "    odds_ratios = np.exp(y)  # Reverse the log operation.\n",
    "    return odds_ratios / (odds_ratios + 1)  # Reverse odds ratios operation; return probabilities\n",
    "\n",
    "\n",
    "def mll_logit_cost(intercept_and_slope, x, y):\n",
    "    \"\"\" Cost function for maximum log likelihood\n",
    "\n",
    "    Return minus of the log of the likelihood.\n",
    "    \"\"\"\n",
    "    intercept, slope = intercept_and_slope\n",
    "    \n",
    "    # Make predictions for sigmoid.\n",
    "    predicted_log_odds = intercept + slope * x\n",
    "    pp_of_1 = inv_logit(predicted_log_odds)\n",
    "    \n",
    "    # Calculate predicted probabilities of the actual labels.\n",
    "    pp_of_correct_label = y * pp_of_1 + (1 - y) * (1 - pp_of_1)\n",
    "    \n",
    "    # Use logs to calculate log of the likelihood\n",
    "    log_likelihood = np.sum(np.log(pp_of_correct_label))\n",
    "    \n",
    "    # Ask minimize to find maximum by adding minus sign.\n",
    "    return -log_likelihood"
   ]
  },
  {
   "cell_type": "markdown",
   "id": "major-review",
   "metadata": {},
   "source": [
    "*Question 14:*\n",
    "\n",
    "Use `minimize` to find the intercept and slope pair which gives the smallest negative log likelihood, when we predict `survive_dummy` from `fare`. Store the results in a variable called `log_reg_one`:\n",
    "\n",
    "*Hint: begin with a guessed intercept and guessed slope both around 0.1, otherwise the function may fail...*\n",
    "\n",
    "*Hint: the logistic regression cost function accepts more arguments than just the intercept and slope list, so you will need to use `args =` to give minimize the x and y values (in this case x = `fare` and y = `survived_dummy`)*"
   ]
  },
  {
   "cell_type": "code",
   "execution_count": 17,
   "id": "spare-accident",
   "metadata": {},
   "outputs": [
    {
     "data": {
      "text/plain": [
       "      fun: 777.3442248980926\n",
       " hess_inv: array([[ 5.96629571e-03, -7.90701961e-05],\n",
       "       [-7.90701961e-05,  2.67342997e-06]])\n",
       "      jac: array([-7.62939453e-06,  7.62939453e-06])\n",
       "  message: 'Optimization terminated successfully.'\n",
       "     nfev: 68\n",
       "      nit: 10\n",
       "     njev: 17\n",
       "   status: 0\n",
       "  success: True\n",
       "        x: array([-0.8187332 ,  0.01133774])"
      ]
     },
     "execution_count": 17,
     "metadata": {},
     "output_type": "execute_result"
    }
   ],
   "source": [
    "log_reg_one = minimize(..., args = ...)\n",
    "\n",
    "log_reg_one"
   ]
  },
  {
   "cell_type": "markdown",
   "id": "flying-payment",
   "metadata": {},
   "source": [
    "*Question 15:*\n",
    "\n",
    "Store the intercept and slope as separate variables. Call the intercept `log_reg_one_intercept` and call the slope `log_reg_one_slope`:"
   ]
  },
  {
   "cell_type": "code",
   "execution_count": 18,
   "id": "banner-federal",
   "metadata": {},
   "outputs": [
    {
     "name": "stdout",
     "output_type": "stream",
     "text": [
      "Intercept from minimize (logistic regression) = -0.8187331954804361\n",
      "Slope from minimize (logistic regression) = 0.011337735600729069\n"
     ]
    }
   ],
   "source": [
    "log_reg_one_intercept = ...\n",
    "\n",
    "log_reg_one_slope = ...\n",
    "\n",
    "# do not alter the code below this point\n",
    "print('Intercept from minimize (logistic regression) =', log_reg_one_intercept)\n",
    "print('Slope from minimize (logistic regression) =', log_reg_one_slope)"
   ]
  },
  {
   "cell_type": "markdown",
   "id": "completed-flour",
   "metadata": {},
   "source": [
    "*Question 16:*\n",
    "\n",
    "Let's compare these to the intercept and slope we get from Statsmodels.\n",
    "\n",
    "Perform a logistic regression, using `smf.logit()`, to predict `survived_dummy` from `fare`:"
   ]
  },
  {
   "cell_type": "code",
   "execution_count": 19,
   "id": "awful-lucas",
   "metadata": {},
   "outputs": [
    {
     "name": "stdout",
     "output_type": "stream",
     "text": [
      "Optimization terminated successfully.\n",
      "         Current function value: 0.640844\n",
      "         Iterations 5\n"
     ]
    },
    {
     "data": {
      "text/html": [
       "<table class=\"simpletable\">\n",
       "<caption>Logit Regression Results</caption>\n",
       "<tr>\n",
       "  <th>Dep. Variable:</th>    <td>survived_dummy</td>  <th>  No. Observations:  </th>  <td>  1213</td>  \n",
       "</tr>\n",
       "<tr>\n",
       "  <th>Model:</th>                 <td>Logit</td>      <th>  Df Residuals:      </th>  <td>  1211</td>  \n",
       "</tr>\n",
       "<tr>\n",
       "  <th>Method:</th>                 <td>MLE</td>       <th>  Df Model:          </th>  <td>     1</td>  \n",
       "</tr>\n",
       "<tr>\n",
       "  <th>Date:</th>            <td>Sat, 17 Apr 2021</td> <th>  Pseudo R-squ.:     </th>  <td>0.04008</td> \n",
       "</tr>\n",
       "<tr>\n",
       "  <th>Time:</th>                <td>18:45:20</td>     <th>  Log-Likelihood:    </th> <td> -777.34</td> \n",
       "</tr>\n",
       "<tr>\n",
       "  <th>converged:</th>             <td>True</td>       <th>  LL-Null:           </th> <td> -809.80</td> \n",
       "</tr>\n",
       "<tr>\n",
       "  <th>Covariance Type:</th>     <td>nonrobust</td>    <th>  LLR p-value:       </th> <td>7.819e-16</td>\n",
       "</tr>\n",
       "</table>\n",
       "<table class=\"simpletable\">\n",
       "<tr>\n",
       "      <td></td>         <th>coef</th>     <th>std err</th>      <th>z</th>      <th>P>|z|</th>  <th>[0.025</th>    <th>0.975]</th>  \n",
       "</tr>\n",
       "<tr>\n",
       "  <th>Intercept</th> <td>   -0.8187</td> <td>    0.077</td> <td>  -10.581</td> <td> 0.000</td> <td>   -0.970</td> <td>   -0.667</td>\n",
       "</tr>\n",
       "<tr>\n",
       "  <th>fare</th>      <td>    0.0113</td> <td>    0.002</td> <td>    6.957</td> <td> 0.000</td> <td>    0.008</td> <td>    0.015</td>\n",
       "</tr>\n",
       "</table>"
      ],
      "text/plain": [
       "<class 'statsmodels.iolib.summary.Summary'>\n",
       "\"\"\"\n",
       "                           Logit Regression Results                           \n",
       "==============================================================================\n",
       "Dep. Variable:         survived_dummy   No. Observations:                 1213\n",
       "Model:                          Logit   Df Residuals:                     1211\n",
       "Method:                           MLE   Df Model:                            1\n",
       "Date:                Sat, 17 Apr 2021   Pseudo R-squ.:                 0.04008\n",
       "Time:                        18:45:20   Log-Likelihood:                -777.34\n",
       "converged:                       True   LL-Null:                       -809.80\n",
       "Covariance Type:            nonrobust   LLR p-value:                 7.819e-16\n",
       "==============================================================================\n",
       "                 coef    std err          z      P>|z|      [0.025      0.975]\n",
       "------------------------------------------------------------------------------\n",
       "Intercept     -0.8187      0.077    -10.581      0.000      -0.970      -0.667\n",
       "fare           0.0113      0.002      6.957      0.000       0.008       0.015\n",
       "==============================================================================\n",
       "\"\"\""
      ]
     },
     "execution_count": 19,
     "metadata": {},
     "output_type": "execute_result"
    }
   ],
   "source": [
    "mod = smf.logit(..., data = ...)\n",
    "\n",
    "mod = mod.fit()\n",
    "\n",
    "mod.summary()"
   ]
  },
  {
   "cell_type": "markdown",
   "id": "egyptian-slave",
   "metadata": {},
   "source": [
    "How do the intercept and slope from Statsmodels compare to the ones we got from `minimize`?"
   ]
  },
  {
   "cell_type": "code",
   "execution_count": 20,
   "id": "academic-cricket",
   "metadata": {},
   "outputs": [
    {
     "name": "stdout",
     "output_type": "stream",
     "text": [
      "Intercept from minimize (logistic regression) = -0.8187331954804361\n",
      "Slope from minimize (logistic regression) = 0.011337735600729069\n"
     ]
    }
   ],
   "source": [
    "# run this cell to show the intercept and slope we got from minimize\n",
    "print('Intercept from minimize (logistic regression) =', log_reg_one_intercept)\n",
    "print('Slope from minimize (logistic regression) =', log_reg_one_slope)"
   ]
  },
  {
   "cell_type": "markdown",
   "id": "southern-carbon",
   "metadata": {},
   "source": [
    "*Question 17:*\n",
    "\n",
    "We can use the intercept and slope from logistic regression to predict the log odds ratio of survival, using:\n",
    "\n",
    "$ \\text{predicted log odds ratio} = intercept + slope * \\text{fare} $\n",
    "\n",
    "Calculate the predicted log odds ratio of survival for each passenger. Store these predictions in a variable called `predictions_log_reg_one`:"
   ]
  },
  {
   "cell_type": "code",
   "execution_count": 21,
   "id": "lovely-plain",
   "metadata": {},
   "outputs": [
    {
     "data": {
      "text/plain": [
       "0      -0.738122\n",
       "1      -0.591412\n",
       "2      -0.591412\n",
       "3      -0.591412\n",
       "4      -0.737895\n",
       "          ...   \n",
       "1208   -0.671343\n",
       "1209   -0.738909\n",
       "1210   -0.738909\n",
       "1211   -0.738909\n",
       "1212   -0.737435\n",
       "Name: fare, Length: 1213, dtype: float64"
      ]
     },
     "execution_count": 21,
     "metadata": {},
     "output_type": "execute_result"
    }
   ],
   "source": [
    "predictions_log_reg_one = ...\n",
    "\n",
    "predictions_log_reg_one"
   ]
  },
  {
   "cell_type": "markdown",
   "id": "reliable-angel",
   "metadata": {},
   "source": [
    "*Question 18:*\n",
    "\n",
    "The predicted log odds ratios are hard to interpret. Convert them to probabilities, and store the probabilities in the `\n",
    "predictions_log_reg_one` variable.\n",
    "\n",
    "*Hint: the function you need to do this is above. You need to invert the logit transformation...*"
   ]
  },
  {
   "cell_type": "code",
   "execution_count": 22,
   "id": "empty-count",
   "metadata": {},
   "outputs": [],
   "source": [
    "predictions_log_reg_one = ..."
   ]
  },
  {
   "cell_type": "markdown",
   "id": "resistant-million",
   "metadata": {},
   "source": [
    "*Question 19:*\n",
    "\n",
    "Let's plot the probabilities, alongside the original data.\n",
    "\n",
    "Create another scatterplot with `fare` on the x axis and `survived_dummy` on the y axis.\n",
    "\n",
    "Then run the cell below. the code at the bottom of the cell will add the predicted probabilities from logistic regression to the graph (in gold)."
   ]
  },
  {
   "cell_type": "code",
   "execution_count": 23,
   "id": "ethical-design",
   "metadata": {},
   "outputs": [
    {
     "data": {
      "image/png": "[encoded data removed]",
      "text/plain": [
       "<Figure size 432x288 with 1 Axes>"
      ]
     },
     "metadata": {},
     "output_type": "display_data"
    }
   ],
   "source": [
    "# plot the logistic reg probabilities\n",
    "\n",
    "# use plot from earlier, run code below to add your predictions\n",
    "titanic.plot(...\n",
    "\n",
    "\n",
    "# do not alter the code below this point, it will add the predicted probabilities to the graph\n",
    "plt.scatter(fare, predictions_log_reg_one, color = 'gold');"
   ]
  },
  {
   "cell_type": "markdown",
   "id": "lyric-omaha",
   "metadata": {},
   "source": [
    "Do you think this model gives a better fit than the linear regression model? Write your answer in the cell below:"
   ]
  },
  {
   "cell_type": "markdown",
   "id": "third-columbus",
   "metadata": {},
   "source": [
    "#### Your answer here..."
   ]
  },
  {
   "cell_type": "code",
   "execution_count": null,
   "id": "figured-irrigation",
   "metadata": {},
   "outputs": [],
   "source": []
  }
 ],
 "metadata": {
  "kernelspec": {
   "display_name": "Python 3",
   "language": "python",
   "name": "python3"
  },
  "language_info": {
   "codemirror_mode": {
    "name": "ipython",
    "version": 3
   },
   "file_extension": ".py",
   "mimetype": "text/x-python",
   "name": "python",
   "nbconvert_exporter": "python",
   "pygments_lexer": "ipython3",
   "version": "3.7.9"
  }
 },
 "nbformat": 4,
 "nbformat_minor": 5
}
