{
 "cells": [
  {
   "cell_type": "code",
   "execution_count": 1,
   "metadata": {},
   "outputs": [],
   "source": [
    "import numpy as np\n",
    "import numpy.random as npr  # Convenient shortcut\n",
    "import matplotlib.pyplot as plt"
   ]
  },
  {
   "cell_type": "code",
   "execution_count": 2,
   "metadata": {},
   "outputs": [],
   "source": [
    "# inspired by Agresti, Statistical Methods for the Social Sciences, 2018, 5th Ed., pg.100\n",
    "size = 5000\n",
    "\n",
    "distributions = [\n",
    "    npr.normal(1, 10, size=size),\n",
    "    npr.gamma(2, 1, size=size),\n",
    "    np.concatenate(\n",
    "    (npr.normal(1, 2, size=size),\n",
    "     npr.normal(10, 1.5, size=size))\n",
    "    ),\n",
    "    npr.hypergeometric(20, 20, 5, size=size),\n",
    "    npr.uniform(size=size)\n",
    "]"
   ]
  },
  {
   "cell_type": "code",
   "execution_count": 3,
   "metadata": {},
   "outputs": [],
   "source": [
    "n_iters = 1000\n",
    "samp_size = 20\n",
    "samp_ds = [] \n",
    "\n",
    "for dist in distributions:\n",
    "    samp_d = np.zeros(n_iters)\n",
    "    for i in np.arange(n_iters):\n",
    "        sample = np.random.choice(dist, size=samp_size)\n",
    "        samp_d[i] = np.mean(sample)\n",
    "    samp_ds.append(samp_d)"
   ]
  },
  {
   "cell_type": "code",
   "execution_count": 4,
   "metadata": {},
   "outputs": [
    {
     "data": {
      "image/png": "[encoded data removed]",
      "text/plain": [
       "<Figure size 1152x288 with 5 Axes>"
      ]
     },
     "metadata": {
      "needs_background": "light"
     },
     "output_type": "display_data"
    },
    {
     "data": {
      "image/png": "[encoded data removed]",
      "text/plain": [
       "<Figure size 1152x288 with 5 Axes>"
      ]
     },
     "metadata": {
      "needs_background": "light"
     },
     "output_type": "display_data"
    }
   ],
   "source": [
    "fig1, axes1 = plt.subplots(1, 5, figsize = (16, 4))\n",
    "fig2, axes2 = plt.subplots(1, 5, figsize = (16, 4))\n",
    "colors = ['red', 'blue', 'orange', 'cyan', 'green']\n",
    "for ax1, ax2, dist, samp_d, color in zip(\n",
    "    axes1, axes2, distributions, samp_ds, colors):\n",
    "    ax1.hist(dist, color=color)\n",
    "    ax1.set_yticklabels([])\n",
    "    ax1.set_xticklabels([])\n",
    "    ax2.hist(samp_d, color=color)\n",
    "    ax2.set_yticklabels([])\n",
    "    ax2.set_xticklabels([])\n",
    "    \n",
    "fig1.suptitle('Some population distributions:')\n",
    "fig2.suptitle('Sampling distribution of the sample mean for '\n",
    "              f'each population, sample size == {samp_size}:');"
   ]
  }
 ],
 "metadata": {
  "jupytext": {
   "notebook_metadata_filter": "all,-language_info",
   "split_at_heading": true
  },
  "kernelspec": {
   "display_name": "Python 3",
   "language": "python",
   "name": "python3"
  },
  "language_info": {
   "codemirror_mode": {
    "name": "ipython",
    "version": 3
   },
   "file_extension": ".py",
   "mimetype": "text/x-python",
   "name": "python",
   "nbconvert_exporter": "python",
   "pygments_lexer": "ipython3",
   "version": "3.8.1"
  }
 },
 "nbformat": 4,
 "nbformat_minor": 5
}
