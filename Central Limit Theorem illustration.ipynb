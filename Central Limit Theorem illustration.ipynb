{
 "cells": [
  {
   "cell_type": "code",
   "execution_count": 3,
   "id": "portable-baseball",
   "metadata": {},
   "outputs": [],
   "source": [
    "import numpy as np\n",
    "import matplotlib.pyplot as plt"
   ]
  },
  {
   "cell_type": "code",
   "execution_count": 24,
   "id": "meaning-chicken",
   "metadata": {},
   "outputs": [
    {
     "data": {
      "image/png": "[encoded data removed]",
      "text/plain": [
       "<Figure size 1152x288 with 5 Axes>"
      ]
     },
     "metadata": {
      "needs_background": "light"
     },
     "output_type": "display_data"
    },
    {
     "data": {
      "image/png": "[encoded data removed]",
      "text/plain": [
       "<Figure size 1152x288 with 5 Axes>"
      ]
     },
     "metadata": {
      "needs_background": "light"
     },
     "output_type": "display_data"
    }
   ],
   "source": [
    "# inspired by Agresti, Statistical Methods for the Social Sciences, 2018, 5th Ed., pg.100\n",
    "\n",
    "size = 5000\n",
    "\n",
    "dist1 = np.random.normal(1, 10, size = size)\n",
    "\n",
    "dist2 = np.random.gamma(2, 1, size)\n",
    "\n",
    "dist3 = np.append(np.random.normal(1, 2, size = size),  np.random.normal(10, 1.5, size = size))\n",
    "\n",
    "dist4 = np.random.hypergeometric(20, 20, 5, size)\n",
    "\n",
    "dist5 = np.random.uniform(size = size)\n",
    "\n",
    "n_iters = 1000\n",
    "\n",
    "samp_size = 20\n",
    "\n",
    "samp_d_1 = np.zeros(n_iters)\n",
    "samp_d_2 = np.zeros(n_iters)\n",
    "samp_d_3 = np.zeros(n_iters)\n",
    "samp_d_4 = np.zeros(n_iters)\n",
    "samp_d_5 = np.zeros(n_iters)\n",
    "\n",
    "for i in np.arange(n_iters):\n",
    "    \n",
    "    samp1 = np.mean(np.random.choice(dist1, size = samp_size))\n",
    "    \n",
    "    samp2 = np.mean(np.random.choice(dist2, size = samp_size))\n",
    "    \n",
    "    samp3 = np.mean(np.random.choice(dist3, size = samp_size))\n",
    "    \n",
    "    samp4 = np.mean(np.random.choice(dist4, size = samp_size))\n",
    "    \n",
    "    samp5 = np.mean(np.random.choice(dist5, size = samp_size))\n",
    "    \n",
    "    samp_d_1[i] = samp1\n",
    "    samp_d_2[i] = samp2\n",
    "    samp_d_3[i] = samp3\n",
    "    samp_d_4[i] = samp4\n",
    "    samp_d_5[i] = samp5\n",
    "\n",
    "fig = plt.figure(figsize = (16, 4))\n",
    "ax = fig.add_subplot(151)\n",
    "ax.hist(dist1, color = 'red')\n",
    "ax.set_yticklabels([])\n",
    "ax.set_xticklabels([])\n",
    "ax1 = fig.add_subplot(152)\n",
    "ax1.hist(dist2, color = 'blue')\n",
    "ax1.set_yticklabels([])\n",
    "ax1.set_xticklabels([])\n",
    "ax2 = fig.add_subplot(153)\n",
    "ax2.hist(dist3, color = 'orange')\n",
    "ax2.set_yticklabels([])\n",
    "ax2.set_xticklabels([])\n",
    "ax3 = fig.add_subplot(154)\n",
    "ax3.hist(dist4, color = 'cyan')\n",
    "ax3.set_yticklabels([])\n",
    "ax3.set_xticklabels([])\n",
    "ax4 = fig.add_subplot(155)\n",
    "ax4.hist(dist5, color = 'green')\n",
    "ax4.set_yticklabels([])\n",
    "ax4.set_xticklabels([])\n",
    "fig.suptitle('Some population distributions:')\n",
    "\n",
    "fig2 = plt.figure(figsize = (16, 4))\n",
    "ax5 = fig2.add_subplot(151)\n",
    "ax5.hist(samp_d_1, color = 'red')\n",
    "ax5.set_yticklabels([])\n",
    "ax5.set_xticklabels([])\n",
    "ax6 = fig2.add_subplot(152)\n",
    "ax6.hist(samp_d_2, color = 'blue')\n",
    "ax6.set_yticklabels([])\n",
    "ax6.set_xticklabels([])\n",
    "ax7 = fig2.add_subplot(153)\n",
    "ax7.hist(samp_d_3, color = 'orange')\n",
    "ax7.set_yticklabels([])\n",
    "ax7.set_xticklabels([])\n",
    "ax8 = fig2.add_subplot(154)\n",
    "ax8.hist(samp_d_4, color = 'cyan')\n",
    "ax8.set_yticklabels([])\n",
    "ax8.set_xticklabels([])\n",
    "ax9 = fig2.add_subplot(155)\n",
    "ax9.hist(samp_d_5, color = 'green')\n",
    "ax9.set_yticklabels([])\n",
    "ax9.set_xticklabels([])\n",
    "fig2.suptitle('Sampling distribution of the sample mean for each population, sample size == '+str(samp_size)+':')\n",
    "\n",
    "plt.show()"
   ]
  },
  {
   "cell_type": "code",
   "execution_count": null,
   "id": "motivated-spanish",
   "metadata": {},
   "outputs": [],
   "source": []
  }
 ],
 "metadata": {
  "kernelspec": {
   "display_name": "Python 3",
   "language": "python",
   "name": "python3"
  },
  "language_info": {
   "codemirror_mode": {
    "name": "ipython",
    "version": 3
   },
   "file_extension": ".py",
   "mimetype": "text/x-python",
   "name": "python",
   "nbconvert_exporter": "python",
   "pygments_lexer": "ipython3",
   "version": "3.7.9"
  }
 },
 "nbformat": 4,
 "nbformat_minor": 5
}
