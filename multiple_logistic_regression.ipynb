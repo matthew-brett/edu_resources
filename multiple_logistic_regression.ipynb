{
 "cells": [
  {
   "cell_type": "markdown",
   "id": "usual-rebound",
   "metadata": {},
   "source": [
    "## More logistic regression\n",
    "\n",
    "In this tutorial, we will look at:\n",
    "\n",
    "* how to test the significance of the slope of a predictor in logistic regression\n",
    "* how to perform logisitc regression using categorical predictor variables\n",
    "* how to perform logistic regression using multiple predictor variables\n",
    "\n",
    "We will be using the Titanic dataset, which contains data about the characteristics of passengers, and\n",
    "whether they survived the Titanic incident."
   ]
  },
  {
   "cell_type": "code",
   "execution_count": 1,
   "id": "announced-anime",
   "metadata": {},
   "outputs": [
    {
     "data": {
      "text/html": [
       "<div>\n",
       "<style scoped>\n",
       "    .dataframe tbody tr th:only-of-type {\n",
       "        vertical-align: middle;\n",
       "    }\n",
       "\n",
       "    .dataframe tbody tr th {\n",
       "        vertical-align: top;\n",
       "    }\n",
       "\n",
       "    .dataframe thead th {\n",
       "        text-align: right;\n",
       "    }\n",
       "</style>\n",
       "<table border=\"1\" class=\"dataframe\">\n",
       "  <thead>\n",
       "    <tr style=\"text-align: right;\">\n",
       "      <th></th>\n",
       "      <th>name</th>\n",
       "      <th>gender</th>\n",
       "      <th>age</th>\n",
       "      <th>class</th>\n",
       "      <th>embarked</th>\n",
       "      <th>country</th>\n",
       "      <th>fare</th>\n",
       "      <th>survived</th>\n",
       "    </tr>\n",
       "  </thead>\n",
       "  <tbody>\n",
       "    <tr>\n",
       "      <th>0</th>\n",
       "      <td>Abbing, Mr. Anthony</td>\n",
       "      <td>male</td>\n",
       "      <td>42.0</td>\n",
       "      <td>3rd</td>\n",
       "      <td>Southampton</td>\n",
       "      <td>United States</td>\n",
       "      <td>7.1100</td>\n",
       "      <td>no</td>\n",
       "    </tr>\n",
       "    <tr>\n",
       "      <th>1</th>\n",
       "      <td>Abbott, Mr. Eugene Joseph</td>\n",
       "      <td>male</td>\n",
       "      <td>13.0</td>\n",
       "      <td>3rd</td>\n",
       "      <td>Southampton</td>\n",
       "      <td>United States</td>\n",
       "      <td>20.0500</td>\n",
       "      <td>no</td>\n",
       "    </tr>\n",
       "    <tr>\n",
       "      <th>2</th>\n",
       "      <td>Abbott, Mr. Rossmore Edward</td>\n",
       "      <td>male</td>\n",
       "      <td>16.0</td>\n",
       "      <td>3rd</td>\n",
       "      <td>Southampton</td>\n",
       "      <td>United States</td>\n",
       "      <td>20.0500</td>\n",
       "      <td>no</td>\n",
       "    </tr>\n",
       "    <tr>\n",
       "      <th>3</th>\n",
       "      <td>Abbott, Mrs. Rhoda Mary 'Rosa'</td>\n",
       "      <td>female</td>\n",
       "      <td>39.0</td>\n",
       "      <td>3rd</td>\n",
       "      <td>Southampton</td>\n",
       "      <td>England</td>\n",
       "      <td>20.0500</td>\n",
       "      <td>yes</td>\n",
       "    </tr>\n",
       "    <tr>\n",
       "      <th>4</th>\n",
       "      <td>Abelseth, Miss. Karen Marie</td>\n",
       "      <td>female</td>\n",
       "      <td>16.0</td>\n",
       "      <td>3rd</td>\n",
       "      <td>Southampton</td>\n",
       "      <td>Norway</td>\n",
       "      <td>7.1300</td>\n",
       "      <td>yes</td>\n",
       "    </tr>\n",
       "    <tr>\n",
       "      <th>5</th>\n",
       "      <td>Abelseth, Mr. Olaus Jørgensen</td>\n",
       "      <td>male</td>\n",
       "      <td>25.0</td>\n",
       "      <td>3rd</td>\n",
       "      <td>Southampton</td>\n",
       "      <td>United States</td>\n",
       "      <td>7.1300</td>\n",
       "      <td>yes</td>\n",
       "    </tr>\n",
       "    <tr>\n",
       "      <th>6</th>\n",
       "      <td>Abelson, Mr. Samuel</td>\n",
       "      <td>male</td>\n",
       "      <td>30.0</td>\n",
       "      <td>2nd</td>\n",
       "      <td>Cherbourg</td>\n",
       "      <td>France</td>\n",
       "      <td>24.0000</td>\n",
       "      <td>no</td>\n",
       "    </tr>\n",
       "    <tr>\n",
       "      <th>7</th>\n",
       "      <td>Abelson, Mrs. Hannah</td>\n",
       "      <td>female</td>\n",
       "      <td>28.0</td>\n",
       "      <td>2nd</td>\n",
       "      <td>Cherbourg</td>\n",
       "      <td>France</td>\n",
       "      <td>24.0000</td>\n",
       "      <td>yes</td>\n",
       "    </tr>\n",
       "    <tr>\n",
       "      <th>8</th>\n",
       "      <td>Abī-Al-Munà, Mr. Nāsīf Qāsim</td>\n",
       "      <td>male</td>\n",
       "      <td>27.0</td>\n",
       "      <td>3rd</td>\n",
       "      <td>Cherbourg</td>\n",
       "      <td>Lebanon</td>\n",
       "      <td>18.1509</td>\n",
       "      <td>yes</td>\n",
       "    </tr>\n",
       "    <tr>\n",
       "      <th>9</th>\n",
       "      <td>Abrahamsson, Mr. Abraham August Johannes</td>\n",
       "      <td>male</td>\n",
       "      <td>20.0</td>\n",
       "      <td>3rd</td>\n",
       "      <td>Southampton</td>\n",
       "      <td>Finland</td>\n",
       "      <td>7.1806</td>\n",
       "      <td>yes</td>\n",
       "    </tr>\n",
       "  </tbody>\n",
       "</table>\n",
       "</div>"
      ],
      "text/plain": [
       "                                       name  gender   age class     embarked  \\\n",
       "0                       Abbing, Mr. Anthony    male  42.0   3rd  Southampton   \n",
       "1                 Abbott, Mr. Eugene Joseph    male  13.0   3rd  Southampton   \n",
       "2               Abbott, Mr. Rossmore Edward    male  16.0   3rd  Southampton   \n",
       "3            Abbott, Mrs. Rhoda Mary 'Rosa'  female  39.0   3rd  Southampton   \n",
       "4               Abelseth, Miss. Karen Marie  female  16.0   3rd  Southampton   \n",
       "5             Abelseth, Mr. Olaus Jørgensen    male  25.0   3rd  Southampton   \n",
       "6                       Abelson, Mr. Samuel    male  30.0   2nd    Cherbourg   \n",
       "7                      Abelson, Mrs. Hannah  female  28.0   2nd    Cherbourg   \n",
       "8              Abī-Al-Munà, Mr. Nāsīf Qāsim    male  27.0   3rd    Cherbourg   \n",
       "9  Abrahamsson, Mr. Abraham August Johannes    male  20.0   3rd  Southampton   \n",
       "\n",
       "         country     fare survived  \n",
       "0  United States   7.1100       no  \n",
       "1  United States  20.0500       no  \n",
       "2  United States  20.0500       no  \n",
       "3        England  20.0500      yes  \n",
       "4         Norway   7.1300      yes  \n",
       "5  United States   7.1300      yes  \n",
       "6         France  24.0000       no  \n",
       "7         France  24.0000      yes  \n",
       "8        Lebanon  18.1509      yes  \n",
       "9        Finland   7.1806      yes  "
      ]
     },
     "execution_count": 1,
     "metadata": {},
     "output_type": "execute_result"
    }
   ],
   "source": [
    "import numpy as np\n",
    "import pandas as pd\n",
    "# Safe settings for Pandas.\n",
    "pd.set_option('mode.chained_assignment', 'raise')\n",
    "%matplotlib inline\n",
    "import matplotlib.pyplot as plt\n",
    "# Make the plots look more fancy.\n",
    "plt.style.use('fivethirtyeight')\n",
    "# Optimization function\n",
    "from scipy.optimize import minimize\n",
    "import statsmodels.api as sm\n",
    "\n",
    "# importing the data\n",
    "df = pd.read_csv('https://raw.githubusercontent.com/matthew-brett/cfd2020/master/data/titanic_clean.csv')\n",
    "\n",
    "df.head(10)"
   ]
  },
  {
   "cell_type": "markdown",
   "id": "fundamental-brother",
   "metadata": {},
   "source": [
    "We will use `survived` as our outcome variable. This is a binary categorical variable which can\n",
    "take the values `yes` or `no`.\n",
    "\n",
    "First we need to create a dummy variable for `survived`.\n",
    "\n",
    "We will treat `survived == 'yes'` as the event of interest, and so will label this with a 1."
   ]
  },
  {
   "cell_type": "code",
   "execution_count": 2,
   "id": "consecutive-teacher",
   "metadata": {},
   "outputs": [
    {
     "data": {
      "text/html": [
       "<div>\n",
       "<style scoped>\n",
       "    .dataframe tbody tr th:only-of-type {\n",
       "        vertical-align: middle;\n",
       "    }\n",
       "\n",
       "    .dataframe tbody tr th {\n",
       "        vertical-align: top;\n",
       "    }\n",
       "\n",
       "    .dataframe thead th {\n",
       "        text-align: right;\n",
       "    }\n",
       "</style>\n",
       "<table border=\"1\" class=\"dataframe\">\n",
       "  <thead>\n",
       "    <tr style=\"text-align: right;\">\n",
       "      <th></th>\n",
       "      <th>name</th>\n",
       "      <th>gender</th>\n",
       "      <th>age</th>\n",
       "      <th>class</th>\n",
       "      <th>embarked</th>\n",
       "      <th>country</th>\n",
       "      <th>fare</th>\n",
       "      <th>survived</th>\n",
       "      <th>survived_dummy</th>\n",
       "    </tr>\n",
       "  </thead>\n",
       "  <tbody>\n",
       "    <tr>\n",
       "      <th>0</th>\n",
       "      <td>Abbing, Mr. Anthony</td>\n",
       "      <td>male</td>\n",
       "      <td>42.0</td>\n",
       "      <td>3rd</td>\n",
       "      <td>Southampton</td>\n",
       "      <td>United States</td>\n",
       "      <td>7.1100</td>\n",
       "      <td>no</td>\n",
       "      <td>0</td>\n",
       "    </tr>\n",
       "    <tr>\n",
       "      <th>1</th>\n",
       "      <td>Abbott, Mr. Eugene Joseph</td>\n",
       "      <td>male</td>\n",
       "      <td>13.0</td>\n",
       "      <td>3rd</td>\n",
       "      <td>Southampton</td>\n",
       "      <td>United States</td>\n",
       "      <td>20.0500</td>\n",
       "      <td>no</td>\n",
       "      <td>0</td>\n",
       "    </tr>\n",
       "    <tr>\n",
       "      <th>2</th>\n",
       "      <td>Abbott, Mr. Rossmore Edward</td>\n",
       "      <td>male</td>\n",
       "      <td>16.0</td>\n",
       "      <td>3rd</td>\n",
       "      <td>Southampton</td>\n",
       "      <td>United States</td>\n",
       "      <td>20.0500</td>\n",
       "      <td>no</td>\n",
       "      <td>0</td>\n",
       "    </tr>\n",
       "    <tr>\n",
       "      <th>3</th>\n",
       "      <td>Abbott, Mrs. Rhoda Mary 'Rosa'</td>\n",
       "      <td>female</td>\n",
       "      <td>39.0</td>\n",
       "      <td>3rd</td>\n",
       "      <td>Southampton</td>\n",
       "      <td>England</td>\n",
       "      <td>20.0500</td>\n",
       "      <td>yes</td>\n",
       "      <td>1</td>\n",
       "    </tr>\n",
       "    <tr>\n",
       "      <th>4</th>\n",
       "      <td>Abelseth, Miss. Karen Marie</td>\n",
       "      <td>female</td>\n",
       "      <td>16.0</td>\n",
       "      <td>3rd</td>\n",
       "      <td>Southampton</td>\n",
       "      <td>Norway</td>\n",
       "      <td>7.1300</td>\n",
       "      <td>yes</td>\n",
       "      <td>1</td>\n",
       "    </tr>\n",
       "    <tr>\n",
       "      <th>5</th>\n",
       "      <td>Abelseth, Mr. Olaus Jørgensen</td>\n",
       "      <td>male</td>\n",
       "      <td>25.0</td>\n",
       "      <td>3rd</td>\n",
       "      <td>Southampton</td>\n",
       "      <td>United States</td>\n",
       "      <td>7.1300</td>\n",
       "      <td>yes</td>\n",
       "      <td>1</td>\n",
       "    </tr>\n",
       "    <tr>\n",
       "      <th>6</th>\n",
       "      <td>Abelson, Mr. Samuel</td>\n",
       "      <td>male</td>\n",
       "      <td>30.0</td>\n",
       "      <td>2nd</td>\n",
       "      <td>Cherbourg</td>\n",
       "      <td>France</td>\n",
       "      <td>24.0000</td>\n",
       "      <td>no</td>\n",
       "      <td>0</td>\n",
       "    </tr>\n",
       "    <tr>\n",
       "      <th>7</th>\n",
       "      <td>Abelson, Mrs. Hannah</td>\n",
       "      <td>female</td>\n",
       "      <td>28.0</td>\n",
       "      <td>2nd</td>\n",
       "      <td>Cherbourg</td>\n",
       "      <td>France</td>\n",
       "      <td>24.0000</td>\n",
       "      <td>yes</td>\n",
       "      <td>1</td>\n",
       "    </tr>\n",
       "    <tr>\n",
       "      <th>8</th>\n",
       "      <td>Abī-Al-Munà, Mr. Nāsīf Qāsim</td>\n",
       "      <td>male</td>\n",
       "      <td>27.0</td>\n",
       "      <td>3rd</td>\n",
       "      <td>Cherbourg</td>\n",
       "      <td>Lebanon</td>\n",
       "      <td>18.1509</td>\n",
       "      <td>yes</td>\n",
       "      <td>1</td>\n",
       "    </tr>\n",
       "    <tr>\n",
       "      <th>9</th>\n",
       "      <td>Abrahamsson, Mr. Abraham August Johannes</td>\n",
       "      <td>male</td>\n",
       "      <td>20.0</td>\n",
       "      <td>3rd</td>\n",
       "      <td>Southampton</td>\n",
       "      <td>Finland</td>\n",
       "      <td>7.1806</td>\n",
       "      <td>yes</td>\n",
       "      <td>1</td>\n",
       "    </tr>\n",
       "  </tbody>\n",
       "</table>\n",
       "</div>"
      ],
      "text/plain": [
       "                                       name  gender   age class     embarked  \\\n",
       "0                       Abbing, Mr. Anthony    male  42.0   3rd  Southampton   \n",
       "1                 Abbott, Mr. Eugene Joseph    male  13.0   3rd  Southampton   \n",
       "2               Abbott, Mr. Rossmore Edward    male  16.0   3rd  Southampton   \n",
       "3            Abbott, Mrs. Rhoda Mary 'Rosa'  female  39.0   3rd  Southampton   \n",
       "4               Abelseth, Miss. Karen Marie  female  16.0   3rd  Southampton   \n",
       "5             Abelseth, Mr. Olaus Jørgensen    male  25.0   3rd  Southampton   \n",
       "6                       Abelson, Mr. Samuel    male  30.0   2nd    Cherbourg   \n",
       "7                      Abelson, Mrs. Hannah  female  28.0   2nd    Cherbourg   \n",
       "8              Abī-Al-Munà, Mr. Nāsīf Qāsim    male  27.0   3rd    Cherbourg   \n",
       "9  Abrahamsson, Mr. Abraham August Johannes    male  20.0   3rd  Southampton   \n",
       "\n",
       "         country     fare survived  survived_dummy  \n",
       "0  United States   7.1100       no               0  \n",
       "1  United States  20.0500       no               0  \n",
       "2  United States  20.0500       no               0  \n",
       "3        England  20.0500      yes               1  \n",
       "4         Norway   7.1300      yes               1  \n",
       "5  United States   7.1300      yes               1  \n",
       "6         France  24.0000       no               0  \n",
       "7         France  24.0000      yes               1  \n",
       "8        Lebanon  18.1509      yes               1  \n",
       "9        Finland   7.1806      yes               1  "
      ]
     },
     "execution_count": 2,
     "metadata": {},
     "output_type": "execute_result"
    }
   ],
   "source": [
    "# create a dummy variable\n",
    "df['survived_dummy'] = df['survived'].replace(['yes', 'no'], [1,0])\n",
    "df.head(10)"
   ]
  },
  {
   "cell_type": "markdown",
   "id": "ruled-qualification",
   "metadata": {},
   "source": [
    "First, let's predict `survived` from `fare`. Were people who paid a higher fare more likely to survive?"
   ]
  },
  {
   "cell_type": "code",
   "execution_count": 3,
   "id": "capable-estimate",
   "metadata": {},
   "outputs": [
    {
     "data": {
      "image/png": "[encoded data removed]",
      "text/plain": [
       "<Figure size 432x288 with 1 Axes>"
      ]
     },
     "metadata": {},
     "output_type": "display_data"
    }
   ],
   "source": [
    "# a function to produce a plot of a continuous predictor and a binary outcome\n",
    "def plot_survive_one_pred(df, predictor):\n",
    "    # Build plot, add custom labels.\n",
    "    colors = df['survived'].replace(['yes', 'no'], ['red', 'blue'])\n",
    "    df.plot.scatter(predictor, 'survived_dummy', c=colors)\n",
    "    plt.ylabel('Survived\\n0 = no, 1 = yes')\n",
    "    plt.yticks([0,1]);  # Just label 0 and 1 on the y axis.\n",
    "    # Put a custom legend on the plot.  This code is a little obscure.\n",
    "    plt.scatter([], [], c='red', label='survived')\n",
    "    plt.scatter([], [], c='blue', label='died')\n",
    "    # Show the legend\n",
    "    plt.legend(loc = 'center right');\n",
    "\n",
    "# Do the plot\n",
    "plot_survive_one_pred(df, 'fare')"
   ]
  },
  {
   "cell_type": "markdown",
   "id": "republican-anime",
   "metadata": {},
   "source": [
    "From graphical inspection, it looks like these variables might be related. It looks\n",
    "as though a greater proportion of those who paid higher fare survived.\n",
    "\n",
    "To test this, let's get the functions we used in the Logistic Regression notebook."
   ]
  },
  {
   "cell_type": "code",
   "execution_count": 4,
   "id": "sublime-roman",
   "metadata": {},
   "outputs": [],
   "source": [
    "def inv_logit(y):\n",
    "    \"\"\" Reverse logit transformation\n",
    "    \"\"\"\n",
    "    odds_ratios = np.exp(y)  # Reverse the log operation.\n",
    "    return odds_ratios / (odds_ratios + 1)  # Reverse odds ratios operation; return probabilities\n",
    "\n",
    "\n",
    "def mll_logit_cost(intercept_and_slope, x, y):\n",
    "    \"\"\" Cost function for maximum log likelihood\n",
    "\n",
    "    Return minus of the log of the likelihood.\n",
    "    \"\"\"\n",
    "    intercept, slope = intercept_and_slope\n",
    "    # Make predictions for sigmoid.\n",
    "    predicted_log_odds = intercept + slope * x\n",
    "    pp_of_1 = inv_logit(predicted_log_odds)\n",
    "    # Calculate predicted probabilities of actual labels.\n",
    "    pp_of_correct_label = y * pp_of_1 + (1 - y) * (1 - pp_of_1)\n",
    "    # Use logs to calculate log of the likelihood\n",
    "    log_likelihood = np.sum(np.log(pp_of_correct_label))\n",
    "    # Ask minimize to find maximum by adding minus sign.\n",
    "    return -log_likelihood"
   ]
  },
  {
   "cell_type": "markdown",
   "id": "suspected-memorabilia",
   "metadata": {},
   "source": [
    "Now, let's perform a logistic regression, in the familiar way, using these functions:"
   ]
  },
  {
   "cell_type": "code",
   "execution_count": 5,
   "id": "surprised-salmon",
   "metadata": {},
   "outputs": [
    {
     "name": "stderr",
     "output_type": "stream",
     "text": [
      "C:\\ProgramData\\Anaconda3\\lib\\site-packages\\pandas\\core\\arraylike.py:358: RuntimeWarning: divide by zero encountered in log\n",
      "  result = getattr(ufunc, method)(*inputs, **kwargs)\n",
      "C:\\Users\\peter\\AppData\\Roaming\\Python\\Python37\\site-packages\\scipy\\optimize\\optimize.py:697: RuntimeWarning: invalid value encountered in double_scalars\n",
      "  df = (f(*((xk + d,) + args)) - f0) / d[k]\n",
      "C:\\ProgramData\\Anaconda3\\lib\\site-packages\\pandas\\core\\arraylike.py:358: RuntimeWarning: divide by zero encountered in log\n",
      "  result = getattr(ufunc, method)(*inputs, **kwargs)\n"
     ]
    },
    {
     "data": {
      "text/plain": [
       "      fun: 777.3442248980696\n",
       " hess_inv: array([[ 4.98990107e-03, -6.24542264e-05],\n",
       "       [-6.24542264e-05,  2.48113887e-06]])\n",
       "      jac: array([0.        , 0.00313568])\n",
       "  message: 'Desired error not necessarily achieved due to precision loss.'\n",
       "     nfev: 298\n",
       "      nit: 10\n",
       "     njev: 70\n",
       "   status: 2\n",
       "  success: False\n",
       "        x: array([-0.81873343,  0.01133774])"
      ]
     },
     "execution_count": 5,
     "metadata": {},
     "output_type": "execute_result"
    }
   ],
   "source": [
    "fare_survive_log_reg = minimize(mll_logit_cost,  # Cost function\n",
    "                  [0,0],  # Guessed intercept and slope\n",
    "                  args=(df['fare'], df['survived_dummy']),  # x and y values\n",
    "                  tol=1e-5)\n",
    "# Show the result.\n",
    "fare_survive_log_reg "
   ]
  },
  {
   "cell_type": "markdown",
   "id": "suspected-smell",
   "metadata": {},
   "source": [
    "Let's store this intercept and slope as separate python variables:"
   ]
  },
  {
   "cell_type": "code",
   "execution_count": 6,
   "id": "possible-bikini",
   "metadata": {},
   "outputs": [],
   "source": [
    "# store the intercept and slope as separate variables\n",
    "intercept, slope  = fare_survive_log_reg.x[0], fare_survive_log_reg.x[1]"
   ]
  },
  {
   "cell_type": "markdown",
   "id": "mechanical-appraisal",
   "metadata": {},
   "source": [
    "Recall that the predicted log odds ratio of the event of interest is calculated by:\n",
    "\n",
    "$$ \\text{predicted log odds ratio} = intercept + slope * \\text{predictor variable} $$\n",
    "\n",
    "In the present case this is:\n",
    "\n",
    "$$ \\text{predicted log odds ratio of survival} = intercept + slope * \\text{fare} $$\n",
    "\n",
    "Again, remember that the predicted log odds ratio and the predictor are sequences of values,\n",
    "the intercept and slope are single values:\n",
    "\n",
    "$$\n",
    "\\begin{bmatrix}\n",
    "           {\\text{prediction for passenger 0}} \\\\\n",
    "           {\\text{prediction for passenger 1}} \\\\\n",
    "           {\\text{prediction for passenger 2}} \\\\\n",
    "           \\vdots \\\\\n",
    "           {\\text{prediction for passenger 1212}}\n",
    "         \\end{bmatrix} = -0.81873321 + 0.01133774 *\\begin{bmatrix}\n",
    "           {7.11} \\\\\n",
    "           {20.05} \\\\\n",
    "           {20.05} \\\\\n",
    "           \\vdots \\\\\n",
    "           {7.17}\n",
    "         \\end{bmatrix}\n",
    "$$\n",
    "\n",
    "Using the formula above, let's calculate the predicted log odds ratios, using the intercept and slope that we have gotten from `minimize`:"
   ]
  },
  {
   "cell_type": "code",
   "execution_count": 7,
   "id": "explicit-cabinet",
   "metadata": {},
   "outputs": [
    {
     "data": {
      "text/plain": [
       "0   -0.738122\n",
       "1   -0.591412\n",
       "2   -0.591412\n",
       "3   -0.591412\n",
       "4   -0.737895\n",
       "5   -0.737895\n",
       "6   -0.546628\n",
       "7   -0.546628\n",
       "8   -0.612943\n",
       "9   -0.737322\n",
       "Name: fare, dtype: float64"
      ]
     },
     "execution_count": 7,
     "metadata": {},
     "output_type": "execute_result"
    }
   ],
   "source": [
    "# calculate the predicted log odds ratios\n",
    "predicted_log_odds = intercept + slope * df['fare']\n",
    "\n",
    "# show the first 10 predictions\n",
    "predicted_log_odds[:10]"
   ]
  },
  {
   "cell_type": "markdown",
   "id": "unlikely-optimization",
   "metadata": {},
   "source": [
    "If we plot the predicted log odds ratio against `fare`, we can see that the relationship between the predictor variable and the predicted log odds ratio is linear (forms a straight line):"
   ]
  },
  {
   "cell_type": "code",
   "execution_count": 8,
   "id": "employed-australian",
   "metadata": {},
   "outputs": [
    {
     "data": {
      "image/png": "[encoded data removed]",
      "text/plain": [
       "<Figure size 432x288 with 1 Axes>"
      ]
     },
     "metadata": {},
     "output_type": "display_data"
    }
   ],
   "source": [
    "# do not worry about this code, it just generates the graph below\n",
    "color =  df['survived'].replace(['yes', 'no'], ['red','blue'])\n",
    "plt.scatter(df['fare'], predicted_log_odds, color = color)\n",
    "plt.scatter([], [], c='red', label='survived')\n",
    "plt.scatter([], [], c='blue', label='died')\n",
    "fine_x = np.linspace(np.min(df['fare']), np.max(df['fare']), 1000)\n",
    "fine_y = intercept + slope * fine_x\n",
    "plt.plot(fine_x, fine_y, linewidth=1, linestyle=':')\n",
    "plt.xlabel('Fare')\n",
    "plt.ylabel('Predicted Log Odds Ratio')\n",
    "plt.legend();"
   ]
  },
  {
   "cell_type": "markdown",
   "id": "overhead-hampshire",
   "metadata": {},
   "source": [
    "Recall that we can convert the predicted log odds ratios to probabilities using the inverse logit transformation.\n",
    "\n",
    "To do this, first we raise `e` to the power of the predicted log odds ratio, to get the predicted odds ratio."
   ]
  },
  {
   "cell_type": "code",
   "execution_count": 9,
   "id": "tribal-billy",
   "metadata": {},
   "outputs": [
    {
     "data": {
      "text/plain": [
       "0    0.478011\n",
       "1    0.553545\n",
       "2    0.553545\n",
       "3    0.553545\n",
       "4    0.478119\n",
       "5    0.478119\n",
       "6    0.578899\n",
       "7    0.578899\n",
       "8    0.541754\n",
       "9    0.478394\n",
       "Name: fare, dtype: float64"
      ]
     },
     "execution_count": 9,
     "metadata": {},
     "output_type": "execute_result"
    }
   ],
   "source": [
    "# transform the predicted log odds ratios to odds ratios\n",
    "predicted_odds_ratio = np.e**(predicted_log_odds)\n",
    "\n",
    "# show the first 10 predictions\n",
    "predicted_odds_ratio[:10]"
   ]
  },
  {
   "cell_type": "markdown",
   "id": "charitable-slovakia",
   "metadata": {},
   "source": [
    "The plot below shows the predicted odds ratio of surival, as a function of `fare`:"
   ]
  },
  {
   "cell_type": "code",
   "execution_count": 10,
   "id": "comic-turkish",
   "metadata": {},
   "outputs": [
    {
     "data": {
      "image/png": "[encoded data removed]",
      "text/plain": [
       "<Figure size 432x288 with 1 Axes>"
      ]
     },
     "metadata": {},
     "output_type": "display_data"
    }
   ],
   "source": [
    "# do not worry about this code, it just generates the graph below\n",
    "plt.scatter(df['fare'], predicted_odds_ratio, color = color)\n",
    "plt.scatter([], [], c='red', label='survived')\n",
    "plt.scatter([], [], c='blue', label='died')\n",
    "fine_x = np.linspace(np.min(df['fare']), np.max(df['fare']), 1000)\n",
    "fine_y = np.e**(intercept + slope * fine_x)\n",
    "plt.plot(fine_x, fine_y, linewidth=1, linestyle=':')\n",
    "plt.xlabel('Fare')\n",
    "plt.ylabel('Predicted Odds Ratio')\n",
    "plt.legend();"
   ]
  },
  {
   "cell_type": "markdown",
   "id": "printable-isolation",
   "metadata": {},
   "source": [
    "Then we calculate the predicted probability of survival as follows:\n",
    "\n",
    "$ \\text{predicted probability} = \\frac{\\text{odds ratio}}{(1  +  \\text{odds ratio})} $"
   ]
  },
  {
   "cell_type": "code",
   "execution_count": 11,
   "id": "single-flush",
   "metadata": {},
   "outputs": [
    {
     "data": {
      "text/plain": [
       "0    0.323415\n",
       "1    0.356311\n",
       "2    0.356311\n",
       "3    0.356311\n",
       "4    0.323465\n",
       "5    0.323465\n",
       "6    0.366647\n",
       "7    0.366647\n",
       "8    0.351388\n",
       "9    0.323590\n",
       "Name: fare, dtype: float64"
      ]
     },
     "execution_count": 11,
     "metadata": {},
     "output_type": "execute_result"
    }
   ],
   "source": [
    "# calculated the predicted probability of survival for each passenger\n",
    "predicted_probability = predicted_odds_ratio/( 1+ predicted_odds_ratio)\n",
    "\n",
    "# show the first 10 predictions\n",
    "\n",
    "predicted_probability[:10]"
   ]
  },
  {
   "cell_type": "markdown",
   "id": "golden-secondary",
   "metadata": {},
   "source": [
    "Our `inv_logit()` function will do both these steps:"
   ]
  },
  {
   "cell_type": "code",
   "execution_count": 12,
   "id": "ranking-alabama",
   "metadata": {},
   "outputs": [
    {
     "data": {
      "text/plain": [
       "0    0.323415\n",
       "1    0.356311\n",
       "2    0.356311\n",
       "3    0.356311\n",
       "4    0.323465\n",
       "5    0.323465\n",
       "6    0.366647\n",
       "7    0.366647\n",
       "8    0.351388\n",
       "9    0.323590\n",
       "Name: fare, dtype: float64"
      ]
     },
     "execution_count": 12,
     "metadata": {},
     "output_type": "execute_result"
    }
   ],
   "source": [
    "# use the inv_logit() function to perform both of the steps above\n",
    "predicted_probability = inv_logit(predicted_log_odds)\n",
    "\n",
    "# show the first 10 predictions\n",
    "predicted_probability[:10]"
   ]
  },
  {
   "cell_type": "markdown",
   "id": "aware-ridge",
   "metadata": {},
   "source": [
    "Let's plot the predicted probabilities, alongside the original data:"
   ]
  },
  {
   "cell_type": "code",
   "execution_count": 13,
   "id": "behind-current",
   "metadata": {},
   "outputs": [
    {
     "data": {
      "image/png": "[encoded data removed]",
      "text/plain": [
       "<Figure size 432x288 with 1 Axes>"
      ]
     },
     "metadata": {},
     "output_type": "display_data"
    }
   ],
   "source": [
    "plot_survive_one_pred(df, 'fare')\n",
    "plt.scatter(df['fare'], predicted_probability, color = 'gold', label = 'predicted probability')\n",
    "plt.legend(loc = 'center right');"
   ]
  },
  {
   "cell_type": "markdown",
   "id": "ahead-disabled",
   "metadata": {},
   "source": [
    "We can see that the predicted probability of survival increases as the amount paid for the `fare` increases.\n",
    "\n",
    "## Interpreting the intercept \n",
    "\n",
    "Recall that the intercept, in its current form, tells us log odds ratio of survival when `fare` == 0. "
   ]
  },
  {
   "cell_type": "code",
   "execution_count": 14,
   "id": "chronic-estonia",
   "metadata": {},
   "outputs": [
    {
     "data": {
      "text/plain": [
       "-0.8187334279328481"
      ]
     },
     "execution_count": 14,
     "metadata": {},
     "output_type": "execute_result"
    }
   ],
   "source": [
    "intercept"
   ]
  },
  {
   "cell_type": "markdown",
   "id": "broken-manhattan",
   "metadata": {},
   "source": [
    "This is the point where the prediction line (on the log odds ratio scale) crosses the y axis:"
   ]
  },
  {
   "cell_type": "code",
   "execution_count": 15,
   "id": "split-clearance",
   "metadata": {},
   "outputs": [
    {
     "data": {
      "image/png": "[encoded data removed]",
      "text/plain": [
       "<Figure size 432x288 with 1 Axes>"
      ]
     },
     "metadata": {},
     "output_type": "display_data"
    }
   ],
   "source": [
    "# this code is just here to generate the plot\n",
    "color =  df['survived'].replace(['yes', 'no'], ['red','blue'])\n",
    "plt.scatter(df['fare'], predicted_log_odds, color = color)\n",
    "plt.scatter([], [], c='red', label='survived')\n",
    "plt.scatter([], [], c='blue', label='died')\n",
    "fine_x = np.linspace(np.min(df['fare']), np.max(df['fare']), 1000)\n",
    "fine_y = intercept + slope * fine_x\n",
    "plt.plot(fine_x, fine_y, linewidth=1, linestyle=':')\n",
    "plt.xlabel('Fare')\n",
    "plt.ylabel('Predicted Log Odds Ratio')\n",
    "plt.legend();"
   ]
  },
  {
   "cell_type": "markdown",
   "id": "functioning-pottery",
   "metadata": {},
   "source": [
    "It is quite difficult to interpret the log odds ratio, because it is on the log scale. We can convert this log odds ratio intercept to an odds ratio, by raising `e` to the power of the intercept:"
   ]
  },
  {
   "cell_type": "code",
   "execution_count": 16,
   "id": "improved-envelope",
   "metadata": {},
   "outputs": [
    {
     "data": {
      "text/plain": [
       "0.44098984635756855"
      ]
     },
     "execution_count": 16,
     "metadata": {},
     "output_type": "execute_result"
    }
   ],
   "source": [
    "np.exp(intercept)"
   ]
  },
  {
   "cell_type": "markdown",
   "id": "transparent-haiti",
   "metadata": {},
   "source": [
    "This tells us the predicted odds ratio of survival for a `fare` of 0 is about 0.44, meaning that someone who paid a `fare` of 0 would have about a 4.4 to 10 chance of surviving."
   ]
  },
  {
   "cell_type": "code",
   "execution_count": 17,
   "id": "faced-advisory",
   "metadata": {},
   "outputs": [
    {
     "data": {
      "text/plain": [
       "0.44000000000000006"
      ]
     },
     "execution_count": 17,
     "metadata": {},
     "output_type": "execute_result"
    }
   ],
   "source": [
    "4.4/10"
   ]
  },
  {
   "cell_type": "markdown",
   "id": "sorted-longitude",
   "metadata": {},
   "source": [
    "This means that for every 10 passengers with with a `fare` of 0 who died, we would expect 4.4 passengers with a `fare` of 0 to survive.\n",
    "\n",
    "We can convert this to a probability using the same formula as above:"
   ]
  },
  {
   "cell_type": "code",
   "execution_count": 18,
   "id": "educated-villa",
   "metadata": {},
   "outputs": [
    {
     "data": {
      "text/plain": [
       "0.30603258411034"
      ]
     },
     "execution_count": 18,
     "metadata": {},
     "output_type": "execute_result"
    }
   ],
   "source": [
    "np.exp(intercept)/(1 + np.exp(intercept))"
   ]
  },
  {
   "cell_type": "markdown",
   "id": "pressed-collective",
   "metadata": {},
   "source": [
    "This tells us that the predicted probability of survival (of having a `survived_dummy` label of 1) is about 31% for a\n",
    "passenger who paid a `fare` of 0.\n",
    "\n",
    "## Interpreting the slope\n",
    "\n",
    "The slope of a predictor in logistic regression tells us the average change in the log odds ratio of the event of interest  for every one unit increase in the predictor. In this case the predictor is `fare`, so the slope of `fare` tells us the change in the log odds ratio of survival for a 1 unit increase in `fare`.\n",
    "\n",
    "Once again, to make this easier to interpret, we can convert this slope so that it relates to the odds ratio (rather than the log odds ratio).\n",
    "\n",
    "We do this, as before, by raising `e` to the power of the slope:\n",
    "\n",
    "$ e^{\\text{slope}} = \\frac{\\text{odds ratio of event of interest AFTER one unit change in predictor}}{\\text{odds ratio of event of interest BEFORE one unit change in predictor}}$\n",
    "\n",
    "[Reference: https://www.juanbattle.com/files/2012/04/Regression-Logistic-4.pdf]\n",
    "\n",
    "If odds ratio slope is greater than 1, this means the odds of event of interest (`survived`) are increasing as the predictor (`fare`) increases.\n",
    "\n",
    "If the odds ratio slope is less than 1 means the odds of event of interest (`survived`) are decreasing as the predictor (`fare`) increases.\n",
    "\n",
    "* Note: It is very important to note here that this is the odds ratio slope relates to the ratio of two odds ratios (AFTER/BEFORE). This means we cannot convert it into a probability in the same way as we can for the intercept odds ratio.*"
   ]
  },
  {
   "cell_type": "code",
   "execution_count": 19,
   "id": "special-quebec",
   "metadata": {},
   "outputs": [
    {
     "name": "stdout",
     "output_type": "stream",
     "text": [
      "The slope, expressed as a change in odds ratio = 1.0114022595289869\n"
     ]
    }
   ],
   "source": [
    "print('The slope, expressed as a change in odds ratio =', np.exp(slope))"
   ]
  },
  {
   "cell_type": "markdown",
   "id": "considerable-recommendation",
   "metadata": {},
   "source": [
    "The odds ratio of survival is 1.011402251453628 larger for every one-unit increase in fare.\n",
    "\n",
    "Another way of saying this is that the odds ratio of survival increases by 0.011402251453628 (about 1.1%) for every one\n",
    "unit increase in fare. You can see this by:\n",
    "\n",
    "$ \\text{percentage change in odds ratio} = (e^{slope} - 1) * 100 $\n",
    "\n",
    "The `e^slope - 1` is the part of the slope that changes for the one unit increase in the predictor. Multiplying this by 100 converts it into a percentage."
   ]
  },
  {
   "cell_type": "code",
   "execution_count": 20,
   "id": "hispanic-coaching",
   "metadata": {},
   "outputs": [
    {
     "name": "stdout",
     "output_type": "stream",
     "text": [
      "1.140225952898688 %\n"
     ]
    }
   ],
   "source": [
    "# calculate the percentage change in the odds ratio\n",
    "print((np.exp(slope) - 1) * 100, '%')"
   ]
  },
  {
   "cell_type": "markdown",
   "id": "graphic-cycle",
   "metadata": {},
   "source": [
    "So in this case, the odds ratio of survival is increasing by about 1% for every 1 unit increase in fare.\n",
    "\n",
    "Seems like a pretty good deal.\n",
    "\n",
    "## Testing the slope\n",
    "\n",
    "So far so good, but could this slope just be a fluke? In a world where there was no relationship between `fare` and `survived`, would it be surprising to get a slope as large as the one we obtained here?\n",
    "\n",
    "We can test the signficance of the slope using simulation.\n",
    "\n",
    "We will do this by shuffling the `survived_dummy` values. This simulates a situation where there is no relationship between \n",
    "`survived` and `fare`. We will then perform our logistic regression again, on the shuffled data.\n",
    "\n",
    "We will do this numerous times and compare the slopes we get from our fake regression to the slope we actually obtained from the real data."
   ]
  },
  {
   "cell_type": "code",
   "execution_count": 21,
   "id": "heated-climb",
   "metadata": {},
   "outputs": [
    {
     "data": {
      "text/plain": [
       "array([1, 1, 1, ..., 0, 1, 0], dtype=int64)"
      ]
     },
     "execution_count": 21,
     "metadata": {},
     "output_type": "execute_result"
    }
   ],
   "source": [
    "# shuffling the survival_dummy variable (run this cell a few times to see the values being shuffled)\n",
    "\n",
    "fake_survive_dummy = df['survived_dummy'].copy()\n",
    "    \n",
    "np.random.permutation(fake_survive_dummy)"
   ]
  },
  {
   "cell_type": "markdown",
   "id": "arctic-analyst",
   "metadata": {},
   "source": [
    "The code for the simulation is in the cell below. It takes a while to run so we will keep the number of iterations low for now.\n",
    "\n",
    "Read the comments and make sure you understand what every line is doing:"
   ]
  },
  {
   "cell_type": "code",
   "execution_count": 86,
   "id": "married-carpet",
   "metadata": {},
   "outputs": [],
   "source": [
    "# set the number of iterations for the simulation\n",
    "n_iters = 200\n",
    "\n",
    "# create an array for the fake slopes\n",
    "fake_slopes = np.zeros(n_iters)\n",
    "\n",
    "# for each interation\n",
    "for i in np.arange(n_iters):\n",
    "    \n",
    "    # copy the survival dummy variable from the original dataframe\n",
    "    fake_survive_dummy = df['survived_dummy'].copy()\n",
    "    \n",
    "    # shuffle the survival dummy around (to make the association between \"fare\" and \"surivival\" random)\n",
    "    fake_survive_dummy  = np.random.permutation(fake_survive_dummy)\n",
    "    \n",
    "    # perform a logistic regression on the fake data\n",
    "    fake_fare_survive_log_reg  = minimize(mll_logit_cost,  # Cost function\n",
    "                  [0,0],  # Guessed intercept and slope\n",
    "                  args=(df['fare'], fake_survive_dummy),  # x and y values\n",
    "                  tol=1e-5)\n",
    "    \n",
    "    # put the fake slope in the fake_slopes array\n",
    "    fake_slopes[i] = fake_fare_survive_log_reg.x[1]"
   ]
  },
  {
   "cell_type": "markdown",
   "id": "crucial-contrast",
   "metadata": {},
   "source": [
    "We can then plot the actual slope against the slopes we got in the simualtion:"
   ]
  },
  {
   "cell_type": "code",
   "execution_count": 87,
   "id": "radical-truck",
   "metadata": {},
   "outputs": [
    {
     "data": {
      "image/png": "[encoded data removed]",
      "text/plain": [
       "<Figure size 432x288 with 1 Axes>"
      ]
     },
     "metadata": {},
     "output_type": "display_data"
    }
   ],
   "source": [
    "plt.hist(fake_slopes, label = 'simulated slopes')\n",
    "plt.plot(slope, 1, 'o', color = 'red', label = 'actual slope')\n",
    "plt.xlabel('Slope')\n",
    "plt.ylabel('Frequency')\n",
    "plt.legend();"
   ]
  },
  {
   "cell_type": "markdown",
   "id": "educated-finance",
   "metadata": {},
   "source": [
    "We can calculate a p-value for the slope by counting the number of simulated slopes which were as extreme as the actual slope.\n",
    "\n",
    "This p-value tells us - in a world where there was no relationship between `fare` and `survival` - how likely it is we would have got a slope as large as the one obtained."
   ]
  },
  {
   "cell_type": "code",
   "execution_count": 88,
   "id": "wireless-record",
   "metadata": {},
   "outputs": [
    {
     "data": {
      "text/plain": [
       "0.0"
      ]
     },
     "execution_count": 88,
     "metadata": {},
     "output_type": "execute_result"
    }
   ],
   "source": [
    "slope_fare_p_value = np.count_nonzero(fake_slopes >= np.abs(slope))/len(fake_slopes)\n",
    "\n",
    "slope_fare_p_value"
   ]
  },
  {
   "cell_type": "markdown",
   "id": "suffering-storm",
   "metadata": {},
   "source": [
    "It is very unlikely we would observe this pattern if there was no relationship between `fare` and `survived`."
   ]
  },
  {
   "cell_type": "markdown",
   "id": "conceptual-simon",
   "metadata": {},
   "source": [
    "## Logistic Regression with a categorical predictor\n",
    "\n",
    "We have seen how to test the signficance of the slope of a predictor variable. However, so far we have only used numerical predictor variables.\n",
    "\n",
    "Often, we will want to predict the probability of an event of interest using a categorical predictor.\n",
    "\n",
    "In logistic regression, this means we need to use dummy variables for the predictor variable and the outcome variable.\n",
    "\n",
    "Let's return to our original dataframe:"
   ]
  },
  {
   "cell_type": "code",
   "execution_count": 25,
   "id": "indonesian-inclusion",
   "metadata": {},
   "outputs": [
    {
     "data": {
      "text/html": [
       "<div>\n",
       "<style scoped>\n",
       "    .dataframe tbody tr th:only-of-type {\n",
       "        vertical-align: middle;\n",
       "    }\n",
       "\n",
       "    .dataframe tbody tr th {\n",
       "        vertical-align: top;\n",
       "    }\n",
       "\n",
       "    .dataframe thead th {\n",
       "        text-align: right;\n",
       "    }\n",
       "</style>\n",
       "<table border=\"1\" class=\"dataframe\">\n",
       "  <thead>\n",
       "    <tr style=\"text-align: right;\">\n",
       "      <th></th>\n",
       "      <th>name</th>\n",
       "      <th>gender</th>\n",
       "      <th>age</th>\n",
       "      <th>class</th>\n",
       "      <th>embarked</th>\n",
       "      <th>country</th>\n",
       "      <th>fare</th>\n",
       "      <th>survived</th>\n",
       "      <th>survived_dummy</th>\n",
       "    </tr>\n",
       "  </thead>\n",
       "  <tbody>\n",
       "    <tr>\n",
       "      <th>0</th>\n",
       "      <td>Abbing, Mr. Anthony</td>\n",
       "      <td>male</td>\n",
       "      <td>42.0</td>\n",
       "      <td>3rd</td>\n",
       "      <td>Southampton</td>\n",
       "      <td>United States</td>\n",
       "      <td>7.1100</td>\n",
       "      <td>no</td>\n",
       "      <td>0</td>\n",
       "    </tr>\n",
       "    <tr>\n",
       "      <th>1</th>\n",
       "      <td>Abbott, Mr. Eugene Joseph</td>\n",
       "      <td>male</td>\n",
       "      <td>13.0</td>\n",
       "      <td>3rd</td>\n",
       "      <td>Southampton</td>\n",
       "      <td>United States</td>\n",
       "      <td>20.0500</td>\n",
       "      <td>no</td>\n",
       "      <td>0</td>\n",
       "    </tr>\n",
       "    <tr>\n",
       "      <th>2</th>\n",
       "      <td>Abbott, Mr. Rossmore Edward</td>\n",
       "      <td>male</td>\n",
       "      <td>16.0</td>\n",
       "      <td>3rd</td>\n",
       "      <td>Southampton</td>\n",
       "      <td>United States</td>\n",
       "      <td>20.0500</td>\n",
       "      <td>no</td>\n",
       "      <td>0</td>\n",
       "    </tr>\n",
       "    <tr>\n",
       "      <th>3</th>\n",
       "      <td>Abbott, Mrs. Rhoda Mary 'Rosa'</td>\n",
       "      <td>female</td>\n",
       "      <td>39.0</td>\n",
       "      <td>3rd</td>\n",
       "      <td>Southampton</td>\n",
       "      <td>England</td>\n",
       "      <td>20.0500</td>\n",
       "      <td>yes</td>\n",
       "      <td>1</td>\n",
       "    </tr>\n",
       "    <tr>\n",
       "      <th>4</th>\n",
       "      <td>Abelseth, Miss. Karen Marie</td>\n",
       "      <td>female</td>\n",
       "      <td>16.0</td>\n",
       "      <td>3rd</td>\n",
       "      <td>Southampton</td>\n",
       "      <td>Norway</td>\n",
       "      <td>7.1300</td>\n",
       "      <td>yes</td>\n",
       "      <td>1</td>\n",
       "    </tr>\n",
       "    <tr>\n",
       "      <th>5</th>\n",
       "      <td>Abelseth, Mr. Olaus Jørgensen</td>\n",
       "      <td>male</td>\n",
       "      <td>25.0</td>\n",
       "      <td>3rd</td>\n",
       "      <td>Southampton</td>\n",
       "      <td>United States</td>\n",
       "      <td>7.1300</td>\n",
       "      <td>yes</td>\n",
       "      <td>1</td>\n",
       "    </tr>\n",
       "    <tr>\n",
       "      <th>6</th>\n",
       "      <td>Abelson, Mr. Samuel</td>\n",
       "      <td>male</td>\n",
       "      <td>30.0</td>\n",
       "      <td>2nd</td>\n",
       "      <td>Cherbourg</td>\n",
       "      <td>France</td>\n",
       "      <td>24.0000</td>\n",
       "      <td>no</td>\n",
       "      <td>0</td>\n",
       "    </tr>\n",
       "    <tr>\n",
       "      <th>7</th>\n",
       "      <td>Abelson, Mrs. Hannah</td>\n",
       "      <td>female</td>\n",
       "      <td>28.0</td>\n",
       "      <td>2nd</td>\n",
       "      <td>Cherbourg</td>\n",
       "      <td>France</td>\n",
       "      <td>24.0000</td>\n",
       "      <td>yes</td>\n",
       "      <td>1</td>\n",
       "    </tr>\n",
       "    <tr>\n",
       "      <th>8</th>\n",
       "      <td>Abī-Al-Munà, Mr. Nāsīf Qāsim</td>\n",
       "      <td>male</td>\n",
       "      <td>27.0</td>\n",
       "      <td>3rd</td>\n",
       "      <td>Cherbourg</td>\n",
       "      <td>Lebanon</td>\n",
       "      <td>18.1509</td>\n",
       "      <td>yes</td>\n",
       "      <td>1</td>\n",
       "    </tr>\n",
       "    <tr>\n",
       "      <th>9</th>\n",
       "      <td>Abrahamsson, Mr. Abraham August Johannes</td>\n",
       "      <td>male</td>\n",
       "      <td>20.0</td>\n",
       "      <td>3rd</td>\n",
       "      <td>Southampton</td>\n",
       "      <td>Finland</td>\n",
       "      <td>7.1806</td>\n",
       "      <td>yes</td>\n",
       "      <td>1</td>\n",
       "    </tr>\n",
       "  </tbody>\n",
       "</table>\n",
       "</div>"
      ],
      "text/plain": [
       "                                       name  gender   age class     embarked  \\\n",
       "0                       Abbing, Mr. Anthony    male  42.0   3rd  Southampton   \n",
       "1                 Abbott, Mr. Eugene Joseph    male  13.0   3rd  Southampton   \n",
       "2               Abbott, Mr. Rossmore Edward    male  16.0   3rd  Southampton   \n",
       "3            Abbott, Mrs. Rhoda Mary 'Rosa'  female  39.0   3rd  Southampton   \n",
       "4               Abelseth, Miss. Karen Marie  female  16.0   3rd  Southampton   \n",
       "5             Abelseth, Mr. Olaus Jørgensen    male  25.0   3rd  Southampton   \n",
       "6                       Abelson, Mr. Samuel    male  30.0   2nd    Cherbourg   \n",
       "7                      Abelson, Mrs. Hannah  female  28.0   2nd    Cherbourg   \n",
       "8              Abī-Al-Munà, Mr. Nāsīf Qāsim    male  27.0   3rd    Cherbourg   \n",
       "9  Abrahamsson, Mr. Abraham August Johannes    male  20.0   3rd  Southampton   \n",
       "\n",
       "         country     fare survived  survived_dummy  \n",
       "0  United States   7.1100       no               0  \n",
       "1  United States  20.0500       no               0  \n",
       "2  United States  20.0500       no               0  \n",
       "3        England  20.0500      yes               1  \n",
       "4         Norway   7.1300      yes               1  \n",
       "5  United States   7.1300      yes               1  \n",
       "6         France  24.0000       no               0  \n",
       "7         France  24.0000      yes               1  \n",
       "8        Lebanon  18.1509      yes               1  \n",
       "9        Finland   7.1806      yes               1  "
      ]
     },
     "execution_count": 25,
     "metadata": {},
     "output_type": "execute_result"
    }
   ],
   "source": [
    "df.head(10)"
   ]
  },
  {
   "cell_type": "markdown",
   "id": "smooth-hundred",
   "metadata": {},
   "source": [
    "`class` is a categorical variable.\n",
    "\n",
    "Let's predict `survived` from `class`. Did passengers from a particular class have better or worse chances of survival?\n",
    "\n",
    "First, let's use `pd.crosstab()` to look at the counts:"
   ]
  },
  {
   "cell_type": "code",
   "execution_count": 26,
   "id": "italic-journalism",
   "metadata": {},
   "outputs": [
    {
     "data": {
      "text/html": [
       "<div>\n",
       "<style scoped>\n",
       "    .dataframe tbody tr th:only-of-type {\n",
       "        vertical-align: middle;\n",
       "    }\n",
       "\n",
       "    .dataframe tbody tr th {\n",
       "        vertical-align: top;\n",
       "    }\n",
       "\n",
       "    .dataframe thead th {\n",
       "        text-align: right;\n",
       "    }\n",
       "</style>\n",
       "<table border=\"1\" class=\"dataframe\">\n",
       "  <thead>\n",
       "    <tr style=\"text-align: right;\">\n",
       "      <th>survived</th>\n",
       "      <th>no</th>\n",
       "      <th>yes</th>\n",
       "      <th>All</th>\n",
       "    </tr>\n",
       "    <tr>\n",
       "      <th>class</th>\n",
       "      <th></th>\n",
       "      <th></th>\n",
       "      <th></th>\n",
       "    </tr>\n",
       "  </thead>\n",
       "  <tbody>\n",
       "    <tr>\n",
       "      <th>1st</th>\n",
       "      <td>114</td>\n",
       "      <td>187</td>\n",
       "      <td>301</td>\n",
       "    </tr>\n",
       "    <tr>\n",
       "      <th>2nd</th>\n",
       "      <td>148</td>\n",
       "      <td>115</td>\n",
       "      <td>263</td>\n",
       "    </tr>\n",
       "    <tr>\n",
       "      <th>3rd</th>\n",
       "      <td>481</td>\n",
       "      <td>168</td>\n",
       "      <td>649</td>\n",
       "    </tr>\n",
       "    <tr>\n",
       "      <th>All</th>\n",
       "      <td>743</td>\n",
       "      <td>470</td>\n",
       "      <td>1213</td>\n",
       "    </tr>\n",
       "  </tbody>\n",
       "</table>\n",
       "</div>"
      ],
      "text/plain": [
       "survived   no  yes   All\n",
       "class                   \n",
       "1st       114  187   301\n",
       "2nd       148  115   263\n",
       "3rd       481  168   649\n",
       "All       743  470  1213"
      ]
     },
     "execution_count": 26,
     "metadata": {},
     "output_type": "execute_result"
    }
   ],
   "source": [
    "# *Note:* `margins = True` tells the function to count the number of observations in each row/column, \n",
    "# these totals are shown under `All`.\n",
    "\n",
    "pd.crosstab(df['class'], df['survived'], margins = True)"
   ]
  },
  {
   "cell_type": "markdown",
   "id": "yellow-front",
   "metadata": {},
   "source": [
    "From looking at this table, it definitely looks like `class` and `survived` are related. But the total numbers of people in each class are quite different. To make comparison easier, let's tell `pd.crosstab()` to show us the proportions who survived, within each class:"
   ]
  },
  {
   "cell_type": "code",
   "execution_count": 27,
   "id": "executed-energy",
   "metadata": {},
   "outputs": [
    {
     "data": {
      "text/html": [
       "<div>\n",
       "<style scoped>\n",
       "    .dataframe tbody tr th:only-of-type {\n",
       "        vertical-align: middle;\n",
       "    }\n",
       "\n",
       "    .dataframe tbody tr th {\n",
       "        vertical-align: top;\n",
       "    }\n",
       "\n",
       "    .dataframe thead th {\n",
       "        text-align: right;\n",
       "    }\n",
       "</style>\n",
       "<table border=\"1\" class=\"dataframe\">\n",
       "  <thead>\n",
       "    <tr style=\"text-align: right;\">\n",
       "      <th>survived</th>\n",
       "      <th>no</th>\n",
       "      <th>yes</th>\n",
       "    </tr>\n",
       "    <tr>\n",
       "      <th>class</th>\n",
       "      <th></th>\n",
       "      <th></th>\n",
       "    </tr>\n",
       "  </thead>\n",
       "  <tbody>\n",
       "    <tr>\n",
       "      <th>1st</th>\n",
       "      <td>0.378738</td>\n",
       "      <td>0.621262</td>\n",
       "    </tr>\n",
       "    <tr>\n",
       "      <th>2nd</th>\n",
       "      <td>0.562738</td>\n",
       "      <td>0.437262</td>\n",
       "    </tr>\n",
       "    <tr>\n",
       "      <th>3rd</th>\n",
       "      <td>0.741140</td>\n",
       "      <td>0.258860</td>\n",
       "    </tr>\n",
       "    <tr>\n",
       "      <th>All</th>\n",
       "      <td>0.612531</td>\n",
       "      <td>0.387469</td>\n",
       "    </tr>\n",
       "  </tbody>\n",
       "</table>\n",
       "</div>"
      ],
      "text/plain": [
       "survived        no       yes\n",
       "class                       \n",
       "1st       0.378738  0.621262\n",
       "2nd       0.562738  0.437262\n",
       "3rd       0.741140  0.258860\n",
       "All       0.612531  0.387469"
      ]
     },
     "execution_count": 27,
     "metadata": {},
     "output_type": "execute_result"
    }
   ],
   "source": [
    "# *Note:* `normalize = 'index'` tells crosstab to show the proportions, across the rows\n",
    "# so in this instance, this will show the proportion of survived ('yes' and 'no') for each class\n",
    "\n",
    "cross_tab_norm = pd.crosstab(df['class'], df['survived'], margins = True, normalize = 'index')\n",
    "\n",
    "cross_tab_norm"
   ]
  },
  {
   "cell_type": "markdown",
   "id": "necessary-trade",
   "metadata": {},
   "source": [
    "This is very revealing. About 0.38, or 38%, of 1st class passengers died. Compared to about 0.74, or 74%, of 3rd class passengers.\n",
    "\n",
    "We can see this relationship better in a stacked barplot:"
   ]
  },
  {
   "cell_type": "code",
   "execution_count": 28,
   "id": "wrapped-lloyd",
   "metadata": {},
   "outputs": [
    {
     "data": {
      "image/png": "[encoded data removed]",
      "text/plain": [
       "<Figure size 432x288 with 1 Axes>"
      ]
     },
     "metadata": {},
     "output_type": "display_data"
    }
   ],
   "source": [
    "cross_tab_norm.plot.bar(stacked = True);"
   ]
  },
  {
   "cell_type": "markdown",
   "id": "offshore-mouth",
   "metadata": {},
   "source": [
    "So that we can include `class` in a logistic regression, we need to create dummy variables for each level of the variable (1st, 2nd and 3rd).\n",
    "\n",
    "To do this, there is a convenient function in pandas, `pd.get_dummies()`."
   ]
  },
  {
   "cell_type": "code",
   "execution_count": 29,
   "id": "creative-saver",
   "metadata": {},
   "outputs": [
    {
     "data": {
      "text/html": [
       "<div>\n",
       "<style scoped>\n",
       "    .dataframe tbody tr th:only-of-type {\n",
       "        vertical-align: middle;\n",
       "    }\n",
       "\n",
       "    .dataframe tbody tr th {\n",
       "        vertical-align: top;\n",
       "    }\n",
       "\n",
       "    .dataframe thead th {\n",
       "        text-align: right;\n",
       "    }\n",
       "</style>\n",
       "<table border=\"1\" class=\"dataframe\">\n",
       "  <thead>\n",
       "    <tr style=\"text-align: right;\">\n",
       "      <th></th>\n",
       "      <th>1st</th>\n",
       "      <th>2nd</th>\n",
       "      <th>3rd</th>\n",
       "    </tr>\n",
       "  </thead>\n",
       "  <tbody>\n",
       "    <tr>\n",
       "      <th>0</th>\n",
       "      <td>0</td>\n",
       "      <td>0</td>\n",
       "      <td>1</td>\n",
       "    </tr>\n",
       "    <tr>\n",
       "      <th>1</th>\n",
       "      <td>0</td>\n",
       "      <td>0</td>\n",
       "      <td>1</td>\n",
       "    </tr>\n",
       "    <tr>\n",
       "      <th>2</th>\n",
       "      <td>0</td>\n",
       "      <td>0</td>\n",
       "      <td>1</td>\n",
       "    </tr>\n",
       "    <tr>\n",
       "      <th>3</th>\n",
       "      <td>0</td>\n",
       "      <td>0</td>\n",
       "      <td>1</td>\n",
       "    </tr>\n",
       "    <tr>\n",
       "      <th>4</th>\n",
       "      <td>0</td>\n",
       "      <td>0</td>\n",
       "      <td>1</td>\n",
       "    </tr>\n",
       "    <tr>\n",
       "      <th>5</th>\n",
       "      <td>0</td>\n",
       "      <td>0</td>\n",
       "      <td>1</td>\n",
       "    </tr>\n",
       "    <tr>\n",
       "      <th>6</th>\n",
       "      <td>0</td>\n",
       "      <td>1</td>\n",
       "      <td>0</td>\n",
       "    </tr>\n",
       "    <tr>\n",
       "      <th>7</th>\n",
       "      <td>0</td>\n",
       "      <td>1</td>\n",
       "      <td>0</td>\n",
       "    </tr>\n",
       "    <tr>\n",
       "      <th>8</th>\n",
       "      <td>0</td>\n",
       "      <td>0</td>\n",
       "      <td>1</td>\n",
       "    </tr>\n",
       "    <tr>\n",
       "      <th>9</th>\n",
       "      <td>0</td>\n",
       "      <td>0</td>\n",
       "      <td>1</td>\n",
       "    </tr>\n",
       "  </tbody>\n",
       "</table>\n",
       "</div>"
      ],
      "text/plain": [
       "   1st  2nd  3rd\n",
       "0    0    0    1\n",
       "1    0    0    1\n",
       "2    0    0    1\n",
       "3    0    0    1\n",
       "4    0    0    1\n",
       "5    0    0    1\n",
       "6    0    1    0\n",
       "7    0    1    0\n",
       "8    0    0    1\n",
       "9    0    0    1"
      ]
     },
     "execution_count": 29,
     "metadata": {},
     "output_type": "execute_result"
    }
   ],
   "source": [
    "# create the dummy variables\n",
    "class_dummies = pd.get_dummies(df['class'])\n",
    "\n",
    "# show the first 10 passengers\n",
    "class_dummies.head(10)"
   ]
  },
  {
   "cell_type": "markdown",
   "id": "wrong-treaty",
   "metadata": {},
   "source": [
    "For each column in the dataframe above, each passenger has either a 0 or a 1 indicating which class they were in. We can see that in the first 6 rows, all the passengers were `3rd` class, as they have a 1 in the `3rd` column, and 0s in the `1st` and `2nd` column.\n",
    "\n",
    "This method of dummy coding - where we have separate dummy variables for each level of the categorical predictor - is called *one-hot* dummy coding.\n",
    "\n",
    "Once we have performed our logisitic regression, we will have 3 slopes - one slope for each class:\n",
    "\n",
    "&emsp; $ \\text{predicted log odds ratio} = \\text{slope}_{1st} * \\text{dummy}_{1st} + \\text{slope}_{2nd} * \\text{dummy}_{2nd} + \\text{slope}_{3rd} *  \\text{dummy}_{3rd}\n",
    "$\n",
    "\n",
    "\n",
    "The dummy variables act like a switch. For the columns which the passenger has a 0 in, the 0 will 'switch off' the slope for that class. \n",
    "\n",
    "\n",
    "For instance, let's look at the first passenger in the dataframe (let's call them 'passenger 0'):"
   ]
  },
  {
   "cell_type": "code",
   "execution_count": 30,
   "id": "fossil-aluminum",
   "metadata": {},
   "outputs": [
    {
     "data": {
      "text/plain": [
       "1st    0\n",
       "2nd    0\n",
       "3rd    1\n",
       "Name: 0, dtype: uint8"
      ]
     },
     "execution_count": 30,
     "metadata": {},
     "output_type": "execute_result"
    }
   ],
   "source": [
    "# passenger 0\n",
    "class_dummies.iloc[0]"
   ]
  },
  {
   "cell_type": "markdown",
   "id": "burning-laundry",
   "metadata": {},
   "source": [
    "Because passenger 0 is `3rd` class - i.e. they have a 1 in the `3rd` column and 0s in the `2nd` and `1st` column - we predict that their chances of survival we be the chances of survival for a `3rd` class passenger. The predicted log odds ratio of survival for passenger 0 will look like this:\n",
    "\n",
    "&emsp; $ \\text{predicted log odds ratio for passenger 0} = \\text{slope}_{1st} * 0 + \\text{slope}_{2nd} * 0 + \\text{slope}_{3rd} * 1 \n",
    "$\n",
    "\n",
    "Because anything multiplied by 0 equals 0, the slopes for the `1st` and `2nd` class are 'switched off'. This means the prediction for passenger 0 boils down to:\n",
    "\n",
    "&emsp;  $ \\text{predicted log odds ratio for passenger 0} = \\text{slope}_{3rd} * 1 $\n",
    "\n",
    "This is what we want: because passenger 0 is `3rd` class, we want to predict their chances of survival using the predicted log odds of surival for a `3rd` class passenger.\n",
    "\n",
    "By contrast, passenger 6 (row 6 in the dataframe above) is `2nd` class. We can see this as they have a 1 in the `2nd` column and 0s in the `1st` and `3rd` column:"
   ]
  },
  {
   "cell_type": "code",
   "execution_count": 31,
   "id": "actual-scene",
   "metadata": {},
   "outputs": [
    {
     "data": {
      "text/plain": [
       "1st    0\n",
       "2nd    1\n",
       "3rd    0\n",
       "Name: 7, dtype: uint8"
      ]
     },
     "execution_count": 31,
     "metadata": {},
     "output_type": "execute_result"
    }
   ],
   "source": [
    "# passenger 6\n",
    "class_dummies.iloc[7]"
   ]
  },
  {
   "cell_type": "markdown",
   "id": "intimate-arnold",
   "metadata": {},
   "source": [
    "For passenger 6, we want to predict that their chances of survival are the chances of survival for a `2nd` class passenger.\n",
    "\n",
    "The predicted log odds of survival for passenger 6 look like this:\n",
    "\n",
    "&emsp; $ \\text{predicted log odds ratio for passenger 6} = \\text{slope}_{1st} * 0 + \\text{slope}_{2nd} * 1 + \\text{slope}_{3rd} * 0 $\n",
    "\n",
    "Again, because anything multiplied by 0 equals 0, the slopes for the `1st` and `3rd` class are 'switched off' by the dummy variables. This means the prediction for passenger 0 boils down to:\n",
    "\n",
    "&emsp;  $ \\text{predicted log odds ratio for passenger 6} = \\text{slope}_{2nd} * 1 $\n",
    "\n",
    "Again, this is what we want. Passenger 6 is `2nd` class, so we predict their log odds of survival are those of a `2nd` class passenger.\n",
    "\n",
    "Notice that this model contains only slopes, there is no intercept. We will discuss this further shortly.\n",
    "\n",
    "But for now, let's re-write our cost function, so that we can use it with this model:"
   ]
  },
  {
   "cell_type": "code",
   "execution_count": 83,
   "id": "frequent-value",
   "metadata": {},
   "outputs": [],
   "source": [
    "# negative log likelihood function, with no intercept\n",
    "\n",
    "def multiple_mll_logit_cost_slopes_only(slopes, predictors, y):\n",
    "    \"\"\" Cost function for maximum log likelihood\n",
    "\n",
    "    Return minus of the log of the likelihood.\n",
    "    \"\"\"\n",
    "    # create an array of zeros to store the predicted log odds ratios\n",
    "    predicted_log_odds = np.zeros(len(y))\n",
    "\n",
    "    # for each observation\n",
    "    for i in np.arange(len(y)):\n",
    "\n",
    "        # multiple the slopes by the predictor dummies (only one slope be used, as discussed above, the others\n",
    "        # will be \"switched off\" by the 0 dummy variables)\n",
    "        predicted_log_odds[i] = np.sum(slopes * predictors.iloc[i])\n",
    "\n",
    "    # convert the predicted log odds ratio to probability\n",
    "    pp_of_1 = inv_logit(predicted_log_odds)\n",
    "        \n",
    "    \n",
    "    # Calculate predicted probabilities of actual labels.\n",
    "    pp_of_correct_label = y * pp_of_1 + (1 - y) * (1 - pp_of_1)\n",
    "        \n",
    "    # Use logs to calculate log of the likelihood\n",
    "    log_likelihood = np.sum(np.log(pp_of_correct_label))\n",
    "        \n",
    "    # return the negative log likelihood (we are trying to maximize the log likelihood, which is the same as minimizing\n",
    "    # the negative log likelihood)\n",
    "    return -log_likelihood"
   ]
  },
  {
   "cell_type": "markdown",
   "id": "bound-confidence",
   "metadata": {},
   "source": [
    "Let's test our new function, with an initial guess of 0 for each `class` slope:"
   ]
  },
  {
   "cell_type": "code",
   "execution_count": 84,
   "id": "existing-plaintiff",
   "metadata": {},
   "outputs": [
    {
     "data": {
      "text/plain": [
       "840.7875300192136"
      ]
     },
     "execution_count": 84,
     "metadata": {},
     "output_type": "execute_result"
    }
   ],
   "source": [
    "multiple_mll_logit_cost_slopes_only([0,0,0], class_dummies, df['survived_dummy'])"
   ]
  },
  {
   "cell_type": "code",
   "execution_count": 85,
   "id": "critical-airfare",
   "metadata": {},
   "outputs": [
    {
     "data": {
      "text/plain": [
       "      fun: 751.0558820848566\n",
       " hess_inv: array([[ 0.01555087,  0.00020261,  0.00045068],\n",
       "       [ 0.00020261,  0.0144457 , -0.00025469],\n",
       "       [ 0.00045068, -0.00025469,  0.00801384]])\n",
       "      jac: array([0., 0., 0.])\n",
       "  message: 'Optimization terminated successfully.'\n",
       "     nfev: 70\n",
       "      nit: 9\n",
       "     njev: 14\n",
       "   status: 0\n",
       "  success: True\n",
       "        x: array([ 0.49491019, -0.25228012, -1.05190335])"
      ]
     },
     "execution_count": 85,
     "metadata": {},
     "output_type": "execute_result"
    }
   ],
   "source": [
    "one_hot_log_reg = minimize(multiple_mll_logit_cost_slopes_only,  # Cost function\n",
    "                  [0.01, 0.01, 0.01],  # Guessed intercept and slopes\n",
    "                  args=(class_dummies, df['survived_dummy']),  # predictors and y values\n",
    "                  tol=1e-5)\n",
    "# Show the result.\n",
    "one_hot_log_reg"
   ]
  },
  {
   "cell_type": "markdown",
   "id": "exact-anniversary",
   "metadata": {},
   "source": [
    "Let's store these slopes separate python variables:"
   ]
  },
  {
   "cell_type": "code",
   "execution_count": 35,
   "id": "pharmaceutical-complaint",
   "metadata": {},
   "outputs": [],
   "source": [
    "slope_1st_class_one_hot = one_hot_log_reg.x[0]\n",
    "\n",
    "slope_2nd_class_one_hot = one_hot_log_reg.x[1]\n",
    "\n",
    "slope_3rd_class_one_hot = one_hot_log_reg.x[2]"
   ]
  },
  {
   "cell_type": "markdown",
   "id": "hybrid-maintenance",
   "metadata": {},
   "source": [
    "Just for interest, let's compare the slopes from `minimize` to the slope from Statsmodels:"
   ]
  },
  {
   "cell_type": "code",
   "execution_count": 81,
   "id": "emotional-setup",
   "metadata": {},
   "outputs": [
    {
     "name": "stdout",
     "output_type": "stream",
     "text": [
      "Optimization terminated successfully.\n",
      "         Current function value: 0.619172\n",
      "         Iterations 5\n"
     ]
    },
    {
     "data": {
      "text/html": [
       "<table class=\"simpletable\">\n",
       "<caption>Logit Regression Results</caption>\n",
       "<tr>\n",
       "  <th>Dep. Variable:</th>    <td>survived_dummy</td>  <th>  No. Observations:  </th>  <td>  1213</td>  \n",
       "</tr>\n",
       "<tr>\n",
       "  <th>Model:</th>                 <td>Logit</td>      <th>  Df Residuals:      </th>  <td>  1210</td>  \n",
       "</tr>\n",
       "<tr>\n",
       "  <th>Method:</th>                 <td>MLE</td>       <th>  Df Model:          </th>  <td>     2</td>  \n",
       "</tr>\n",
       "<tr>\n",
       "  <th>Date:</th>            <td>Thu, 15 Apr 2021</td> <th>  Pseudo R-squ.:     </th>  <td>0.07254</td> \n",
       "</tr>\n",
       "<tr>\n",
       "  <th>Time:</th>                <td>18:08:44</td>     <th>  Log-Likelihood:    </th> <td> -751.06</td> \n",
       "</tr>\n",
       "<tr>\n",
       "  <th>converged:</th>             <td>True</td>       <th>  LL-Null:           </th> <td> -809.80</td> \n",
       "</tr>\n",
       "<tr>\n",
       "  <th>Covariance Type:</th>     <td>nonrobust</td>    <th>  LLR p-value:       </th> <td>3.069e-26</td>\n",
       "</tr>\n",
       "</table>\n",
       "<table class=\"simpletable\">\n",
       "<tr>\n",
       "   <td></td>      <th>coef</th>     <th>std err</th>      <th>z</th>      <th>P>|z|</th>  <th>[0.025</th>    <th>0.975]</th>  \n",
       "</tr>\n",
       "<tr>\n",
       "  <th>1st</th> <td>    0.4949</td> <td>    0.119</td> <td>    4.165</td> <td> 0.000</td> <td>    0.262</td> <td>    0.728</td>\n",
       "</tr>\n",
       "<tr>\n",
       "  <th>2nd</th> <td>   -0.2523</td> <td>    0.124</td> <td>   -2.029</td> <td> 0.042</td> <td>   -0.496</td> <td>   -0.009</td>\n",
       "</tr>\n",
       "<tr>\n",
       "  <th>3rd</th> <td>   -1.0519</td> <td>    0.090</td> <td>  -11.738</td> <td> 0.000</td> <td>   -1.228</td> <td>   -0.876</td>\n",
       "</tr>\n",
       "</table>"
      ],
      "text/plain": [
       "<class 'statsmodels.iolib.summary.Summary'>\n",
       "\"\"\"\n",
       "                           Logit Regression Results                           \n",
       "==============================================================================\n",
       "Dep. Variable:         survived_dummy   No. Observations:                 1213\n",
       "Model:                          Logit   Df Residuals:                     1210\n",
       "Method:                           MLE   Df Model:                            2\n",
       "Date:                Thu, 15 Apr 2021   Pseudo R-squ.:                 0.07254\n",
       "Time:                        18:08:44   Log-Likelihood:                -751.06\n",
       "converged:                       True   LL-Null:                       -809.80\n",
       "Covariance Type:            nonrobust   LLR p-value:                 3.069e-26\n",
       "==============================================================================\n",
       "                 coef    std err          z      P>|z|      [0.025      0.975]\n",
       "------------------------------------------------------------------------------\n",
       "1st            0.4949      0.119      4.165      0.000       0.262       0.728\n",
       "2nd           -0.2523      0.124     -2.029      0.042      -0.496      -0.009\n",
       "3rd           -1.0519      0.090    -11.738      0.000      -1.228      -0.876\n",
       "==============================================================================\n",
       "\"\"\""
      ]
     },
     "metadata": {},
     "output_type": "display_data"
    },
    {
     "name": "stdout",
     "output_type": "stream",
     "text": [
      "1st class slope from minimize =  0.4949101864473029\n",
      "2nd class slope from minimize =  -0.25228012461155436\n",
      "3rd class slope from minimize =  -1.0519033512677036\n"
     ]
    }
   ],
   "source": [
    "# create the model\n",
    "sm_model_one_hot = sm.Logit(df['survived_dummy'], class_dummies)\n",
    "\n",
    "# fit the model\n",
    "sm_model_one_hot = sm_model_one_hot.fit()\n",
    "\n",
    "# show the model summary\n",
    "display(sm_model_one_hot.summary())\n",
    "\n",
    "print('1st class slope from minimize = ', slope_1st_class_one_hot)\n",
    "print('2nd class slope from minimize = ', slope_2nd_class_one_hot)\n",
    "print('3rd class slope from minimize = ', slope_3rd_class_one_hot)"
   ]
  },
  {
   "cell_type": "markdown",
   "id": "ahead-italic",
   "metadata": {},
   "source": [
    "As mentioned earlier, these slopes, in their current form, relate to the log odds ratio of survival for passengers in each `class`.\n",
    "\n",
    "Let's raise `e` to the power of each slope, to convert the slopes to the (more interpretable) odds ratio scale:"
   ]
  },
  {
   "cell_type": "code",
   "execution_count": 37,
   "id": "eastern-liberia",
   "metadata": {},
   "outputs": [
    {
     "name": "stdout",
     "output_type": "stream",
     "text": [
      "Un-logged 1st class slope from minimize =  1.6403509066983213\n",
      "Un-logged 2nd class slope from minimize =  0.7770270431808834\n",
      "Un-logged 3rd class slope from minimize =  0.34927232811859976\n"
     ]
    }
   ],
   "source": [
    "print('Un-logged 1st class slope from minimize = ', np.exp(slope_1st_class_one_hot))\n",
    "print('Un-logged 2nd class slope from minimize = ', np.exp(slope_2nd_class_one_hot))\n",
    "print('Un-logged 3rd class slope from minimize = ', np.exp(slope_3rd_class_one_hot))"
   ]
  },
  {
   "cell_type": "markdown",
   "id": "heard-induction",
   "metadata": {},
   "source": [
    "Now they have been transformed, the slopes tell us how the *odds ratio* changes for a 1 unit increase in the predictor.\n",
    "\n",
    "Because we have coded each class as a separate binary predictor, and because the binary predictor can only take the values 0 or 1, the slope tells us the predicted odds ratio when the predictor == 1. These slopes, then, tell us the predicted odds ratio of survival for each `class`.\n",
    "\n",
    "If the odds ratio is greater than 1, it means survival was more likely than death, in that `class`.\n",
    "\n",
    "If the odds ratio is less than than 1, it means death was more likely than survival, in that `class`.\n",
    "\n",
    "We can see that survival is more likely than death for `1st` class passengers.\n",
    "\n",
    "Death is more likely than survival for both the lower classes. The lowest odds ratio for survival is for the `3rd` class.\n",
    "\n",
    "This is consistent with what we saw on our stacked barplot:"
   ]
  },
  {
   "cell_type": "code",
   "execution_count": 38,
   "id": "unavailable-finding",
   "metadata": {},
   "outputs": [
    {
     "data": {
      "image/png": "[encoded data removed]",
      "text/plain": [
       "<Figure size 432x288 with 1 Axes>"
      ]
     },
     "metadata": {},
     "output_type": "display_data"
    }
   ],
   "source": [
    "cross_tab_norm.plot.bar(stacked = True);"
   ]
  },
  {
   "cell_type": "markdown",
   "id": "worthy-court",
   "metadata": {},
   "source": [
    "## The dummy variable trap\n",
    "\n",
    "Now, there are risks to using the method of dummy variable coding shown above. The problem comes if we also try to fit an intercept to the model.\n",
    "\n",
    "Let's run the logistic regression using Statsmodels, as it will illustrate the problem. The use of the `sm.add_constant()` function means we are also trying to fit an intercept to the model. "
   ]
  },
  {
   "cell_type": "code",
   "execution_count": 39,
   "id": "dutch-fusion",
   "metadata": {},
   "outputs": [
    {
     "data": {
      "text/html": [
       "<div>\n",
       "<style scoped>\n",
       "    .dataframe tbody tr th:only-of-type {\n",
       "        vertical-align: middle;\n",
       "    }\n",
       "\n",
       "    .dataframe tbody tr th {\n",
       "        vertical-align: top;\n",
       "    }\n",
       "\n",
       "    .dataframe thead th {\n",
       "        text-align: right;\n",
       "    }\n",
       "</style>\n",
       "<table border=\"1\" class=\"dataframe\">\n",
       "  <thead>\n",
       "    <tr style=\"text-align: right;\">\n",
       "      <th></th>\n",
       "      <th>const</th>\n",
       "      <th>1st</th>\n",
       "      <th>2nd</th>\n",
       "      <th>3rd</th>\n",
       "    </tr>\n",
       "  </thead>\n",
       "  <tbody>\n",
       "    <tr>\n",
       "      <th>0</th>\n",
       "      <td>1.0</td>\n",
       "      <td>0</td>\n",
       "      <td>0</td>\n",
       "      <td>1</td>\n",
       "    </tr>\n",
       "    <tr>\n",
       "      <th>1</th>\n",
       "      <td>1.0</td>\n",
       "      <td>0</td>\n",
       "      <td>0</td>\n",
       "      <td>1</td>\n",
       "    </tr>\n",
       "    <tr>\n",
       "      <th>2</th>\n",
       "      <td>1.0</td>\n",
       "      <td>0</td>\n",
       "      <td>0</td>\n",
       "      <td>1</td>\n",
       "    </tr>\n",
       "    <tr>\n",
       "      <th>3</th>\n",
       "      <td>1.0</td>\n",
       "      <td>0</td>\n",
       "      <td>0</td>\n",
       "      <td>1</td>\n",
       "    </tr>\n",
       "    <tr>\n",
       "      <th>4</th>\n",
       "      <td>1.0</td>\n",
       "      <td>0</td>\n",
       "      <td>0</td>\n",
       "      <td>1</td>\n",
       "    </tr>\n",
       "    <tr>\n",
       "      <th>5</th>\n",
       "      <td>1.0</td>\n",
       "      <td>0</td>\n",
       "      <td>0</td>\n",
       "      <td>1</td>\n",
       "    </tr>\n",
       "    <tr>\n",
       "      <th>6</th>\n",
       "      <td>1.0</td>\n",
       "      <td>0</td>\n",
       "      <td>1</td>\n",
       "      <td>0</td>\n",
       "    </tr>\n",
       "    <tr>\n",
       "      <th>7</th>\n",
       "      <td>1.0</td>\n",
       "      <td>0</td>\n",
       "      <td>1</td>\n",
       "      <td>0</td>\n",
       "    </tr>\n",
       "    <tr>\n",
       "      <th>8</th>\n",
       "      <td>1.0</td>\n",
       "      <td>0</td>\n",
       "      <td>0</td>\n",
       "      <td>1</td>\n",
       "    </tr>\n",
       "    <tr>\n",
       "      <th>9</th>\n",
       "      <td>1.0</td>\n",
       "      <td>0</td>\n",
       "      <td>0</td>\n",
       "      <td>1</td>\n",
       "    </tr>\n",
       "  </tbody>\n",
       "</table>\n",
       "</div>"
      ],
      "text/plain": [
       "   const  1st  2nd  3rd\n",
       "0    1.0    0    0    1\n",
       "1    1.0    0    0    1\n",
       "2    1.0    0    0    1\n",
       "3    1.0    0    0    1\n",
       "4    1.0    0    0    1\n",
       "5    1.0    0    0    1\n",
       "6    1.0    0    1    0\n",
       "7    1.0    0    1    0\n",
       "8    1.0    0    0    1\n",
       "9    1.0    0    0    1"
      ]
     },
     "execution_count": 39,
     "metadata": {},
     "output_type": "execute_result"
    }
   ],
   "source": [
    "sm.add_constant(class_dummies).head(10)"
   ]
  },
  {
   "cell_type": "markdown",
   "id": "another-ontario",
   "metadata": {},
   "source": [
    "You can see that `sm.add_constant()` has added a column of 1.0's to the dataframe.\n",
    "\n",
    "In the same way as the dummy variables for `class` act as \"switches\" for the `class` slopes, the column of 1.0's which is added by `sm.add_constant()` acts as an always-on \"switch\" for the intercept. This \"switch\" for the intercept is called the *constant* (it is always-on because it always equals 1, for every passenger).\n",
    "\n",
    "So the model is now:\n",
    "\n",
    "&emsp; $ \\text{predicted log odds ratio} = 1 * \\text{intercept} + \\text{slope}_{1st} * \\text{dummy}_{1st} + \\text{slope}_{2nd} * \\text{dummy}_{2nd} + \\text{slope}_{3rd} *  \\text{dummy}_{3rd}\n",
    "$\n",
    "\n",
    "For passenger 0, this is:\n",
    "\n",
    "&emsp; $ \\text{predicted log odds ratio for passenger 0} = 1 * \\text{intercept} + \\text{slope}_{1st} * 0 + \\text{slope}_{2nd} * 0 + \\text{slope}_{3rd} * 1 \n",
    "$\n",
    "\n",
    "Which, because the dummy variables act as a 'switch', boils down to:\n",
    "\n",
    "&emsp; $ \\text{predicted log odds ratio for passenger 0} = 1 * \\text{intercept} + \\text{slope}_{3rd} * 1 \n",
    "$"
   ]
  },
  {
   "cell_type": "code",
   "execution_count": 40,
   "id": "incorporated-variable",
   "metadata": {},
   "outputs": [
    {
     "name": "stdout",
     "output_type": "stream",
     "text": [
      "Warning: Maximum number of iterations has been exceeded.\n",
      "         Current function value: 0.619172\n",
      "         Iterations: 35\n"
     ]
    },
    {
     "name": "stderr",
     "output_type": "stream",
     "text": [
      "C:\\ProgramData\\Anaconda3\\lib\\site-packages\\statsmodels\\base\\model.py:568: ConvergenceWarning: Maximum Likelihood optimization failed to converge. Check mle_retvals\n",
      "  ConvergenceWarning)\n"
     ]
    },
    {
     "data": {
      "text/html": [
       "<table class=\"simpletable\">\n",
       "<caption>Logit Regression Results</caption>\n",
       "<tr>\n",
       "  <th>Dep. Variable:</th>    <td>survived_dummy</td>  <th>  No. Observations:  </th>  <td>  1213</td>  \n",
       "</tr>\n",
       "<tr>\n",
       "  <th>Model:</th>                 <td>Logit</td>      <th>  Df Residuals:      </th>  <td>  1209</td>  \n",
       "</tr>\n",
       "<tr>\n",
       "  <th>Method:</th>                 <td>MLE</td>       <th>  Df Model:          </th>  <td>     3</td>  \n",
       "</tr>\n",
       "<tr>\n",
       "  <th>Date:</th>            <td>Thu, 15 Apr 2021</td> <th>  Pseudo R-squ.:     </th>  <td>0.07254</td> \n",
       "</tr>\n",
       "<tr>\n",
       "  <th>Time:</th>                <td>17:25:43</td>     <th>  Log-Likelihood:    </th> <td> -751.06</td> \n",
       "</tr>\n",
       "<tr>\n",
       "  <th>converged:</th>             <td>False</td>      <th>  LL-Null:           </th> <td> -809.80</td> \n",
       "</tr>\n",
       "<tr>\n",
       "  <th>Covariance Type:</th>     <td>nonrobust</td>    <th>  LLR p-value:       </th> <td>2.676e-25</td>\n",
       "</tr>\n",
       "</table>\n",
       "<table class=\"simpletable\">\n",
       "<tr>\n",
       "    <td></td>       <th>coef</th>     <th>std err</th>      <th>z</th>      <th>P>|z|</th>  <th>[0.025</th>    <th>0.975]</th>  \n",
       "</tr>\n",
       "<tr>\n",
       "  <th>const</th> <td>   -0.2023</td> <td> 3.15e+06</td> <td>-6.43e-08</td> <td> 1.000</td> <td>-6.17e+06</td> <td> 6.17e+06</td>\n",
       "</tr>\n",
       "<tr>\n",
       "  <th>1st</th>   <td>    0.6972</td> <td> 3.15e+06</td> <td> 2.22e-07</td> <td> 1.000</td> <td>-6.17e+06</td> <td> 6.17e+06</td>\n",
       "</tr>\n",
       "<tr>\n",
       "  <th>2nd</th>   <td>   -0.0500</td> <td> 3.15e+06</td> <td>-1.59e-08</td> <td> 1.000</td> <td>-6.17e+06</td> <td> 6.17e+06</td>\n",
       "</tr>\n",
       "<tr>\n",
       "  <th>3rd</th>   <td>   -0.8496</td> <td> 3.15e+06</td> <td> -2.7e-07</td> <td> 1.000</td> <td>-6.17e+06</td> <td> 6.17e+06</td>\n",
       "</tr>\n",
       "</table>"
      ],
      "text/plain": [
       "<class 'statsmodels.iolib.summary.Summary'>\n",
       "\"\"\"\n",
       "                           Logit Regression Results                           \n",
       "==============================================================================\n",
       "Dep. Variable:         survived_dummy   No. Observations:                 1213\n",
       "Model:                          Logit   Df Residuals:                     1209\n",
       "Method:                           MLE   Df Model:                            3\n",
       "Date:                Thu, 15 Apr 2021   Pseudo R-squ.:                 0.07254\n",
       "Time:                        17:25:43   Log-Likelihood:                -751.06\n",
       "converged:                      False   LL-Null:                       -809.80\n",
       "Covariance Type:            nonrobust   LLR p-value:                 2.676e-25\n",
       "==============================================================================\n",
       "                 coef    std err          z      P>|z|      [0.025      0.975]\n",
       "------------------------------------------------------------------------------\n",
       "const         -0.2023   3.15e+06  -6.43e-08      1.000   -6.17e+06    6.17e+06\n",
       "1st            0.6972   3.15e+06   2.22e-07      1.000   -6.17e+06    6.17e+06\n",
       "2nd           -0.0500   3.15e+06  -1.59e-08      1.000   -6.17e+06    6.17e+06\n",
       "3rd           -0.8496   3.15e+06   -2.7e-07      1.000   -6.17e+06    6.17e+06\n",
       "==============================================================================\n",
       "\"\"\""
      ]
     },
     "execution_count": 40,
     "metadata": {},
     "output_type": "execute_result"
    }
   ],
   "source": [
    "# a quick look at what statsmodels finds for this model\n",
    "sm.Logit(df['survived_dummy'], sm.add_constant(class_dummies)).fit().summary()"
   ]
  },
  {
   "cell_type": "markdown",
   "id": "joint-audio",
   "metadata": {},
   "source": [
    "So, this did produce a set of slopes, and an intercept. But there is a problem. If you look at the standard errors of the coefficients (below `std err` in the table above), you'll see that the numbers are huge:"
   ]
  },
  {
   "cell_type": "code",
   "execution_count": 41,
   "id": "atlantic-elevation",
   "metadata": {},
   "outputs": [
    {
     "data": {
      "text/plain": [
       "3150000.0"
      ]
     },
     "execution_count": 41,
     "metadata": {},
     "output_type": "execute_result"
    }
   ],
   "source": [
    "# huge standard error\n",
    "3.15*10**6"
   ]
  },
  {
   "cell_type": "markdown",
   "id": "billion-accommodation",
   "metadata": {},
   "source": [
    "The standard errors are a measure of the uncertainty in the slope and intercept estimates.\n",
    "\n",
    "The larger the standard error, the less we can trust the numbers the model produced. \n",
    "\n",
    "Here's an anology for the problem the model is facing, which produced these large standard errors:\n",
    "\n",
    "<i> \"Imagine you are participating in an experiment. The experimenters want to know if auditory or tactile distraction is worse for impairing performance on a specific task.</i>\n",
    "\n",
    "<i> You're in the experiment, performing the task. Suddenly, a 110 dB alarm goes off, right by your ear. At the same time a research assistant pushes you forcefully and repeatedly. (We don't know how the experimenters got ethics clearance for this study). Both the alarm and the pushing go on until the end of the experiment, whilst you continue to perform the task. </i>\n",
    "\n",
    "<i> At the end of the session, the experimenters ask you: 'which was more distracting: the alarm or the pushing?' </i>\n",
    "\n",
    "<i> You can't work out which was more distracting, because one event correlates perfectly with the other. You were definitely distracted from the task, but its hard to know if the loud noise was worse, or if being pushed was worse, as they were both going on at the same time.\" </i>\n",
    "\n",
    "Let's say the experimenters repeat exactly the same procedure for all their participants. They call the variables in the study `task_performance`, `being_pushed` and `loud_alarm`. In their study, they want to model `task_performance ~ being_pushed + loud_alarm`. \n",
    "\n",
    "Let's say they code `being_pushed` as 1 when the participant is being pushed, and `loud_alarm` as 1 when the alarm is going off.\n",
    "\n",
    "The dummy codes for the predictor variables, for 20 participants, would look something like this:"
   ]
  },
  {
   "cell_type": "code",
   "execution_count": 42,
   "id": "aggressive-frank",
   "metadata": {},
   "outputs": [
    {
     "data": {
      "text/html": [
       "<div>\n",
       "<style scoped>\n",
       "    .dataframe tbody tr th:only-of-type {\n",
       "        vertical-align: middle;\n",
       "    }\n",
       "\n",
       "    .dataframe tbody tr th {\n",
       "        vertical-align: top;\n",
       "    }\n",
       "\n",
       "    .dataframe thead th {\n",
       "        text-align: right;\n",
       "    }\n",
       "</style>\n",
       "<table border=\"1\" class=\"dataframe\">\n",
       "  <thead>\n",
       "    <tr style=\"text-align: right;\">\n",
       "      <th></th>\n",
       "      <th>being_pushed</th>\n",
       "      <th>loud_alarm</th>\n",
       "    </tr>\n",
       "  </thead>\n",
       "  <tbody>\n",
       "    <tr>\n",
       "      <th>0</th>\n",
       "      <td>1</td>\n",
       "      <td>1</td>\n",
       "    </tr>\n",
       "    <tr>\n",
       "      <th>1</th>\n",
       "      <td>1</td>\n",
       "      <td>1</td>\n",
       "    </tr>\n",
       "    <tr>\n",
       "      <th>2</th>\n",
       "      <td>1</td>\n",
       "      <td>1</td>\n",
       "    </tr>\n",
       "    <tr>\n",
       "      <th>3</th>\n",
       "      <td>1</td>\n",
       "      <td>1</td>\n",
       "    </tr>\n",
       "    <tr>\n",
       "      <th>4</th>\n",
       "      <td>1</td>\n",
       "      <td>1</td>\n",
       "    </tr>\n",
       "    <tr>\n",
       "      <th>5</th>\n",
       "      <td>1</td>\n",
       "      <td>1</td>\n",
       "    </tr>\n",
       "    <tr>\n",
       "      <th>6</th>\n",
       "      <td>1</td>\n",
       "      <td>1</td>\n",
       "    </tr>\n",
       "    <tr>\n",
       "      <th>7</th>\n",
       "      <td>1</td>\n",
       "      <td>1</td>\n",
       "    </tr>\n",
       "    <tr>\n",
       "      <th>8</th>\n",
       "      <td>1</td>\n",
       "      <td>1</td>\n",
       "    </tr>\n",
       "    <tr>\n",
       "      <th>9</th>\n",
       "      <td>1</td>\n",
       "      <td>1</td>\n",
       "    </tr>\n",
       "    <tr>\n",
       "      <th>10</th>\n",
       "      <td>1</td>\n",
       "      <td>1</td>\n",
       "    </tr>\n",
       "    <tr>\n",
       "      <th>11</th>\n",
       "      <td>1</td>\n",
       "      <td>1</td>\n",
       "    </tr>\n",
       "    <tr>\n",
       "      <th>12</th>\n",
       "      <td>1</td>\n",
       "      <td>1</td>\n",
       "    </tr>\n",
       "    <tr>\n",
       "      <th>13</th>\n",
       "      <td>1</td>\n",
       "      <td>1</td>\n",
       "    </tr>\n",
       "    <tr>\n",
       "      <th>14</th>\n",
       "      <td>1</td>\n",
       "      <td>1</td>\n",
       "    </tr>\n",
       "    <tr>\n",
       "      <th>15</th>\n",
       "      <td>1</td>\n",
       "      <td>1</td>\n",
       "    </tr>\n",
       "    <tr>\n",
       "      <th>16</th>\n",
       "      <td>1</td>\n",
       "      <td>1</td>\n",
       "    </tr>\n",
       "    <tr>\n",
       "      <th>17</th>\n",
       "      <td>1</td>\n",
       "      <td>1</td>\n",
       "    </tr>\n",
       "    <tr>\n",
       "      <th>18</th>\n",
       "      <td>1</td>\n",
       "      <td>1</td>\n",
       "    </tr>\n",
       "    <tr>\n",
       "      <th>19</th>\n",
       "      <td>1</td>\n",
       "      <td>1</td>\n",
       "    </tr>\n",
       "  </tbody>\n",
       "</table>\n",
       "</div>"
      ],
      "text/plain": [
       "    being_pushed  loud_alarm\n",
       "0              1           1\n",
       "1              1           1\n",
       "2              1           1\n",
       "3              1           1\n",
       "4              1           1\n",
       "5              1           1\n",
       "6              1           1\n",
       "7              1           1\n",
       "8              1           1\n",
       "9              1           1\n",
       "10             1           1\n",
       "11             1           1\n",
       "12             1           1\n",
       "13             1           1\n",
       "14             1           1\n",
       "15             1           1\n",
       "16             1           1\n",
       "17             1           1\n",
       "18             1           1\n",
       "19             1           1"
      ]
     },
     "execution_count": 42,
     "metadata": {},
     "output_type": "execute_result"
    }
   ],
   "source": [
    "# igore this code, it just generates the dataframe\n",
    "\n",
    "experi = pd.DataFrame({'being_pushed': np.repeat(1, 20), 'loud_alarm': np.repeat(1, 20)})\n",
    "experi"
   ]
  },
  {
   "cell_type": "markdown",
   "id": "parliamentary-carpet",
   "metadata": {},
   "source": [
    "If the experimenters want to show that `being_pushed` was worse for performance than `loud_alarm` (or vice versa) they would need observations where `being_pushed == 1` and `loud_alarm == 0`. They would also need observations where `being_pushed == 0` and `loud_alarm == 1`. \n",
    "\n",
    "If they had these comparisons, and they found that the `task_performance` scores were lower when one predictor variable equalled 1 and the other equalled 0, this would provide evidence that that predictor was worse for task performance.\n",
    "\n",
    "However, as it stands, because `being_pushed` and `loud_alarm` *always* co-occur, the experimenters cannot tell which is worse for `task_performance`. One way of putthing this, is that they would be left with a *high degree of uncertainty about which was worse*. \n",
    "\n",
    "\n",
    "Our logistic regression model faces a similar problem. To see what this is, let's add the `class` dummy variables together (this sum is shown in the `dummy_sum` column of the dataframe below):"
   ]
  },
  {
   "cell_type": "code",
   "execution_count": 43,
   "id": "european-enforcement",
   "metadata": {},
   "outputs": [
    {
     "data": {
      "text/html": [
       "<div>\n",
       "<style scoped>\n",
       "    .dataframe tbody tr th:only-of-type {\n",
       "        vertical-align: middle;\n",
       "    }\n",
       "\n",
       "    .dataframe tbody tr th {\n",
       "        vertical-align: top;\n",
       "    }\n",
       "\n",
       "    .dataframe thead th {\n",
       "        text-align: right;\n",
       "    }\n",
       "</style>\n",
       "<table border=\"1\" class=\"dataframe\">\n",
       "  <thead>\n",
       "    <tr style=\"text-align: right;\">\n",
       "      <th></th>\n",
       "      <th>const</th>\n",
       "      <th>1st</th>\n",
       "      <th>2nd</th>\n",
       "      <th>3rd</th>\n",
       "      <th>dummy_sum</th>\n",
       "    </tr>\n",
       "  </thead>\n",
       "  <tbody>\n",
       "    <tr>\n",
       "      <th>0</th>\n",
       "      <td>1.0</td>\n",
       "      <td>0</td>\n",
       "      <td>0</td>\n",
       "      <td>1</td>\n",
       "      <td>1</td>\n",
       "    </tr>\n",
       "    <tr>\n",
       "      <th>1</th>\n",
       "      <td>1.0</td>\n",
       "      <td>0</td>\n",
       "      <td>0</td>\n",
       "      <td>1</td>\n",
       "      <td>1</td>\n",
       "    </tr>\n",
       "    <tr>\n",
       "      <th>2</th>\n",
       "      <td>1.0</td>\n",
       "      <td>0</td>\n",
       "      <td>0</td>\n",
       "      <td>1</td>\n",
       "      <td>1</td>\n",
       "    </tr>\n",
       "    <tr>\n",
       "      <th>3</th>\n",
       "      <td>1.0</td>\n",
       "      <td>0</td>\n",
       "      <td>0</td>\n",
       "      <td>1</td>\n",
       "      <td>1</td>\n",
       "    </tr>\n",
       "    <tr>\n",
       "      <th>4</th>\n",
       "      <td>1.0</td>\n",
       "      <td>0</td>\n",
       "      <td>0</td>\n",
       "      <td>1</td>\n",
       "      <td>1</td>\n",
       "    </tr>\n",
       "    <tr>\n",
       "      <th>5</th>\n",
       "      <td>1.0</td>\n",
       "      <td>0</td>\n",
       "      <td>0</td>\n",
       "      <td>1</td>\n",
       "      <td>1</td>\n",
       "    </tr>\n",
       "    <tr>\n",
       "      <th>6</th>\n",
       "      <td>1.0</td>\n",
       "      <td>0</td>\n",
       "      <td>1</td>\n",
       "      <td>0</td>\n",
       "      <td>1</td>\n",
       "    </tr>\n",
       "    <tr>\n",
       "      <th>7</th>\n",
       "      <td>1.0</td>\n",
       "      <td>0</td>\n",
       "      <td>1</td>\n",
       "      <td>0</td>\n",
       "      <td>1</td>\n",
       "    </tr>\n",
       "    <tr>\n",
       "      <th>8</th>\n",
       "      <td>1.0</td>\n",
       "      <td>0</td>\n",
       "      <td>0</td>\n",
       "      <td>1</td>\n",
       "      <td>1</td>\n",
       "    </tr>\n",
       "    <tr>\n",
       "      <th>9</th>\n",
       "      <td>1.0</td>\n",
       "      <td>0</td>\n",
       "      <td>0</td>\n",
       "      <td>1</td>\n",
       "      <td>1</td>\n",
       "    </tr>\n",
       "  </tbody>\n",
       "</table>\n",
       "</div>"
      ],
      "text/plain": [
       "   const  1st  2nd  3rd  dummy_sum\n",
       "0    1.0    0    0    1          1\n",
       "1    1.0    0    0    1          1\n",
       "2    1.0    0    0    1          1\n",
       "3    1.0    0    0    1          1\n",
       "4    1.0    0    0    1          1\n",
       "5    1.0    0    0    1          1\n",
       "6    1.0    0    1    0          1\n",
       "7    1.0    0    1    0          1\n",
       "8    1.0    0    0    1          1\n",
       "9    1.0    0    0    1          1"
      ]
     },
     "execution_count": 43,
     "metadata": {},
     "output_type": "execute_result"
    }
   ],
   "source": [
    "dummy_sum = class_dummies['1st'] + class_dummies['2nd'] + class_dummies['3rd'] \n",
    "\n",
    "trap_df = pd.DataFrame(sm.add_constant(class_dummies))\n",
    "trap_df['dummy_sum'] = dummy_sum\n",
    "trap_df.head(10)"
   ]
  },
  {
   "cell_type": "markdown",
   "id": "invalid-humanity",
   "metadata": {},
   "source": [
    "To make the problem clearer, let's look at just the `const` and `dummy_sum` columns:"
   ]
  },
  {
   "cell_type": "code",
   "execution_count": 44,
   "id": "fixed-processing",
   "metadata": {},
   "outputs": [
    {
     "data": {
      "text/html": [
       "<div>\n",
       "<style scoped>\n",
       "    .dataframe tbody tr th:only-of-type {\n",
       "        vertical-align: middle;\n",
       "    }\n",
       "\n",
       "    .dataframe tbody tr th {\n",
       "        vertical-align: top;\n",
       "    }\n",
       "\n",
       "    .dataframe thead th {\n",
       "        text-align: right;\n",
       "    }\n",
       "</style>\n",
       "<table border=\"1\" class=\"dataframe\">\n",
       "  <thead>\n",
       "    <tr style=\"text-align: right;\">\n",
       "      <th></th>\n",
       "      <th>const</th>\n",
       "      <th>dummy_sum</th>\n",
       "    </tr>\n",
       "  </thead>\n",
       "  <tbody>\n",
       "    <tr>\n",
       "      <th>0</th>\n",
       "      <td>1.0</td>\n",
       "      <td>1</td>\n",
       "    </tr>\n",
       "    <tr>\n",
       "      <th>1</th>\n",
       "      <td>1.0</td>\n",
       "      <td>1</td>\n",
       "    </tr>\n",
       "    <tr>\n",
       "      <th>2</th>\n",
       "      <td>1.0</td>\n",
       "      <td>1</td>\n",
       "    </tr>\n",
       "    <tr>\n",
       "      <th>3</th>\n",
       "      <td>1.0</td>\n",
       "      <td>1</td>\n",
       "    </tr>\n",
       "    <tr>\n",
       "      <th>4</th>\n",
       "      <td>1.0</td>\n",
       "      <td>1</td>\n",
       "    </tr>\n",
       "    <tr>\n",
       "      <th>5</th>\n",
       "      <td>1.0</td>\n",
       "      <td>1</td>\n",
       "    </tr>\n",
       "    <tr>\n",
       "      <th>6</th>\n",
       "      <td>1.0</td>\n",
       "      <td>1</td>\n",
       "    </tr>\n",
       "    <tr>\n",
       "      <th>7</th>\n",
       "      <td>1.0</td>\n",
       "      <td>1</td>\n",
       "    </tr>\n",
       "    <tr>\n",
       "      <th>8</th>\n",
       "      <td>1.0</td>\n",
       "      <td>1</td>\n",
       "    </tr>\n",
       "    <tr>\n",
       "      <th>9</th>\n",
       "      <td>1.0</td>\n",
       "      <td>1</td>\n",
       "    </tr>\n",
       "  </tbody>\n",
       "</table>\n",
       "</div>"
      ],
      "text/plain": [
       "   const  dummy_sum\n",
       "0    1.0          1\n",
       "1    1.0          1\n",
       "2    1.0          1\n",
       "3    1.0          1\n",
       "4    1.0          1\n",
       "5    1.0          1\n",
       "6    1.0          1\n",
       "7    1.0          1\n",
       "8    1.0          1\n",
       "9    1.0          1"
      ]
     },
     "execution_count": 44,
     "metadata": {},
     "output_type": "execute_result"
    }
   ],
   "source": [
    "trap_df[['const', 'dummy_sum']].head(10)"
   ]
  },
  {
   "cell_type": "markdown",
   "id": "cooked-accommodation",
   "metadata": {},
   "source": [
    "Looks familiar? This is a similar problem to that faced by the experimenters in the example above. From our models \"point of view\", `const` and `dummy_sum` look the same - they are perfectly correlated. The model can't tell which is which. \n",
    "\n",
    "Because the model also cannot \"see\" the difference between `const` and the `class` dummy codes, it also cannot estimate the intercept or the slopes for each class accurately. The predictors and the intercept are getting 'blended' together.\n",
    "\n",
    "This is what introduces the huge uncertainty, and large standard errors, into our logistic regression model."
   ]
  },
  {
   "cell_type": "markdown",
   "id": "critical-aircraft",
   "metadata": {},
   "source": [
    " ### Solution to the dummy variable trap\n",
    " \n",
    " The solution is either to drop the intercept, or to drop one of the dummy variables.\n",
    " \n",
    " We've already seen the solution where we fit a model with no intercept, just one slope for each predictor.\n",
    " \n",
    " Let's now look at the method where we drop one of the dummy variables. `pd.get_dummies()` has a way of easily doing this, we just pass it the argument `drop_first = True`:"
   ]
  },
  {
   "cell_type": "code",
   "execution_count": 45,
   "id": "former-tokyo",
   "metadata": {},
   "outputs": [
    {
     "data": {
      "text/html": [
       "<div>\n",
       "<style scoped>\n",
       "    .dataframe tbody tr th:only-of-type {\n",
       "        vertical-align: middle;\n",
       "    }\n",
       "\n",
       "    .dataframe tbody tr th {\n",
       "        vertical-align: top;\n",
       "    }\n",
       "\n",
       "    .dataframe thead th {\n",
       "        text-align: right;\n",
       "    }\n",
       "</style>\n",
       "<table border=\"1\" class=\"dataframe\">\n",
       "  <thead>\n",
       "    <tr style=\"text-align: right;\">\n",
       "      <th></th>\n",
       "      <th>2nd</th>\n",
       "      <th>3rd</th>\n",
       "    </tr>\n",
       "  </thead>\n",
       "  <tbody>\n",
       "    <tr>\n",
       "      <th>0</th>\n",
       "      <td>0</td>\n",
       "      <td>1</td>\n",
       "    </tr>\n",
       "    <tr>\n",
       "      <th>1</th>\n",
       "      <td>0</td>\n",
       "      <td>1</td>\n",
       "    </tr>\n",
       "    <tr>\n",
       "      <th>2</th>\n",
       "      <td>0</td>\n",
       "      <td>1</td>\n",
       "    </tr>\n",
       "    <tr>\n",
       "      <th>3</th>\n",
       "      <td>0</td>\n",
       "      <td>1</td>\n",
       "    </tr>\n",
       "    <tr>\n",
       "      <th>4</th>\n",
       "      <td>0</td>\n",
       "      <td>1</td>\n",
       "    </tr>\n",
       "    <tr>\n",
       "      <th>5</th>\n",
       "      <td>0</td>\n",
       "      <td>1</td>\n",
       "    </tr>\n",
       "    <tr>\n",
       "      <th>6</th>\n",
       "      <td>1</td>\n",
       "      <td>0</td>\n",
       "    </tr>\n",
       "    <tr>\n",
       "      <th>7</th>\n",
       "      <td>1</td>\n",
       "      <td>0</td>\n",
       "    </tr>\n",
       "    <tr>\n",
       "      <th>8</th>\n",
       "      <td>0</td>\n",
       "      <td>1</td>\n",
       "    </tr>\n",
       "    <tr>\n",
       "      <th>9</th>\n",
       "      <td>0</td>\n",
       "      <td>1</td>\n",
       "    </tr>\n",
       "    <tr>\n",
       "      <th>10</th>\n",
       "      <td>0</td>\n",
       "      <td>1</td>\n",
       "    </tr>\n",
       "    <tr>\n",
       "      <th>11</th>\n",
       "      <td>0</td>\n",
       "      <td>1</td>\n",
       "    </tr>\n",
       "    <tr>\n",
       "      <th>12</th>\n",
       "      <td>0</td>\n",
       "      <td>1</td>\n",
       "    </tr>\n",
       "    <tr>\n",
       "      <th>13</th>\n",
       "      <td>0</td>\n",
       "      <td>1</td>\n",
       "    </tr>\n",
       "    <tr>\n",
       "      <th>14</th>\n",
       "      <td>0</td>\n",
       "      <td>1</td>\n",
       "    </tr>\n",
       "    <tr>\n",
       "      <th>15</th>\n",
       "      <td>1</td>\n",
       "      <td>0</td>\n",
       "    </tr>\n",
       "    <tr>\n",
       "      <th>16</th>\n",
       "      <td>0</td>\n",
       "      <td>1</td>\n",
       "    </tr>\n",
       "    <tr>\n",
       "      <th>17</th>\n",
       "      <td>0</td>\n",
       "      <td>1</td>\n",
       "    </tr>\n",
       "    <tr>\n",
       "      <th>18</th>\n",
       "      <td>0</td>\n",
       "      <td>1</td>\n",
       "    </tr>\n",
       "    <tr>\n",
       "      <th>19</th>\n",
       "      <td>0</td>\n",
       "      <td>1</td>\n",
       "    </tr>\n",
       "    <tr>\n",
       "      <th>20</th>\n",
       "      <td>0</td>\n",
       "      <td>0</td>\n",
       "    </tr>\n",
       "    <tr>\n",
       "      <th>21</th>\n",
       "      <td>0</td>\n",
       "      <td>1</td>\n",
       "    </tr>\n",
       "    <tr>\n",
       "      <th>22</th>\n",
       "      <td>0</td>\n",
       "      <td>0</td>\n",
       "    </tr>\n",
       "    <tr>\n",
       "      <th>23</th>\n",
       "      <td>0</td>\n",
       "      <td>0</td>\n",
       "    </tr>\n",
       "    <tr>\n",
       "      <th>24</th>\n",
       "      <td>0</td>\n",
       "      <td>0</td>\n",
       "    </tr>\n",
       "    <tr>\n",
       "      <th>25</th>\n",
       "      <td>0</td>\n",
       "      <td>0</td>\n",
       "    </tr>\n",
       "    <tr>\n",
       "      <th>26</th>\n",
       "      <td>0</td>\n",
       "      <td>1</td>\n",
       "    </tr>\n",
       "    <tr>\n",
       "      <th>27</th>\n",
       "      <td>0</td>\n",
       "      <td>1</td>\n",
       "    </tr>\n",
       "    <tr>\n",
       "      <th>28</th>\n",
       "      <td>0</td>\n",
       "      <td>1</td>\n",
       "    </tr>\n",
       "    <tr>\n",
       "      <th>29</th>\n",
       "      <td>0</td>\n",
       "      <td>1</td>\n",
       "    </tr>\n",
       "  </tbody>\n",
       "</table>\n",
       "</div>"
      ],
      "text/plain": [
       "    2nd  3rd\n",
       "0     0    1\n",
       "1     0    1\n",
       "2     0    1\n",
       "3     0    1\n",
       "4     0    1\n",
       "5     0    1\n",
       "6     1    0\n",
       "7     1    0\n",
       "8     0    1\n",
       "9     0    1\n",
       "10    0    1\n",
       "11    0    1\n",
       "12    0    1\n",
       "13    0    1\n",
       "14    0    1\n",
       "15    1    0\n",
       "16    0    1\n",
       "17    0    1\n",
       "18    0    1\n",
       "19    0    1\n",
       "20    0    0\n",
       "21    0    1\n",
       "22    0    0\n",
       "23    0    0\n",
       "24    0    0\n",
       "25    0    0\n",
       "26    0    1\n",
       "27    0    1\n",
       "28    0    1\n",
       "29    0    1"
      ]
     },
     "execution_count": 45,
     "metadata": {},
     "output_type": "execute_result"
    }
   ],
   "source": [
    "class_dummies_drop_one = pd.get_dummies(df['class'], drop_first = True)\n",
    "\n",
    "class_dummies_drop_one.head(30)"
   ]
  },
  {
   "cell_type": "markdown",
   "id": "round-stationery",
   "metadata": {},
   "source": [
    "Now, you may be wondering how we know if an passenger is `1st` class, given that we do not have a column for this.\n",
    "\n",
    "If both `2nd` and `3rd` equal 0, then that passenger must be `1st` class.\n",
    "\n",
    "This coding scheme still tells us if a passenger is `1st` class - but it does so in virtue of having a 0 in both the `2nd` and `3rd` columns.\n",
    "\n",
    "Let's look at row 24:"
   ]
  },
  {
   "cell_type": "code",
   "execution_count": 46,
   "id": "burning-narrative",
   "metadata": {},
   "outputs": [
    {
     "data": {
      "text/plain": [
       "2nd    0\n",
       "3rd    0\n",
       "Name: 23, dtype: uint8"
      ]
     },
     "execution_count": 46,
     "metadata": {},
     "output_type": "execute_result"
    }
   ],
   "source": [
    "class_dummies_drop_one.iloc[23]"
   ]
  },
  {
   "cell_type": "markdown",
   "id": "respiratory-vector",
   "metadata": {},
   "source": [
    "This passenger is `1st` class.\n",
    "\n",
    "To see how this coding scheme solves the dummy variable trap, let's create a `dummy_sum` column by adding the dummy variables together. Let's also add a column of 1s, for the intercept:"
   ]
  },
  {
   "cell_type": "code",
   "execution_count": 47,
   "id": "medieval-circular",
   "metadata": {},
   "outputs": [
    {
     "data": {
      "text/html": [
       "<div>\n",
       "<style scoped>\n",
       "    .dataframe tbody tr th:only-of-type {\n",
       "        vertical-align: middle;\n",
       "    }\n",
       "\n",
       "    .dataframe tbody tr th {\n",
       "        vertical-align: top;\n",
       "    }\n",
       "\n",
       "    .dataframe thead th {\n",
       "        text-align: right;\n",
       "    }\n",
       "</style>\n",
       "<table border=\"1\" class=\"dataframe\">\n",
       "  <thead>\n",
       "    <tr style=\"text-align: right;\">\n",
       "      <th></th>\n",
       "      <th>const</th>\n",
       "      <th>2nd</th>\n",
       "      <th>3rd</th>\n",
       "      <th>dummy_sum</th>\n",
       "    </tr>\n",
       "  </thead>\n",
       "  <tbody>\n",
       "    <tr>\n",
       "      <th>0</th>\n",
       "      <td>1.0</td>\n",
       "      <td>0</td>\n",
       "      <td>1</td>\n",
       "      <td>1</td>\n",
       "    </tr>\n",
       "    <tr>\n",
       "      <th>1</th>\n",
       "      <td>1.0</td>\n",
       "      <td>0</td>\n",
       "      <td>1</td>\n",
       "      <td>1</td>\n",
       "    </tr>\n",
       "    <tr>\n",
       "      <th>2</th>\n",
       "      <td>1.0</td>\n",
       "      <td>0</td>\n",
       "      <td>1</td>\n",
       "      <td>1</td>\n",
       "    </tr>\n",
       "    <tr>\n",
       "      <th>3</th>\n",
       "      <td>1.0</td>\n",
       "      <td>0</td>\n",
       "      <td>1</td>\n",
       "      <td>1</td>\n",
       "    </tr>\n",
       "    <tr>\n",
       "      <th>4</th>\n",
       "      <td>1.0</td>\n",
       "      <td>0</td>\n",
       "      <td>1</td>\n",
       "      <td>1</td>\n",
       "    </tr>\n",
       "    <tr>\n",
       "      <th>5</th>\n",
       "      <td>1.0</td>\n",
       "      <td>0</td>\n",
       "      <td>1</td>\n",
       "      <td>1</td>\n",
       "    </tr>\n",
       "    <tr>\n",
       "      <th>6</th>\n",
       "      <td>1.0</td>\n",
       "      <td>1</td>\n",
       "      <td>0</td>\n",
       "      <td>1</td>\n",
       "    </tr>\n",
       "    <tr>\n",
       "      <th>7</th>\n",
       "      <td>1.0</td>\n",
       "      <td>1</td>\n",
       "      <td>0</td>\n",
       "      <td>1</td>\n",
       "    </tr>\n",
       "    <tr>\n",
       "      <th>8</th>\n",
       "      <td>1.0</td>\n",
       "      <td>0</td>\n",
       "      <td>1</td>\n",
       "      <td>1</td>\n",
       "    </tr>\n",
       "    <tr>\n",
       "      <th>9</th>\n",
       "      <td>1.0</td>\n",
       "      <td>0</td>\n",
       "      <td>1</td>\n",
       "      <td>1</td>\n",
       "    </tr>\n",
       "    <tr>\n",
       "      <th>10</th>\n",
       "      <td>1.0</td>\n",
       "      <td>0</td>\n",
       "      <td>1</td>\n",
       "      <td>1</td>\n",
       "    </tr>\n",
       "    <tr>\n",
       "      <th>11</th>\n",
       "      <td>1.0</td>\n",
       "      <td>0</td>\n",
       "      <td>1</td>\n",
       "      <td>1</td>\n",
       "    </tr>\n",
       "    <tr>\n",
       "      <th>12</th>\n",
       "      <td>1.0</td>\n",
       "      <td>0</td>\n",
       "      <td>1</td>\n",
       "      <td>1</td>\n",
       "    </tr>\n",
       "    <tr>\n",
       "      <th>13</th>\n",
       "      <td>1.0</td>\n",
       "      <td>0</td>\n",
       "      <td>1</td>\n",
       "      <td>1</td>\n",
       "    </tr>\n",
       "    <tr>\n",
       "      <th>14</th>\n",
       "      <td>1.0</td>\n",
       "      <td>0</td>\n",
       "      <td>1</td>\n",
       "      <td>1</td>\n",
       "    </tr>\n",
       "    <tr>\n",
       "      <th>15</th>\n",
       "      <td>1.0</td>\n",
       "      <td>1</td>\n",
       "      <td>0</td>\n",
       "      <td>1</td>\n",
       "    </tr>\n",
       "    <tr>\n",
       "      <th>16</th>\n",
       "      <td>1.0</td>\n",
       "      <td>0</td>\n",
       "      <td>1</td>\n",
       "      <td>1</td>\n",
       "    </tr>\n",
       "    <tr>\n",
       "      <th>17</th>\n",
       "      <td>1.0</td>\n",
       "      <td>0</td>\n",
       "      <td>1</td>\n",
       "      <td>1</td>\n",
       "    </tr>\n",
       "    <tr>\n",
       "      <th>18</th>\n",
       "      <td>1.0</td>\n",
       "      <td>0</td>\n",
       "      <td>1</td>\n",
       "      <td>1</td>\n",
       "    </tr>\n",
       "    <tr>\n",
       "      <th>19</th>\n",
       "      <td>1.0</td>\n",
       "      <td>0</td>\n",
       "      <td>1</td>\n",
       "      <td>1</td>\n",
       "    </tr>\n",
       "    <tr>\n",
       "      <th>20</th>\n",
       "      <td>1.0</td>\n",
       "      <td>0</td>\n",
       "      <td>0</td>\n",
       "      <td>0</td>\n",
       "    </tr>\n",
       "    <tr>\n",
       "      <th>21</th>\n",
       "      <td>1.0</td>\n",
       "      <td>0</td>\n",
       "      <td>1</td>\n",
       "      <td>1</td>\n",
       "    </tr>\n",
       "    <tr>\n",
       "      <th>22</th>\n",
       "      <td>1.0</td>\n",
       "      <td>0</td>\n",
       "      <td>0</td>\n",
       "      <td>0</td>\n",
       "    </tr>\n",
       "    <tr>\n",
       "      <th>23</th>\n",
       "      <td>1.0</td>\n",
       "      <td>0</td>\n",
       "      <td>0</td>\n",
       "      <td>0</td>\n",
       "    </tr>\n",
       "    <tr>\n",
       "      <th>24</th>\n",
       "      <td>1.0</td>\n",
       "      <td>0</td>\n",
       "      <td>0</td>\n",
       "      <td>0</td>\n",
       "    </tr>\n",
       "    <tr>\n",
       "      <th>25</th>\n",
       "      <td>1.0</td>\n",
       "      <td>0</td>\n",
       "      <td>0</td>\n",
       "      <td>0</td>\n",
       "    </tr>\n",
       "    <tr>\n",
       "      <th>26</th>\n",
       "      <td>1.0</td>\n",
       "      <td>0</td>\n",
       "      <td>1</td>\n",
       "      <td>1</td>\n",
       "    </tr>\n",
       "    <tr>\n",
       "      <th>27</th>\n",
       "      <td>1.0</td>\n",
       "      <td>0</td>\n",
       "      <td>1</td>\n",
       "      <td>1</td>\n",
       "    </tr>\n",
       "    <tr>\n",
       "      <th>28</th>\n",
       "      <td>1.0</td>\n",
       "      <td>0</td>\n",
       "      <td>1</td>\n",
       "      <td>1</td>\n",
       "    </tr>\n",
       "    <tr>\n",
       "      <th>29</th>\n",
       "      <td>1.0</td>\n",
       "      <td>0</td>\n",
       "      <td>1</td>\n",
       "      <td>1</td>\n",
       "    </tr>\n",
       "  </tbody>\n",
       "</table>\n",
       "</div>"
      ],
      "text/plain": [
       "    const  2nd  3rd  dummy_sum\n",
       "0     1.0    0    1          1\n",
       "1     1.0    0    1          1\n",
       "2     1.0    0    1          1\n",
       "3     1.0    0    1          1\n",
       "4     1.0    0    1          1\n",
       "5     1.0    0    1          1\n",
       "6     1.0    1    0          1\n",
       "7     1.0    1    0          1\n",
       "8     1.0    0    1          1\n",
       "9     1.0    0    1          1\n",
       "10    1.0    0    1          1\n",
       "11    1.0    0    1          1\n",
       "12    1.0    0    1          1\n",
       "13    1.0    0    1          1\n",
       "14    1.0    0    1          1\n",
       "15    1.0    1    0          1\n",
       "16    1.0    0    1          1\n",
       "17    1.0    0    1          1\n",
       "18    1.0    0    1          1\n",
       "19    1.0    0    1          1\n",
       "20    1.0    0    0          0\n",
       "21    1.0    0    1          1\n",
       "22    1.0    0    0          0\n",
       "23    1.0    0    0          0\n",
       "24    1.0    0    0          0\n",
       "25    1.0    0    0          0\n",
       "26    1.0    0    1          1\n",
       "27    1.0    0    1          1\n",
       "28    1.0    0    1          1\n",
       "29    1.0    0    1          1"
      ]
     },
     "execution_count": 47,
     "metadata": {},
     "output_type": "execute_result"
    }
   ],
   "source": [
    "# copying the dataframe\n",
    "class_dummies_with_sum = class_dummies_drop_one.copy()\n",
    "\n",
    "# calculating the sum of the dummy variables\n",
    "class_dummies_with_sum['dummy_sum'] = class_dummies_with_sum['2nd'] + class_dummies_with_sum['3rd']\n",
    "\n",
    "# adding an intercept with sm.add_constant()\n",
    "class_dummies_with_sum = sm.add_constant(class_dummies_with_sum )\n",
    "\n",
    "# show the first 30 passengers\n",
    "class_dummies_with_sum.head(30)"
   ]
  },
  {
   "cell_type": "markdown",
   "id": "lined-coordination",
   "metadata": {},
   "source": [
    "Again, this will be clearer if we just look at the `const` column and the `dummy_sum` column:"
   ]
  },
  {
   "cell_type": "code",
   "execution_count": 48,
   "id": "allied-stations",
   "metadata": {},
   "outputs": [
    {
     "data": {
      "text/html": [
       "<div>\n",
       "<style scoped>\n",
       "    .dataframe tbody tr th:only-of-type {\n",
       "        vertical-align: middle;\n",
       "    }\n",
       "\n",
       "    .dataframe tbody tr th {\n",
       "        vertical-align: top;\n",
       "    }\n",
       "\n",
       "    .dataframe thead th {\n",
       "        text-align: right;\n",
       "    }\n",
       "</style>\n",
       "<table border=\"1\" class=\"dataframe\">\n",
       "  <thead>\n",
       "    <tr style=\"text-align: right;\">\n",
       "      <th></th>\n",
       "      <th>const</th>\n",
       "      <th>dummy_sum</th>\n",
       "    </tr>\n",
       "  </thead>\n",
       "  <tbody>\n",
       "    <tr>\n",
       "      <th>0</th>\n",
       "      <td>1.0</td>\n",
       "      <td>1</td>\n",
       "    </tr>\n",
       "    <tr>\n",
       "      <th>1</th>\n",
       "      <td>1.0</td>\n",
       "      <td>1</td>\n",
       "    </tr>\n",
       "    <tr>\n",
       "      <th>2</th>\n",
       "      <td>1.0</td>\n",
       "      <td>1</td>\n",
       "    </tr>\n",
       "    <tr>\n",
       "      <th>3</th>\n",
       "      <td>1.0</td>\n",
       "      <td>1</td>\n",
       "    </tr>\n",
       "    <tr>\n",
       "      <th>4</th>\n",
       "      <td>1.0</td>\n",
       "      <td>1</td>\n",
       "    </tr>\n",
       "    <tr>\n",
       "      <th>5</th>\n",
       "      <td>1.0</td>\n",
       "      <td>1</td>\n",
       "    </tr>\n",
       "    <tr>\n",
       "      <th>6</th>\n",
       "      <td>1.0</td>\n",
       "      <td>1</td>\n",
       "    </tr>\n",
       "    <tr>\n",
       "      <th>7</th>\n",
       "      <td>1.0</td>\n",
       "      <td>1</td>\n",
       "    </tr>\n",
       "    <tr>\n",
       "      <th>8</th>\n",
       "      <td>1.0</td>\n",
       "      <td>1</td>\n",
       "    </tr>\n",
       "    <tr>\n",
       "      <th>9</th>\n",
       "      <td>1.0</td>\n",
       "      <td>1</td>\n",
       "    </tr>\n",
       "    <tr>\n",
       "      <th>10</th>\n",
       "      <td>1.0</td>\n",
       "      <td>1</td>\n",
       "    </tr>\n",
       "    <tr>\n",
       "      <th>11</th>\n",
       "      <td>1.0</td>\n",
       "      <td>1</td>\n",
       "    </tr>\n",
       "    <tr>\n",
       "      <th>12</th>\n",
       "      <td>1.0</td>\n",
       "      <td>1</td>\n",
       "    </tr>\n",
       "    <tr>\n",
       "      <th>13</th>\n",
       "      <td>1.0</td>\n",
       "      <td>1</td>\n",
       "    </tr>\n",
       "    <tr>\n",
       "      <th>14</th>\n",
       "      <td>1.0</td>\n",
       "      <td>1</td>\n",
       "    </tr>\n",
       "    <tr>\n",
       "      <th>15</th>\n",
       "      <td>1.0</td>\n",
       "      <td>1</td>\n",
       "    </tr>\n",
       "    <tr>\n",
       "      <th>16</th>\n",
       "      <td>1.0</td>\n",
       "      <td>1</td>\n",
       "    </tr>\n",
       "    <tr>\n",
       "      <th>17</th>\n",
       "      <td>1.0</td>\n",
       "      <td>1</td>\n",
       "    </tr>\n",
       "    <tr>\n",
       "      <th>18</th>\n",
       "      <td>1.0</td>\n",
       "      <td>1</td>\n",
       "    </tr>\n",
       "    <tr>\n",
       "      <th>19</th>\n",
       "      <td>1.0</td>\n",
       "      <td>1</td>\n",
       "    </tr>\n",
       "    <tr>\n",
       "      <th>20</th>\n",
       "      <td>1.0</td>\n",
       "      <td>0</td>\n",
       "    </tr>\n",
       "    <tr>\n",
       "      <th>21</th>\n",
       "      <td>1.0</td>\n",
       "      <td>1</td>\n",
       "    </tr>\n",
       "    <tr>\n",
       "      <th>22</th>\n",
       "      <td>1.0</td>\n",
       "      <td>0</td>\n",
       "    </tr>\n",
       "    <tr>\n",
       "      <th>23</th>\n",
       "      <td>1.0</td>\n",
       "      <td>0</td>\n",
       "    </tr>\n",
       "    <tr>\n",
       "      <th>24</th>\n",
       "      <td>1.0</td>\n",
       "      <td>0</td>\n",
       "    </tr>\n",
       "    <tr>\n",
       "      <th>25</th>\n",
       "      <td>1.0</td>\n",
       "      <td>0</td>\n",
       "    </tr>\n",
       "    <tr>\n",
       "      <th>26</th>\n",
       "      <td>1.0</td>\n",
       "      <td>1</td>\n",
       "    </tr>\n",
       "    <tr>\n",
       "      <th>27</th>\n",
       "      <td>1.0</td>\n",
       "      <td>1</td>\n",
       "    </tr>\n",
       "    <tr>\n",
       "      <th>28</th>\n",
       "      <td>1.0</td>\n",
       "      <td>1</td>\n",
       "    </tr>\n",
       "    <tr>\n",
       "      <th>29</th>\n",
       "      <td>1.0</td>\n",
       "      <td>1</td>\n",
       "    </tr>\n",
       "  </tbody>\n",
       "</table>\n",
       "</div>"
      ],
      "text/plain": [
       "    const  dummy_sum\n",
       "0     1.0          1\n",
       "1     1.0          1\n",
       "2     1.0          1\n",
       "3     1.0          1\n",
       "4     1.0          1\n",
       "5     1.0          1\n",
       "6     1.0          1\n",
       "7     1.0          1\n",
       "8     1.0          1\n",
       "9     1.0          1\n",
       "10    1.0          1\n",
       "11    1.0          1\n",
       "12    1.0          1\n",
       "13    1.0          1\n",
       "14    1.0          1\n",
       "15    1.0          1\n",
       "16    1.0          1\n",
       "17    1.0          1\n",
       "18    1.0          1\n",
       "19    1.0          1\n",
       "20    1.0          0\n",
       "21    1.0          1\n",
       "22    1.0          0\n",
       "23    1.0          0\n",
       "24    1.0          0\n",
       "25    1.0          0\n",
       "26    1.0          1\n",
       "27    1.0          1\n",
       "28    1.0          1\n",
       "29    1.0          1"
      ]
     },
     "execution_count": 48,
     "metadata": {},
     "output_type": "execute_result"
    }
   ],
   "source": [
    "class_dummies_with_sum[['const', 'dummy_sum']].head(30)"
   ]
  },
  {
   "cell_type": "markdown",
   "id": "appreciated-pottery",
   "metadata": {},
   "source": [
    "Remember, the problem before was that the `const` column (the always-on \"switch\" for the intercept) and the `dummy_sum` always both equalled 1 for every observation.\n",
    "\n",
    "This meant the model could not tell the difference between them, and so could not estimate the parameters correctly.\n",
    "\n",
    "This is the not the case now.\n",
    "\n",
    "There are now some observations where `dummy_sum` equals 0 (e.g. row 22)."
   ]
  },
  {
   "cell_type": "code",
   "execution_count": 49,
   "id": "narrative-referral",
   "metadata": {},
   "outputs": [
    {
     "data": {
      "text/plain": [
       "const        1.0\n",
       "dummy_sum    0.0\n",
       "Name: 23, dtype: float64"
      ]
     },
     "execution_count": 49,
     "metadata": {},
     "output_type": "execute_result"
    }
   ],
   "source": [
    "class_dummies_with_sum[['const', 'dummy_sum']].iloc[23]"
   ]
  },
  {
   "cell_type": "markdown",
   "id": "distributed-lease",
   "metadata": {},
   "source": [
    "This allows us to escape from the dummy variable trap, as the model can tell the difference between the intercept and the dummy variables.\n",
    "\n",
    "Our model is now:\n",
    "\n",
    "&emsp; $ \\text{predicted log odds ratio} = 1 * \\text{intercept} + \\text{slope}_{2nd} * \\text{dummy}_{2nd} + \\text{slope}_{3rd} *  \\text{dummy}_{3rd}\n",
    "$\n",
    "\n",
    "For passenger 0, this is:\n",
    "\n",
    "&emsp; $ \\text{predicted log odds ratio for passenger 0} = 1 * \\text{intercept} + \\text{slope}_{2nd} * 0 + \\text{slope}_{3rd} * 1 \n",
    "$\n",
    "\n",
    "Which boils down to:\n",
    "\n",
    "&emsp; $ \\text{predicted log odds ratio for passenger 0} = 1 * \\text{intercept} + \\text{slope}_{3rd} * 1 \n",
    "$\n",
    "\n",
    "Our original cost function only expected one intercept and one slope. Let's re-write it so that it can accept multiple slopes. Again, read the comments and make sure you understand what each line is doing:"
   ]
  },
  {
   "cell_type": "code",
   "execution_count": 90,
   "id": "respected-venue",
   "metadata": {},
   "outputs": [],
   "source": [
    "def multiple_mll_logit_cost(intercept_and_slopes, predictors, y):\n",
    "    \"\"\" Cost function for maximum log likelihood\n",
    "\n",
    "    Return minus of the log of the likelihood.\n",
    "    \"\"\"\n",
    "    predictors = sm.add_constant(predictors)\n",
    "    \n",
    "    # create an array to store the predicted log odds ratios\n",
    "    predicted_log_odds = np.zeros(len(y))\n",
    "    \n",
    "    # for every observation\n",
    "    for i in np.arange(len(y)):\n",
    "      \n",
    "        # calculate the predicted log odds ratio for that prediction\n",
    "        # the first element of intercept_and_slopes is the intercept\n",
    "        # because we used sm.add_constat() on the predictors dataframe\n",
    "        # the first element of predictors is a column of 1s\n",
    "        # so the first element of intercepts_and_slopes gets multiplied\n",
    "        # by 1, for every observation\n",
    "        predicted_log_odds[i] = np.sum(intercept_and_slopes * predictors.iloc[i])\n",
    "\n",
    "    # convert the log odds ratios to probabilities\n",
    "    pp_of_1 = inv_logit(predicted_log_odds)\n",
    "        \n",
    "    \n",
    "    # Calculate predicted probabilities of actual labels.\n",
    "    pp_of_correct_label = y * pp_of_1 + (1 - y) * (1 - pp_of_1)\n",
    "        \n",
    "    # Use logs to calculate log of the likelihood\n",
    "    log_likelihood = np.sum(np.log(pp_of_correct_label))\n",
    "        \n",
    "    # return the negative log likelihood (which is what we are trying to minimize)\n",
    "    return -log_likelihood"
   ]
  },
  {
   "cell_type": "markdown",
   "id": "diverse-spank",
   "metadata": {},
   "source": [
    "Let's test our function, using first guesses of 0 for the intercept and the two slopes:"
   ]
  },
  {
   "cell_type": "code",
   "execution_count": 91,
   "id": "complex-engagement",
   "metadata": {},
   "outputs": [
    {
     "data": {
      "text/plain": [
       "840.7875300192136"
      ]
     },
     "execution_count": 91,
     "metadata": {},
     "output_type": "execute_result"
    }
   ],
   "source": [
    "multiple_mll_logit_cost([0,0,0], class_dummies_drop_one, df['survived_dummy'])"
   ]
  },
  {
   "cell_type": "markdown",
   "id": "abandoned-hungarian",
   "metadata": {},
   "source": [
    "Let's run a logistic regression, using this new dummy coding scheme:"
   ]
  },
  {
   "cell_type": "code",
   "execution_count": 92,
   "id": "fantastic-study",
   "metadata": {},
   "outputs": [
    {
     "data": {
      "text/plain": [
       "      fun: 751.0558820848566\n",
       " hess_inv: array([[ 0.01170681, -0.00720062, -0.01371508],\n",
       "       [-0.00720062,  0.00817749,  0.01405038],\n",
       "       [-0.01371508,  0.01405038,  0.02698985]])\n",
       "      jac: array([1.52587891e-05, 0.00000000e+00, 1.52587891e-05])\n",
       "  message: 'Desired error not necessarily achieved due to precision loss.'\n",
       "     nfev: 66\n",
       "      nit: 10\n",
       "     njev: 13\n",
       "   status: 2\n",
       "  success: False\n",
       "        x: array([ 0.49491024, -0.7471904 , -1.54681351])"
      ]
     },
     "execution_count": 92,
     "metadata": {},
     "output_type": "execute_result"
    }
   ],
   "source": [
    "drop_one_log_reg = minimize(multiple_mll_logit_cost,  # Cost function\n",
    "                  [0.01, 0.01, 0.01],  # Guessed intercept and slopes\n",
    "                  args=(class_dummies_drop_one, df['survived_dummy']),  # predictors and y values\n",
    "                  tol=1e-5)\n",
    "# Show the result.\n",
    "drop_one_log_reg"
   ]
  },
  {
   "cell_type": "markdown",
   "id": "broadband-athens",
   "metadata": {},
   "source": [
    "Again, let's store these parameter estimates in separate variables:"
   ]
  },
  {
   "cell_type": "code",
   "execution_count": 93,
   "id": "pleased-lebanon",
   "metadata": {},
   "outputs": [],
   "source": [
    "intercept_drop_one = drop_one_log_reg.x[0]\n",
    "\n",
    "slope_2nd_drop_one = drop_one_log_reg.x[1]\n",
    "\n",
    "slope_3rd_drop_one = drop_one_log_reg.x[2]"
   ]
  },
  {
   "cell_type": "markdown",
   "id": "cardiac-piano",
   "metadata": {},
   "source": [
    "And compare them to the parameters estimates found by Statsmodels:"
   ]
  },
  {
   "cell_type": "code",
   "execution_count": 94,
   "id": "contained-grounds",
   "metadata": {},
   "outputs": [
    {
     "name": "stdout",
     "output_type": "stream",
     "text": [
      "Optimization terminated successfully.\n",
      "         Current function value: 0.619172\n",
      "         Iterations 5\n"
     ]
    },
    {
     "data": {
      "text/html": [
       "<table class=\"simpletable\">\n",
       "<caption>Logit Regression Results</caption>\n",
       "<tr>\n",
       "  <th>Dep. Variable:</th>    <td>survived_dummy</td>  <th>  No. Observations:  </th>  <td>  1213</td>  \n",
       "</tr>\n",
       "<tr>\n",
       "  <th>Model:</th>                 <td>Logit</td>      <th>  Df Residuals:      </th>  <td>  1210</td>  \n",
       "</tr>\n",
       "<tr>\n",
       "  <th>Method:</th>                 <td>MLE</td>       <th>  Df Model:          </th>  <td>     2</td>  \n",
       "</tr>\n",
       "<tr>\n",
       "  <th>Date:</th>            <td>Thu, 15 Apr 2021</td> <th>  Pseudo R-squ.:     </th>  <td>0.07254</td> \n",
       "</tr>\n",
       "<tr>\n",
       "  <th>Time:</th>                <td>21:37:49</td>     <th>  Log-Likelihood:    </th> <td> -751.06</td> \n",
       "</tr>\n",
       "<tr>\n",
       "  <th>converged:</th>             <td>True</td>       <th>  LL-Null:           </th> <td> -809.80</td> \n",
       "</tr>\n",
       "<tr>\n",
       "  <th>Covariance Type:</th>     <td>nonrobust</td>    <th>  LLR p-value:       </th> <td>3.069e-26</td>\n",
       "</tr>\n",
       "</table>\n",
       "<table class=\"simpletable\">\n",
       "<tr>\n",
       "    <td></td>       <th>coef</th>     <th>std err</th>      <th>z</th>      <th>P>|z|</th>  <th>[0.025</th>    <th>0.975]</th>  \n",
       "</tr>\n",
       "<tr>\n",
       "  <th>const</th> <td>    0.4949</td> <td>    0.119</td> <td>    4.165</td> <td> 0.000</td> <td>    0.262</td> <td>    0.728</td>\n",
       "</tr>\n",
       "<tr>\n",
       "  <th>2nd</th>   <td>   -0.7472</td> <td>    0.172</td> <td>   -4.345</td> <td> 0.000</td> <td>   -1.084</td> <td>   -0.410</td>\n",
       "</tr>\n",
       "<tr>\n",
       "  <th>3rd</th>   <td>   -1.5468</td> <td>    0.149</td> <td>  -10.393</td> <td> 0.000</td> <td>   -1.839</td> <td>   -1.255</td>\n",
       "</tr>\n",
       "</table>"
      ],
      "text/plain": [
       "<class 'statsmodels.iolib.summary.Summary'>\n",
       "\"\"\"\n",
       "                           Logit Regression Results                           \n",
       "==============================================================================\n",
       "Dep. Variable:         survived_dummy   No. Observations:                 1213\n",
       "Model:                          Logit   Df Residuals:                     1210\n",
       "Method:                           MLE   Df Model:                            2\n",
       "Date:                Thu, 15 Apr 2021   Pseudo R-squ.:                 0.07254\n",
       "Time:                        21:37:49   Log-Likelihood:                -751.06\n",
       "converged:                       True   LL-Null:                       -809.80\n",
       "Covariance Type:            nonrobust   LLR p-value:                 3.069e-26\n",
       "==============================================================================\n",
       "                 coef    std err          z      P>|z|      [0.025      0.975]\n",
       "------------------------------------------------------------------------------\n",
       "const          0.4949      0.119      4.165      0.000       0.262       0.728\n",
       "2nd           -0.7472      0.172     -4.345      0.000      -1.084      -0.410\n",
       "3rd           -1.5468      0.149    -10.393      0.000      -1.839      -1.255\n",
       "==============================================================================\n",
       "\"\"\""
      ]
     },
     "metadata": {},
     "output_type": "display_data"
    },
    {
     "name": "stdout",
     "output_type": "stream",
     "text": [
      "Intercept (const) from minimize =  0.4949102442189479\n",
      "2nd class slope from minimize =  -0.7471904038427504\n",
      "3rd class slope from minimize =  -1.5468135144676147\n"
     ]
    }
   ],
   "source": [
    "# create the model\n",
    "sm_model_drop_one = sm.Logit(df['survived_dummy'], sm.add_constant(class_dummies_drop_one))\n",
    "\n",
    "# fit the model\n",
    "sm_model_drop_one  = sm_model_drop_one.fit()\n",
    "\n",
    "# show the model summary\n",
    "display(sm_model_drop_one.summary())\n",
    "\n",
    "print('Intercept (const) from minimize = ', intercept_drop_one)\n",
    "print('2nd class slope from minimize = ', slope_2nd_drop_one)\n",
    "print('3rd class slope from minimize = ', slope_3rd_drop_one)"
   ]
  },
  {
   "cell_type": "markdown",
   "id": "marine-mountain",
   "metadata": {},
   "source": [
    "Let's compare these to the parameter estimates we got from using the first method (with no intercept):"
   ]
  },
  {
   "cell_type": "code",
   "execution_count": 95,
   "id": "medium-burden",
   "metadata": {},
   "outputs": [
    {
     "data": {
      "text/plain": [
       "array([ 0.49491019, -0.25228012, -1.05190335])"
      ]
     },
     "execution_count": 95,
     "metadata": {},
     "output_type": "execute_result"
    }
   ],
   "source": [
    "one_hot_log_reg.x"
   ]
  },
  {
   "cell_type": "markdown",
   "id": "crucial-berry",
   "metadata": {},
   "source": [
    "The parameter estimates we got from the first method (no intercept, one-hot dummy coding) are slightly different to those we got from the second method (include an intercept, but drop a dummy variable).\n",
    "\n",
    "Is something wrong here? No, it is just that the parameter estimates now represent slightly different things.\n",
    "\n",
    "You can see that the first parameter estimate is the same for both methods: 0.4949. In both cases, this value is the predicted log odds ratio of surivival for `1st` class passengers.\n",
    "\n",
    "In the model where we have dropped one of the dummy variables, the intercept now represents the category that the dropped dummy variable represented. This makes sense - we have two categorical predictors in the model, and the intercept tells us the predicted log odds ratio when both these predictors == 0. \n",
    "\n",
    "If both the predictors (`2nd` and `3rd` class) == 0 for an observation, this means that obervations was for a `1st` class passenger. So the intercept now represents the predicted log odds ratio for `1st` class passengers. This is why the value of the intercept is the same as the slope for `1st` class in the 'no intercept' model: 0.4949.\n",
    "\n",
    "In the model with the intercept, the slope for `2nd` class, and the slope for `3rd` class, now tell us how different the log odds ratio was for those classes *relative to `1st` class*. `1st` class is the *reference category* against which we compare the other classes.\n",
    "\n",
    "We can see this, because if we add the slopes from the model with the intercept to the value for the intercept, it will give us the same slopes as the 'no intercept' model:"
   ]
  },
  {
   "cell_type": "code",
   "execution_count": 56,
   "id": "shared-header",
   "metadata": {},
   "outputs": [
    {
     "data": {
      "text/plain": [
       "-0.25228015962380246"
      ]
     },
     "execution_count": 56,
     "metadata": {},
     "output_type": "execute_result"
    }
   ],
   "source": [
    "intercept_drop_one + slope_2nd_drop_one"
   ]
  },
  {
   "cell_type": "code",
   "execution_count": 57,
   "id": "electrical-director",
   "metadata": {},
   "outputs": [
    {
     "data": {
      "text/plain": [
       "-1.0519032702486668"
      ]
     },
     "execution_count": 57,
     "metadata": {},
     "output_type": "execute_result"
    }
   ],
   "source": [
    "intercept_drop_one + slope_3rd_drop_one"
   ]
  },
  {
   "cell_type": "markdown",
   "id": "announced-halifax",
   "metadata": {},
   "source": [
    "Again, we can raise `e` to the power of the intercept and slopes, to transfrom them into odds ratios:"
   ]
  },
  {
   "cell_type": "code",
   "execution_count": 58,
   "id": "assigned-diesel",
   "metadata": {},
   "outputs": [
    {
     "name": "stdout",
     "output_type": "stream",
     "text": [
      "Odds ratio for 1st class (drop one model) = 1.6403510014640943\n",
      "Odds ratio for 2nd class (drop one model)  = 0.7770270159754203\n",
      "Odds ratio for 3rd class (drop one model)  = 0.3492723564163085\n"
     ]
    }
   ],
   "source": [
    "print('Odds ratio for 1st class (drop one model) =', np.exp(intercept_drop_one))\n",
    "print('Odds ratio for 2nd class (drop one model)  =', np.exp(intercept_drop_one + slope_2nd_drop_one))\n",
    "print('Odds ratio for 3rd class (drop one model)  =', np.exp(intercept_drop_one + slope_3rd_drop_one))"
   ]
  },
  {
   "cell_type": "markdown",
   "id": "korean-connectivity",
   "metadata": {},
   "source": [
    "These are the same odds ratios we get from using the one-hot dummy coding method:"
   ]
  },
  {
   "cell_type": "code",
   "execution_count": 59,
   "id": "hidden-scanning",
   "metadata": {},
   "outputs": [
    {
     "name": "stdout",
     "output_type": "stream",
     "text": [
      "Odds ratio for 1st class (one-hot model) = 1.6403509066983213\n",
      "Odds ratio for 2nd class (one-hot model) = 0.7770270431808834\n",
      "Odds ratio for 3rd class (one-hot model) = 0.34927232811859976\n"
     ]
    }
   ],
   "source": [
    "print('Odds ratio for 1st class (one-hot model) =', np.exp(slope_1st_class_one_hot))\n",
    "print('Odds ratio for 2nd class (one-hot model) =' , np.exp(slope_2nd_class_one_hot))\n",
    "print('Odds ratio for 3rd class (one-hot model) =', np.exp(slope_3rd_class_one_hot))"
   ]
  },
  {
   "cell_type": "markdown",
   "id": "remarkable-booking",
   "metadata": {},
   "source": [
    "The interpretation of these odds ratios is the same for both methods: greater than 1 means the surviving was more likely than dying in that class. Less than one means suriviving was less likely than dying in that class."
   ]
  },
  {
   "cell_type": "markdown",
   "id": "otherwise-tradition",
   "metadata": {},
   "source": [
    "# Testing multiple slopes\n",
    "\n",
    "If we want to get p-values for our coefficients from minimize, we can use a method very similar to the one shown earlier.\n",
    "\n",
    "We shuffle the outcome variable dummy codes, to randomize the association between the predictors and the outcome. We then perform a logistic regression on the shuffled data.\n",
    "\n",
    "We then compare the intercept/slopes we got from the actual data to the intercept/slopes we got in the simulation:"
   ]
  },
  {
   "cell_type": "code",
   "execution_count": 60,
   "id": "eight-motor",
   "metadata": {},
   "outputs": [],
   "source": [
    "def test_slopes(predictor_vars, n_iters):\n",
    "      \n",
    "    # create an array for the fake slopes (n_iters rows, number of columns = number of predictors + 1 for the intercept)\n",
    "    fake_params =  np.zeros([n_iters, len(predictor_vars.columns)+1])\n",
    "\n",
    "    # count the number of parameters (number of predictors + 1 for the intercept)\n",
    "    number_of_parameters = len(predictor_vars.columns) + 1\n",
    "    \n",
    "\n",
    "    # for each iteration\n",
    "    for itr in np.arange(n_iters):\n",
    "      \n",
    "    # adding some progress printouts, as this is a slow function\n",
    "        if itr == int(0.01 * n_iters):\n",
    "            print('1% done')\n",
    "        if itr == int(0.05 * n_iters):\n",
    "            print('5% done')\n",
    "        if itr == int(0.1 * n_iters):\n",
    "            print('10% done')\n",
    "        if itr == int(1/4 * n_iters):\n",
    "            print('25% done')\n",
    "        if itr == int(2/4 * n_iters):\n",
    "            print('50% done')\n",
    "        if itr == int(3/4 * n_iters):\n",
    "            print('75% done')\n",
    "        if itr == int(0.9 * n_iters):\n",
    "            print('90% done')\n",
    "            \n",
    "        # copy the survived dummy codes\n",
    "        fake_survive_dummy = df['survived_dummy'].copy()\n",
    "        \n",
    "        # shuffled the survived dummy codes\n",
    "        fake_survive_dummy  = np.random.permutation(fake_survive_dummy)\n",
    "        \n",
    "        # perform a logistic regression with the shuffled data\n",
    "        sim_log_reg = minimize(multiple_mll_logit_cost,  # Cost function\n",
    "                      [np.repeat(0.1, number_of_parameters)],  # Guessed intercept and slopes\n",
    "                      args=(predictor_vars, fake_survive_dummy),  # predictors and y values\n",
    "                      tol=1e-5)\n",
    "        \n",
    "        # store the fake parameters \n",
    "        fake_params[itr] = sim_log_reg.x\n",
    "          \n",
    "    # show that the function has finished running\n",
    "    print('100% done')\n",
    "    \n",
    "    return fake_params\n"
   ]
  },
  {
   "cell_type": "markdown",
   "id": "female-capability",
   "metadata": {},
   "source": [
    "Let's use our function to test the significance of the intercept and slope from minimize, in the model where we fitted an intercept and dropped one dummy variable:\n",
    "\n",
    "*Note: this function will only work if we are fitting an intercept, as the number of parameters will be wrong if we are using one-hot coding, we would need a different function.*"
   ]
  },
  {
   "cell_type": "code",
   "execution_count": 61,
   "id": "neural-lightning",
   "metadata": {},
   "outputs": [
    {
     "name": "stdout",
     "output_type": "stream",
     "text": [
      "1% done\n",
      "5% done\n",
      "10% done\n",
      "25% done\n",
      "50% done\n",
      "75% done\n",
      "90% done\n",
      "100% done\n"
     ]
    }
   ],
   "source": [
    "# keep the iterations low\n",
    "n_iters = 50\n",
    "\n",
    "fake_params = test_slopes(class_dummies_drop_one, n_iters)    "
   ]
  },
  {
   "cell_type": "code",
   "execution_count": 62,
   "id": "identical-regression",
   "metadata": {},
   "outputs": [
    {
     "data": {
      "text/html": [
       "<div>\n",
       "<style scoped>\n",
       "    .dataframe tbody tr th:only-of-type {\n",
       "        vertical-align: middle;\n",
       "    }\n",
       "\n",
       "    .dataframe tbody tr th {\n",
       "        vertical-align: top;\n",
       "    }\n",
       "\n",
       "    .dataframe thead th {\n",
       "        text-align: right;\n",
       "    }\n",
       "</style>\n",
       "<table border=\"1\" class=\"dataframe\">\n",
       "  <thead>\n",
       "    <tr style=\"text-align: right;\">\n",
       "      <th></th>\n",
       "      <th>intercept</th>\n",
       "      <th>class_2nd</th>\n",
       "      <th>class_3rd</th>\n",
       "    </tr>\n",
       "  </thead>\n",
       "  <tbody>\n",
       "    <tr>\n",
       "      <th>0</th>\n",
       "      <td>-0.638813</td>\n",
       "      <td>0.230178</td>\n",
       "      <td>0.242328</td>\n",
       "    </tr>\n",
       "    <tr>\n",
       "      <th>1</th>\n",
       "      <td>-0.609561</td>\n",
       "      <td>0.153129</td>\n",
       "      <td>0.219480</td>\n",
       "    </tr>\n",
       "    <tr>\n",
       "      <th>2</th>\n",
       "      <td>-0.480814</td>\n",
       "      <td>-0.223761</td>\n",
       "      <td>0.129002</td>\n",
       "    </tr>\n",
       "    <tr>\n",
       "      <th>3</th>\n",
       "      <td>-0.452762</td>\n",
       "      <td>0.138411</td>\n",
       "      <td>-0.067114</td>\n",
       "    </tr>\n",
       "    <tr>\n",
       "      <th>4</th>\n",
       "      <td>-0.452762</td>\n",
       "      <td>0.028249</td>\n",
       "      <td>-0.021250</td>\n",
       "    </tr>\n",
       "  </tbody>\n",
       "</table>\n",
       "</div>"
      ],
      "text/plain": [
       "   intercept  class_2nd  class_3rd\n",
       "0  -0.638813   0.230178   0.242328\n",
       "1  -0.609561   0.153129   0.219480\n",
       "2  -0.480814  -0.223761   0.129002\n",
       "3  -0.452762   0.138411  -0.067114\n",
       "4  -0.452762   0.028249  -0.021250"
      ]
     },
     "execution_count": 62,
     "metadata": {},
     "output_type": "execute_result"
    }
   ],
   "source": [
    "# create a dataframe to store the simulation results\n",
    "fake_params_df = pd.DataFrame(fake_params)\n",
    "\n",
    "# name the columns of the simulation dataframe\n",
    "fake_params_df.columns = ['intercept', 'class_2nd', 'class_3rd']\n",
    "\n",
    "fake_params_df.head()"
   ]
  },
  {
   "cell_type": "markdown",
   "id": "extra-palace",
   "metadata": {},
   "source": [
    "Now let's plot the actual coefficients (intercept and slopes) against the simulated ones.\n",
    "\n",
    "We calculate the p-values in the same way as before, by using `np.count_nonzero()` to count the number of simulated coefficicents which were as extreme, or more extreme that the actual coefficient. We then divide by the number of simulated coefficients, to get the p-value:"
   ]
  },
  {
   "cell_type": "code",
   "execution_count": 63,
   "id": "spatial-praise",
   "metadata": {},
   "outputs": [
    {
     "data": {
      "image/png": "[encoded data removed]",
      "text/plain": [
       "<Figure size 432x288 with 1 Axes>"
      ]
     },
     "metadata": {},
     "output_type": "display_data"
    },
    {
     "name": "stdout",
     "output_type": "stream",
     "text": [
      "p =  0.0\n"
     ]
    }
   ],
   "source": [
    "# plot the simulated sampling distribution of the intercept\n",
    "plt.figure()\n",
    "plt.hist(fake_params_df['intercept'], label = 'simulated intercepts')\n",
    "plt.plot(intercept_drop_one, 0.1, 'o', color = 'red')\n",
    "plt.ylabel('Frequency')\n",
    "plt.xlabel('Intercept')\n",
    "plt.legend()\n",
    "plt.show()\n",
    "\n",
    "# calculate the p-value for the intercept\n",
    "p_value_inter = np.count_nonzero(fake_params_df['intercept'] >= np.abs(intercept_drop_one))/len(fake_params_df['intercept'])\n",
    "print('p = ', p_value_inter)"
   ]
  },
  {
   "cell_type": "code",
   "execution_count": 64,
   "id": "metropolitan-louisiana",
   "metadata": {},
   "outputs": [
    {
     "data": {
      "image/png": "[encoded data removed]",
      "text/plain": [
       "<Figure size 432x288 with 1 Axes>"
      ]
     },
     "metadata": {},
     "output_type": "display_data"
    },
    {
     "name": "stdout",
     "output_type": "stream",
     "text": [
      "p =  0.0\n"
     ]
    }
   ],
   "source": [
    "# plot the simulated sampling distribution of the slope for 2nd class\n",
    "plt.figure()\n",
    "plt.hist(fake_params_df['class_2nd'], label = 'simulated 2nd class slopes')\n",
    "plt.plot(slope_2nd_drop_one, 0.1, 'o', color = 'red')\n",
    "plt.ylabel('Frequency')\n",
    "plt.xlabel('2nd Class Slope')\n",
    "plt.legend()\n",
    "plt.show();\n",
    "\n",
    "# calculate the p-value for the 2nd class slope\n",
    "p_value_2nd_class = np.count_nonzero(fake_params_df['class_2nd'] >= np.abs(slope_2nd_drop_one))/len(fake_params_df['class_2nd'])\n",
    "print('p = ', p_value_2nd_class)"
   ]
  },
  {
   "cell_type": "code",
   "execution_count": 65,
   "id": "after-consent",
   "metadata": {},
   "outputs": [
    {
     "data": {
      "image/png": "[encoded data removed]",
      "text/plain": [
       "<Figure size 432x288 with 1 Axes>"
      ]
     },
     "metadata": {},
     "output_type": "display_data"
    },
    {
     "name": "stdout",
     "output_type": "stream",
     "text": [
      "p =  0.0\n"
     ]
    }
   ],
   "source": [
    "# plot the simulated sampling distribution of the slope for 3rd class\n",
    "plt.figure()\n",
    "plt.hist(fake_params_df['class_3rd'], label = 'simulated 3rd class slopes')\n",
    "plt.plot(slope_3rd_drop_one, 0.1, 'o', color = 'red')\n",
    "plt.ylabel('Frequency')\n",
    "plt.xlabel('3rd Class Slope')\n",
    "plt.legend()\n",
    "plt.show();\n",
    "\n",
    "# calculate the p-value for the 3rd class slope\n",
    "p_value_2nd_class = np.count_nonzero(fake_params_df['class_3rd'] >= np.abs(slope_3rd_drop_one))/len(fake_params_df['class_3rd'])\n",
    "print('p = ', p_value_2nd_class)"
   ]
  },
  {
   "cell_type": "markdown",
   "id": "threatened-virtue",
   "metadata": {},
   "source": [
    "## Logistic Regression with Multiple Predictors\n",
    "\n",
    "Now that we have seen how to perform logistic regression with a categorical predictor, we have the tools to perform it with multiple predictors.\n",
    "\n",
    "Using the 'one-hot' and 'drop one dummy' coding methods, we have effectively already used multiple predictors. Now we will predict `survived` with a mix of numerical and categorical predictors: `gender`, `age`, `class` and `fare`."
   ]
  },
  {
   "cell_type": "code",
   "execution_count": 66,
   "id": "major-disco",
   "metadata": {},
   "outputs": [
    {
     "data": {
      "text/html": [
       "<div>\n",
       "<style scoped>\n",
       "    .dataframe tbody tr th:only-of-type {\n",
       "        vertical-align: middle;\n",
       "    }\n",
       "\n",
       "    .dataframe tbody tr th {\n",
       "        vertical-align: top;\n",
       "    }\n",
       "\n",
       "    .dataframe thead th {\n",
       "        text-align: right;\n",
       "    }\n",
       "</style>\n",
       "<table border=\"1\" class=\"dataframe\">\n",
       "  <thead>\n",
       "    <tr style=\"text-align: right;\">\n",
       "      <th></th>\n",
       "      <th>gender</th>\n",
       "      <th>age</th>\n",
       "      <th>class</th>\n",
       "      <th>fare</th>\n",
       "    </tr>\n",
       "  </thead>\n",
       "  <tbody>\n",
       "    <tr>\n",
       "      <th>0</th>\n",
       "      <td>male</td>\n",
       "      <td>42.0</td>\n",
       "      <td>3rd</td>\n",
       "      <td>7.11</td>\n",
       "    </tr>\n",
       "    <tr>\n",
       "      <th>1</th>\n",
       "      <td>male</td>\n",
       "      <td>13.0</td>\n",
       "      <td>3rd</td>\n",
       "      <td>20.05</td>\n",
       "    </tr>\n",
       "    <tr>\n",
       "      <th>2</th>\n",
       "      <td>male</td>\n",
       "      <td>16.0</td>\n",
       "      <td>3rd</td>\n",
       "      <td>20.05</td>\n",
       "    </tr>\n",
       "    <tr>\n",
       "      <th>3</th>\n",
       "      <td>female</td>\n",
       "      <td>39.0</td>\n",
       "      <td>3rd</td>\n",
       "      <td>20.05</td>\n",
       "    </tr>\n",
       "    <tr>\n",
       "      <th>4</th>\n",
       "      <td>female</td>\n",
       "      <td>16.0</td>\n",
       "      <td>3rd</td>\n",
       "      <td>7.13</td>\n",
       "    </tr>\n",
       "  </tbody>\n",
       "</table>\n",
       "</div>"
      ],
      "text/plain": [
       "   gender   age class   fare\n",
       "0    male  42.0   3rd   7.11\n",
       "1    male  13.0   3rd  20.05\n",
       "2    male  16.0   3rd  20.05\n",
       "3  female  39.0   3rd  20.05\n",
       "4  female  16.0   3rd   7.13"
      ]
     },
     "execution_count": 66,
     "metadata": {},
     "output_type": "execute_result"
    }
   ],
   "source": [
    "predictors_2 = df[['gender', 'age', 'class', 'fare']].copy()\n",
    "\n",
    "predictors_2.head()"
   ]
  },
  {
   "cell_type": "markdown",
   "id": "difficult-intervention",
   "metadata": {},
   "source": [
    "We will use the \"drop\" coding method for the predictors (it is safer with respect to the dummy variable trap, if you are using several predictors). This means we must give `pd.get_dummies()` the argument `drop_first = True`."
   ]
  },
  {
   "cell_type": "code",
   "execution_count": 67,
   "id": "classical-anger",
   "metadata": {},
   "outputs": [
    {
     "data": {
      "text/html": [
       "<div>\n",
       "<style scoped>\n",
       "    .dataframe tbody tr th:only-of-type {\n",
       "        vertical-align: middle;\n",
       "    }\n",
       "\n",
       "    .dataframe tbody tr th {\n",
       "        vertical-align: top;\n",
       "    }\n",
       "\n",
       "    .dataframe thead th {\n",
       "        text-align: right;\n",
       "    }\n",
       "</style>\n",
       "<table border=\"1\" class=\"dataframe\">\n",
       "  <thead>\n",
       "    <tr style=\"text-align: right;\">\n",
       "      <th></th>\n",
       "      <th>age</th>\n",
       "      <th>fare</th>\n",
       "      <th>gender_male</th>\n",
       "      <th>class_2nd</th>\n",
       "      <th>class_3rd</th>\n",
       "    </tr>\n",
       "  </thead>\n",
       "  <tbody>\n",
       "    <tr>\n",
       "      <th>0</th>\n",
       "      <td>42.0</td>\n",
       "      <td>7.11</td>\n",
       "      <td>1</td>\n",
       "      <td>0</td>\n",
       "      <td>1</td>\n",
       "    </tr>\n",
       "    <tr>\n",
       "      <th>1</th>\n",
       "      <td>13.0</td>\n",
       "      <td>20.05</td>\n",
       "      <td>1</td>\n",
       "      <td>0</td>\n",
       "      <td>1</td>\n",
       "    </tr>\n",
       "    <tr>\n",
       "      <th>2</th>\n",
       "      <td>16.0</td>\n",
       "      <td>20.05</td>\n",
       "      <td>1</td>\n",
       "      <td>0</td>\n",
       "      <td>1</td>\n",
       "    </tr>\n",
       "    <tr>\n",
       "      <th>3</th>\n",
       "      <td>39.0</td>\n",
       "      <td>20.05</td>\n",
       "      <td>0</td>\n",
       "      <td>0</td>\n",
       "      <td>1</td>\n",
       "    </tr>\n",
       "    <tr>\n",
       "      <th>4</th>\n",
       "      <td>16.0</td>\n",
       "      <td>7.13</td>\n",
       "      <td>0</td>\n",
       "      <td>0</td>\n",
       "      <td>1</td>\n",
       "    </tr>\n",
       "  </tbody>\n",
       "</table>\n",
       "</div>"
      ],
      "text/plain": [
       "    age   fare  gender_male  class_2nd  class_3rd\n",
       "0  42.0   7.11            1          0          1\n",
       "1  13.0  20.05            1          0          1\n",
       "2  16.0  20.05            1          0          1\n",
       "3  39.0  20.05            0          0          1\n",
       "4  16.0   7.13            0          0          1"
      ]
     },
     "execution_count": 67,
     "metadata": {},
     "output_type": "execute_result"
    }
   ],
   "source": [
    "predictors_2 = pd.get_dummies(predictors_2, drop_first = True)\n",
    "predictors_2.head()"
   ]
  },
  {
   "cell_type": "markdown",
   "id": "suspected-lecture",
   "metadata": {},
   "source": [
    "We can see that we have one variable for gender, pandas helpfully tells us what the 1 in this column represents. The dummy column is named `gender_male` meaning that 1 means the passenger was male. \n",
    "\n",
    "For `class_2nd` each passenger has a 1 if they were `2nd` class, and a 0 otherwise. For `class_3rd` each passenger has a 1 if they were `3rd` class, and a 0 otherwise. \n",
    "\n",
    "We already modified our cost function to accept multiple predictors, so now we just need to give it one initial guess for each predictor slope, and one extra guess (at index 0) for the intercept:"
   ]
  },
  {
   "cell_type": "code",
   "execution_count": 68,
   "id": "cellular-sound",
   "metadata": {},
   "outputs": [
    {
     "data": {
      "text/plain": [
       "4237.038057809044"
      ]
     },
     "execution_count": 68,
     "metadata": {},
     "output_type": "execute_result"
    }
   ],
   "source": [
    "# testing our cost function with 5 predictors and 1 intercept\n",
    "multiple_mll_logit_cost([0.1, 0.1, 0.1, 0.1, 0.1, 0.1,], predictors_2, df['survived_dummy'])"
   ]
  },
  {
   "cell_type": "markdown",
   "id": "present-optimization",
   "metadata": {},
   "source": [
    "Let's run the logistic regression and show the results:"
   ]
  },
  {
   "cell_type": "code",
   "execution_count": 69,
   "id": "vietnamese-swaziland",
   "metadata": {},
   "outputs": [
    {
     "name": "stderr",
     "output_type": "stream",
     "text": [
      "C:\\ProgramData\\Anaconda3\\lib\\site-packages\\pandas\\core\\arraylike.py:358: RuntimeWarning: divide by zero encountered in log\n",
      "  result = getattr(ufunc, method)(*inputs, **kwargs)\n",
      "C:\\Users\\peter\\AppData\\Roaming\\Python\\Python37\\site-packages\\scipy\\optimize\\optimize.py:697: RuntimeWarning: invalid value encountered in double_scalars\n",
      "  df = (f(*((xk + d,) + args)) - f0) / d[k]\n",
      "C:\\ProgramData\\Anaconda3\\lib\\site-packages\\pandas\\core\\arraylike.py:358: RuntimeWarning: divide by zero encountered in log\n",
      "  result = getattr(ufunc, method)(*inputs, **kwargs)\n"
     ]
    },
    {
     "data": {
      "text/plain": [
       "      fun: 559.302948694585\n",
       " hess_inv: array([[ 7.78324779e-02, -2.00421193e-04, -2.74150403e-04,\n",
       "        -3.88269921e-02, -4.12108703e-02, -7.76314124e-02],\n",
       "       [-2.00421193e-04,  2.27044413e-05, -1.76937421e-06,\n",
       "        -8.56843398e-04,  1.42750720e-04,  1.77712672e-04],\n",
       "       [-2.74150403e-04, -1.76937421e-06,  3.60483905e-06,\n",
       "         8.77912017e-05,  1.91802882e-04,  2.75918523e-04],\n",
       "       [-3.88269921e-02, -8.56843398e-04,  8.77912017e-05,\n",
       "         9.78080985e-02, -2.79352736e-03,  3.96832857e-02],\n",
       "       [-4.12108703e-02,  1.42750720e-04,  1.91802882e-04,\n",
       "        -2.79352736e-03,  5.96327139e-02,  4.10679826e-02],\n",
       "       [-7.76314124e-02,  1.77712672e-04,  2.75918523e-04,\n",
       "         3.96832857e-02,  4.10679826e-02,  7.74534002e-02]])\n",
       "      jac: array([7.62939453e-06, 2.28881836e-05, 4.57763672e-05, 7.62939453e-06,\n",
       "       0.00000000e+00, 7.62939453e-06])\n",
       "  message: 'Desired error not necessarily achieved due to precision loss.'\n",
       "     nfev: 229\n",
       "      nit: 18\n",
       "     njev: 28\n",
       "   status: 2\n",
       "  success: False\n",
       "        x: array([ 3.98002064e+00, -3.95091757e-02, -2.33428489e-03, -2.58968059e+00,\n",
       "       -1.45501564e+00, -2.60764803e+00])"
      ]
     },
     "execution_count": 69,
     "metadata": {},
     "output_type": "execute_result"
    }
   ],
   "source": [
    "multi_log_reg = minimize(multiple_mll_logit_cost,  # Cost function\n",
    "                  [.1, .1,.1,.1,.1,.1,],  # Guessed intercept and slopes\n",
    "                  args=(predictors_2, df['survived_dummy']),  # predictors and y values\n",
    "                  tol=1e-5)\n",
    "# Show the result.\n",
    "multi_log_reg"
   ]
  },
  {
   "cell_type": "markdown",
   "id": "attached-blast",
   "metadata": {},
   "source": [
    "Let's store the intercept and slope in separate python variables:"
   ]
  },
  {
   "cell_type": "code",
   "execution_count": 70,
   "id": "noticed-guarantee",
   "metadata": {},
   "outputs": [],
   "source": [
    "intercept = multi_log_reg.x[0]\n",
    "slopes = multi_log_reg.x[1:]"
   ]
  },
  {
   "cell_type": "markdown",
   "id": "sought-behavior",
   "metadata": {},
   "source": [
    "Again, let's compare these to slopes obtained from Statsmodels:"
   ]
  },
  {
   "cell_type": "code",
   "execution_count": 71,
   "id": "necessary-fortune",
   "metadata": {},
   "outputs": [
    {
     "name": "stdout",
     "output_type": "stream",
     "text": [
      "Optimization terminated successfully.\n",
      "         Current function value: 0.461091\n",
      "         Iterations 6\n"
     ]
    },
    {
     "data": {
      "text/html": [
       "<table class=\"simpletable\">\n",
       "<caption>Logit Regression Results</caption>\n",
       "<tr>\n",
       "  <th>Dep. Variable:</th>    <td>survived_dummy</td>  <th>  No. Observations:  </th>   <td>  1213</td>  \n",
       "</tr>\n",
       "<tr>\n",
       "  <th>Model:</th>                 <td>Logit</td>      <th>  Df Residuals:      </th>   <td>  1207</td>  \n",
       "</tr>\n",
       "<tr>\n",
       "  <th>Method:</th>                 <td>MLE</td>       <th>  Df Model:          </th>   <td>     5</td>  \n",
       "</tr>\n",
       "<tr>\n",
       "  <th>Date:</th>            <td>Thu, 15 Apr 2021</td> <th>  Pseudo R-squ.:     </th>   <td>0.3093</td>  \n",
       "</tr>\n",
       "<tr>\n",
       "  <th>Time:</th>                <td>17:57:47</td>     <th>  Log-Likelihood:    </th>  <td> -559.30</td> \n",
       "</tr>\n",
       "<tr>\n",
       "  <th>converged:</th>             <td>True</td>       <th>  LL-Null:           </th>  <td> -809.80</td> \n",
       "</tr>\n",
       "<tr>\n",
       "  <th>Covariance Type:</th>     <td>nonrobust</td>    <th>  LLR p-value:       </th> <td>4.863e-106</td>\n",
       "</tr>\n",
       "</table>\n",
       "<table class=\"simpletable\">\n",
       "<tr>\n",
       "       <td></td>          <th>coef</th>     <th>std err</th>      <th>z</th>      <th>P>|z|</th>  <th>[0.025</th>    <th>0.975]</th>  \n",
       "</tr>\n",
       "<tr>\n",
       "  <th>const</th>       <td>    3.9800</td> <td>    0.374</td> <td>   10.652</td> <td> 0.000</td> <td>    3.248</td> <td>    4.712</td>\n",
       "</tr>\n",
       "<tr>\n",
       "  <th>age</th>         <td>   -0.0395</td> <td>    0.006</td> <td>   -6.399</td> <td> 0.000</td> <td>   -0.052</td> <td>   -0.027</td>\n",
       "</tr>\n",
       "<tr>\n",
       "  <th>fare</th>        <td>   -0.0023</td> <td>    0.002</td> <td>   -1.233</td> <td> 0.218</td> <td>   -0.006</td> <td>    0.001</td>\n",
       "</tr>\n",
       "<tr>\n",
       "  <th>gender_male</th> <td>   -2.5897</td> <td>    0.159</td> <td>  -16.241</td> <td> 0.000</td> <td>   -2.902</td> <td>   -2.277</td>\n",
       "</tr>\n",
       "<tr>\n",
       "  <th>class_2nd</th>   <td>   -1.4550</td> <td>    0.250</td> <td>   -5.821</td> <td> 0.000</td> <td>   -1.945</td> <td>   -0.965</td>\n",
       "</tr>\n",
       "<tr>\n",
       "  <th>class_3rd</th>   <td>   -2.6076</td> <td>    0.256</td> <td>  -10.181</td> <td> 0.000</td> <td>   -3.110</td> <td>   -2.106</td>\n",
       "</tr>\n",
       "</table>"
      ],
      "text/plain": [
       "<class 'statsmodels.iolib.summary.Summary'>\n",
       "\"\"\"\n",
       "                           Logit Regression Results                           \n",
       "==============================================================================\n",
       "Dep. Variable:         survived_dummy   No. Observations:                 1213\n",
       "Model:                          Logit   Df Residuals:                     1207\n",
       "Method:                           MLE   Df Model:                            5\n",
       "Date:                Thu, 15 Apr 2021   Pseudo R-squ.:                  0.3093\n",
       "Time:                        17:57:47   Log-Likelihood:                -559.30\n",
       "converged:                       True   LL-Null:                       -809.80\n",
       "Covariance Type:            nonrobust   LLR p-value:                4.863e-106\n",
       "===============================================================================\n",
       "                  coef    std err          z      P>|z|      [0.025      0.975]\n",
       "-------------------------------------------------------------------------------\n",
       "const           3.9800      0.374     10.652      0.000       3.248       4.712\n",
       "age            -0.0395      0.006     -6.399      0.000      -0.052      -0.027\n",
       "fare           -0.0023      0.002     -1.233      0.218      -0.006       0.001\n",
       "gender_male    -2.5897      0.159    -16.241      0.000      -2.902      -2.277\n",
       "class_2nd      -1.4550      0.250     -5.821      0.000      -1.945      -0.965\n",
       "class_3rd      -2.6076      0.256    -10.181      0.000      -3.110      -2.106\n",
       "===============================================================================\n",
       "\"\"\""
      ]
     },
     "execution_count": 71,
     "metadata": {},
     "output_type": "execute_result"
    }
   ],
   "source": [
    "sm_multi_logit = sm.Logit(df['survived_dummy'], sm.add_constant(predictors_2)).fit()\n",
    "\n",
    "sm_multi_logit.summary()"
   ]
  },
  {
   "cell_type": "code",
   "execution_count": 72,
   "id": "formal-governor",
   "metadata": {},
   "outputs": [
    {
     "name": "stdout",
     "output_type": "stream",
     "text": [
      "Intercept from minimize = 3.980020644675494\n",
      "Slopes from minimize = [-3.95091757e-02 -2.33428489e-03 -2.58968059e+00 -1.45501564e+00\n",
      " -2.60764803e+00]\n"
     ]
    }
   ],
   "source": [
    "print('Intercept from minimize =', intercept)\n",
    "print('Slopes from minimize =', slopes)"
   ]
  },
  {
   "cell_type": "markdown",
   "id": "certain-customs",
   "metadata": {},
   "source": [
    "*Note: some of the slopes from minimize are given in scientific notation. To convert this to normal notation, move the digits as directed by the value that comes after e. So for e-02 move the digits two places in the negative direction. So -3.95091757e-02 is -0.0395091757 etc. If you do this, you'll see that minimize obtained the same coefficients as Statsmodels...*\n",
    "\n",
    "To interpret this coefficients, it is much better to convert them to odds ratios:"
   ]
  },
  {
   "cell_type": "code",
   "execution_count": 73,
   "id": "innocent-fiber",
   "metadata": {},
   "outputs": [
    {
     "name": "stdout",
     "output_type": "stream",
     "text": [
      "53.51813908070082\n",
      "[0.96126113 0.99766844 0.07504401 0.23339671 0.0737077 ]\n"
     ]
    }
   ],
   "source": [
    "print(np.exp(intercept))\n",
    "print(np.exp(slopes))"
   ]
  },
  {
   "cell_type": "markdown",
   "id": "generic-being",
   "metadata": {},
   "source": [
    "We can also do this with the coefficients from Statsmodels:"
   ]
  },
  {
   "cell_type": "code",
   "execution_count": 74,
   "id": "dress-dividend",
   "metadata": {},
   "outputs": [
    {
     "data": {
      "text/plain": [
       "const          53.517916\n",
       "age             0.961261\n",
       "fare            0.997668\n",
       "gender_male     0.075044\n",
       "class_2nd       0.233397\n",
       "class_3rd       0.073708\n",
       "dtype: float64"
      ]
     },
     "execution_count": 74,
     "metadata": {},
     "output_type": "execute_result"
    }
   ],
   "source": [
    "np.exp(sm_multi_logit.params)"
   ]
  },
  {
   "cell_type": "markdown",
   "id": "built-editing",
   "metadata": {},
   "source": [
    "The intercept is more difficult to interpret than for the simple model with one categorical predictor. It now tells us the predicted odds ratio of survival when *all* the predictors == 0. So that would be the odds ratio of survival for a passenger 0 years of age, who paid 0 fare, who was female (`gender_male == 0`), and who was `1st` class (`class_2nd == 0` and `class_3rd == 0)`.\n",
    "\n",
    "The slope for each predictor tell us how the odds ratio of survival *changes* for a one unit increase in the predictor.\n",
    "\n",
    "So for `age`, for every one unit increase in `age` the odds ratio is 0.961261 times as large, meaning it gets smaller as `age` increases. We can see that this is consistent with a negative slope for `age` before it was transformed.\n",
    "\n",
    "For `fare`, for every one unit increase in `fare` the odds ratio is 0.997668 times as large, meaning it gets smaller as `fare` increases. We can see that this is consistent with a negative slope for `fare` before it was transformed. \n",
    "\n",
    "Interestingly, this is the opposite relationship to the one we observed when predicted `survived` from `fare` by itself. As with linear regression, using multiple predictors in logistic regression gives us slopes which control for the effects of the other predictors. In this case, the relationship between `fare` and `survived` has reversed when we control for the other predictors. Also you look at the associated p-value in the Statsmodels summary, under `P>|z|` we can see that `fare` is no longer a significant predictor of survival, once we control for the other relationships.\n",
    "\n",
    "In this instance, `class` is a better predictor of surival than `fare`. Graphical inspection shows us that there were a number of 1st class passengers who paid very low fares, for whatever reason. Look between 0 and 100 on the x axis on the three graphs below to verify this.\n",
    "\n",
    "Essentially, when `fare` is equal between passengers, the higher class passengers were more likely to survive than lower class passengers who paid the same `fare`.\n",
    "\n",
    "That is why `fare` is not a significant predictor of survival once we control for class. One way of thinking of this is that, if we know someone's `class`, this has more predictive power for their survival than `fare` does."
   ]
  },
  {
   "cell_type": "code",
   "execution_count": 75,
   "id": "overhead-direction",
   "metadata": {},
   "outputs": [
    {
     "data": {
      "image/png": "[encoded data removed]",
      "text/plain": [
       "<Figure size 432x288 with 1 Axes>"
      ]
     },
     "metadata": {},
     "output_type": "display_data"
    },
    {
     "data": {
      "image/png": "[encoded data removed]",
      "text/plain": [
       "<Figure size 432x288 with 1 Axes>"
      ]
     },
     "metadata": {},
     "output_type": "display_data"
    },
    {
     "data": {
      "image/png": "[encoded data removed]",
      "text/plain": [
       "<Figure size 432x288 with 1 Axes>"
      ]
     },
     "metadata": {},
     "output_type": "display_data"
    }
   ],
   "source": [
    "# ignore this code, it just generates the plots below\n",
    "plt.figure()\n",
    "plt.hist(df[df['class'] == '3rd']['fare'], alpha = 0.5, color = 'gray', label = '3rd class')\n",
    "plt.xlabel('Fare')\n",
    "plt.ylabel('Frequency')\n",
    "plt.xlim([np.min(df['fare']), np.max(df['fare'] + 30)])\n",
    "plt.legend()\n",
    "plt.figure()\n",
    "plt.hist(df[df['class'] == '2nd']['fare'], alpha = 0.5, color = 'black', label = '2nd class')\n",
    "plt.xlabel('Fare')\n",
    "plt.ylabel('Frequency')\n",
    "plt.xlim([np.min(df['fare']), np.max(df['fare'] + 30)])\n",
    "plt.legend()\n",
    "plt.figure()\n",
    "plt.hist(df[df['class'] == '1st']['fare'], alpha = 0.5, color = 'gold', label = '1st class')\n",
    "plt.xlabel('Fare')\n",
    "plt.ylabel('Frequency')\n",
    "plt.xlim([np.min(df['fare']), np.max(df['fare'] + 30)])\n",
    "plt.legend();"
   ]
  },
  {
   "cell_type": "markdown",
   "id": "analyzed-sandwich",
   "metadata": {},
   "source": [
    "For `gender_male` the slope tells you how the odds ratio differs between males (`gender_male == 1`) and females (`gender_male == 0`). The odds ratio of survival is 0.075044 times as large for males as females. One way of verbally interpreting this is to say that the odds of survival are 7.5% as large for males as for females. \n",
    "\n",
    "Again we can see that this is consistent with graphical inspection of the `gender` and `survived`:"
   ]
  },
  {
   "cell_type": "code",
   "execution_count": 76,
   "id": "advisory-newark",
   "metadata": {},
   "outputs": [
    {
     "data": {
      "text/html": [
       "<div>\n",
       "<style scoped>\n",
       "    .dataframe tbody tr th:only-of-type {\n",
       "        vertical-align: middle;\n",
       "    }\n",
       "\n",
       "    .dataframe tbody tr th {\n",
       "        vertical-align: top;\n",
       "    }\n",
       "\n",
       "    .dataframe thead th {\n",
       "        text-align: right;\n",
       "    }\n",
       "</style>\n",
       "<table border=\"1\" class=\"dataframe\">\n",
       "  <thead>\n",
       "    <tr style=\"text-align: right;\">\n",
       "      <th>survived</th>\n",
       "      <th>no</th>\n",
       "      <th>yes</th>\n",
       "    </tr>\n",
       "    <tr>\n",
       "      <th>gender</th>\n",
       "      <th></th>\n",
       "      <th></th>\n",
       "    </tr>\n",
       "  </thead>\n",
       "  <tbody>\n",
       "    <tr>\n",
       "      <th>female</th>\n",
       "      <td>0.272109</td>\n",
       "      <td>0.727891</td>\n",
       "    </tr>\n",
       "    <tr>\n",
       "      <th>male</th>\n",
       "      <td>0.806995</td>\n",
       "      <td>0.193005</td>\n",
       "    </tr>\n",
       "    <tr>\n",
       "      <th>All</th>\n",
       "      <td>0.612531</td>\n",
       "      <td>0.387469</td>\n",
       "    </tr>\n",
       "  </tbody>\n",
       "</table>\n",
       "</div>"
      ],
      "text/plain": [
       "survived        no       yes\n",
       "gender                      \n",
       "female    0.272109  0.727891\n",
       "male      0.806995  0.193005\n",
       "All       0.612531  0.387469"
      ]
     },
     "metadata": {},
     "output_type": "display_data"
    },
    {
     "data": {
      "image/png": "[encoded data removed]",
      "text/plain": [
       "<Figure size 432x288 with 1 Axes>"
      ]
     },
     "metadata": {},
     "output_type": "display_data"
    }
   ],
   "source": [
    "cross_tab_gender_norm = pd.crosstab(df['gender'], df['survived'], margins = True, normalize = 'index')\n",
    "\n",
    "display(cross_tab_gender_norm)\n",
    "\n",
    "cross_tab_gender_norm.plot.bar(stacked = True);"
   ]
  },
  {
   "cell_type": "markdown",
   "id": "abstract-aruba",
   "metadata": {},
   "source": [
    "For `class_2nd`, given that we used dummy coding which dropped `1st` class, we must interpret the slope with reference to the `1st` class category. The slope for `class_2nd` tells us how much the odds ratio of survival differs between 1st class and 2nd class passengers. It tells us that the odds ratio was 0.233397 times as large for `2nd` class relative to `1st` class passengers. Another way of saying this is that the odds ratio of survival for `2nd` class passengers was only 23% as large as the odds ratio for `1st` class passengers.\n",
    "\n",
    "The interpretation of the slope for `class_3rd` is the same. It tells us that the odds ratio was 0.073708 times as large for `3rd` class relative to `1st` class passengers. Alternatively, the odds ratio of survival for `3rd` class passengers was 7% as large as that for `1st` class passengers."
   ]
  },
  {
   "cell_type": "code",
   "execution_count": 77,
   "id": "several-paragraph",
   "metadata": {},
   "outputs": [
    {
     "data": {
      "image/png": "[encoded data removed]",
      "text/plain": [
       "<Figure size 432x288 with 1 Axes>"
      ]
     },
     "metadata": {},
     "output_type": "display_data"
    }
   ],
   "source": [
    "cross_tab_norm.plot.bar(stacked = True);"
   ]
  },
  {
   "cell_type": "code",
   "execution_count": null,
   "id": "wicked-watts",
   "metadata": {},
   "outputs": [],
   "source": []
  }
 ],
 "metadata": {
  "jupytext": {
   "formats": "ipynb,Rmd",
   "text_representation": {
    "extension": ".Rmd",
    "format_name": "rmarkdown",
    "format_version": "1.2",
    "jupytext_version": "1.10.1"
   }
  },
  "kernelspec": {
   "display_name": "Python 3",
   "language": "python",
   "name": "python3"
  },
  "language_info": {
   "codemirror_mode": {
    "name": "ipython",
    "version": 3
   },
   "file_extension": ".py",
   "mimetype": "text/x-python",
   "name": "python",
   "nbconvert_exporter": "python",
   "pygments_lexer": "ipython3",
   "version": "3.7.9"
  }
 },
 "nbformat": 4,
 "nbformat_minor": 5
}
